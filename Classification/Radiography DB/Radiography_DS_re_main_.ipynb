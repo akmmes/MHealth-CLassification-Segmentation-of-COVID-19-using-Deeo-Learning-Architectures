{
  "nbformat": 4,
  "nbformat_minor": 0,
  "metadata": {
    "colab": {
      "name": "Radiography_DS_re_main_.ipynb",
      "provenance": [],
      "collapsed_sections": [],
      "toc_visible": true
    },
    "kernelspec": {
      "display_name": "Python 3",
      "name": "python3"
    },
    "language_info": {
      "name": "python"
    },
    "accelerator": "GPU"
  },
  "cells": [
    {
      "cell_type": "markdown",
      "metadata": {
        "id": "35YAvgbZhzYS"
      },
      "source": [
        "# Importing Datasets"
      ]
    },
    {
      "cell_type": "code",
      "metadata": {
        "id": "YJZWeExSd6us"
      },
      "source": [
        "import os\n",
        "os.environ['KAGGLE_CONFIG_DIR'] = '/content'\n",
        "\n",
        "!kaggle datasets download -d rdxesss/covid19-rd\n",
        "\n",
        "!unzip \\*.zip && rm *.zip"
      ],
      "execution_count": null,
      "outputs": []
    },
    {
      "cell_type": "markdown",
      "metadata": {
        "id": "yBOUBGimooMw"
      },
      "source": [
        "Importing necessary packages"
      ]
    },
    {
      "cell_type": "code",
      "metadata": {
        "colab": {
          "base_uri": "https://localhost:8080/"
        },
        "id": "pca3r2NQUxoa",
        "outputId": "b95aa716-cce3-48ec-cf45-d31f974e7a24"
      },
      "source": [
        "# Install for spliting folder\n",
        "!pip install split-folders\n",
        "!pip install split-folders tqdm"
      ],
      "execution_count": null,
      "outputs": [
        {
          "output_type": "stream",
          "name": "stdout",
          "text": [
            "Collecting split-folders\n",
            "  Downloading split_folders-0.4.3-py3-none-any.whl (7.4 kB)\n",
            "Installing collected packages: split-folders\n",
            "Successfully installed split-folders-0.4.3\n",
            "Requirement already satisfied: split-folders in /usr/local/lib/python3.7/dist-packages (0.4.3)\n",
            "Requirement already satisfied: tqdm in /usr/local/lib/python3.7/dist-packages (4.62.3)\n"
          ]
        }
      ]
    },
    {
      "cell_type": "code",
      "metadata": {
        "id": "btUk4oXJeTai"
      },
      "source": [
        "import keras\n",
        "from keras.models import *\n",
        "from keras.layers import *\n",
        "from keras.optimizers import *\n",
        "from keras.preprocessing.image import ImageDataGenerator\n",
        "import tensorflow as tf\n",
        "from tensorflow import keras\n",
        "\n",
        "\n",
        "import os\n",
        "import numpy as np\n",
        "from keras.preprocessing import image\n",
        "import matplotlib.pyplot as plt\n",
        "from sklearn.metrics import confusion_matrix\n",
        "import seaborn as sns\n",
        "\n",
        "\n",
        "import shutil\n",
        "import splitfolders\n",
        "import zipfile,os\n",
        "import pandas as pd\n",
        "\n",
        "from sklearn.model_selection import train_test_split\n",
        "from google.colab import files\n",
        "import matplotlib.image as mpimg\n",
        "%matplotlib inline"
      ],
      "execution_count": null,
      "outputs": []
    },
    {
      "cell_type": "code",
      "metadata": {
        "colab": {
          "base_uri": "https://localhost:8080/"
        },
        "id": "qDna7qSiU2Ll",
        "outputId": "2edca380-b8b1-4c50-c262-889aba87bd1a"
      },
      "source": [
        "#3 class\n",
        "splitfolders.ratio('/content/COVID-19_Radiography_Dataset/', output=\"/content/COVID-19_Radiography_Dataset/output_result\", ratio=(.7, .2, .1))"
      ],
      "execution_count": null,
      "outputs": [
        {
          "output_type": "stream",
          "name": "stderr",
          "text": [
            "Copying files: 15153 files [00:04, 3521.24 files/s]\n"
          ]
        }
      ]
    },
    {
      "cell_type": "markdown",
      "metadata": {
        "id": "d9h3loc-okI0"
      },
      "source": [
        "Loading dataset"
      ]
    },
    {
      "cell_type": "code",
      "metadata": {
        "id": "ncbrUX-KdGKy"
      },
      "source": [
        "#resnet and nasnet 224 and 331\n",
        "img_width, img_height = 224,224\n",
        "train_data_dir = '/content/COVID-19_Radiography_Dataset/output_result/train'\n",
        "validation_data_dir = '/content/COVID-19_Radiography_Dataset/output_result/val'\n",
        "test_data_dir = '/content/COVID-19_Radiography_Dataset/output_result/test'\n",
        "batch_size = 32"
      ],
      "execution_count": null,
      "outputs": []
    },
    {
      "cell_type": "markdown",
      "metadata": {
        "id": "5PjzpwlokR-B"
      },
      "source": [
        "Data augmentation"
      ]
    },
    {
      "cell_type": "code",
      "metadata": {
        "colab": {
          "base_uri": "https://localhost:8080/"
        },
        "id": "SSNn__3qefN7",
        "outputId": "948f650a-b7b1-49b4-a767-e5f1316fb16f"
      },
      "source": [
        "#data augmentation\n",
        "\n",
        "datagen = ImageDataGenerator(\n",
        "    rescale=1. / 255,\n",
        "    shear_range=0.2,\n",
        "    zoom_range=0.2,\n",
        "    horizontal_flip=True,\n",
        "    rotation_range=20,\n",
        "    width_shift_range=0.2,\n",
        "    height_shift_range=0.2,\n",
        "    # validation_split=0.2\n",
        "    )\n",
        "\n",
        "train_generator = datagen.flow_from_directory(\n",
        "    train_data_dir,\n",
        "    target_size=(img_width, img_height),\n",
        "    batch_size=batch_size,\n",
        "    # subset=\"training\",\n",
        "    class_mode='categorical',     #binary\n",
        ")\n",
        "\n",
        "\n",
        "\n",
        "\n",
        "val_datagen = ImageDataGenerator(\n",
        "    rescale=1. / 255,\n",
        "    shear_range=0.2,\n",
        "    zoom_range=0.2,\n",
        "    horizontal_flip=True,\n",
        "    rotation_range=20,\n",
        "    width_shift_range=0.2,\n",
        "    height_shift_range=0.2,\n",
        "    # validation_split=0.2\n",
        "    )\n",
        "\n",
        "validation_generator = datagen.flow_from_directory(\n",
        "    validation_data_dir,\n",
        "    target_size=(img_width, img_height),\n",
        "    batch_size=batch_size,\n",
        "    # subset=\"validation\",\n",
        "    class_mode='categorical'      #binary\n",
        ")\n",
        "\n",
        "\n",
        "test_datagen = ImageDataGenerator(rescale=1./255)\n",
        "test_generator = datagen.flow_from_directory(\n",
        "    test_data_dir,\n",
        "    target_size=(img_width, img_height),\n",
        "    batch_size=batch_size,\n",
        "    # subset=\"validation\",\n",
        "    class_mode='categorical'      #binary\n",
        ")"
      ],
      "execution_count": null,
      "outputs": [
        {
          "output_type": "stream",
          "name": "stdout",
          "text": [
            "Found 10606 images belonging to 3 classes.\n",
            "Found 3030 images belonging to 3 classes.\n",
            "Found 1517 images belonging to 3 classes.\n"
          ]
        }
      ]
    },
    {
      "cell_type": "code",
      "metadata": {
        "colab": {
          "base_uri": "https://localhost:8080/"
        },
        "id": "FsCWw13Vehhh",
        "outputId": "4ba5ec17-37e5-4071-da86-11ddc9e7765c"
      },
      "source": [
        "train_generator.class_indices"
      ],
      "execution_count": null,
      "outputs": [
        {
          "output_type": "execute_result",
          "data": {
            "text/plain": [
              "{'COVID': 0, 'Normal': 1, 'Viral Pneumonia': 2}"
            ]
          },
          "metadata": {},
          "execution_count": 7
        }
      ]
    },
    {
      "cell_type": "code",
      "metadata": {
        "colab": {
          "base_uri": "https://localhost:8080/"
        },
        "id": "Q3RGOLRUejwW",
        "outputId": "50d86e9a-88c4-4bab-d1b0-c1cca0576761"
      },
      "source": [
        "validation_generator.class_indices"
      ],
      "execution_count": null,
      "outputs": [
        {
          "output_type": "execute_result",
          "data": {
            "text/plain": [
              "{'COVID': 0, 'Normal': 1, 'Viral Pneumonia': 2}"
            ]
          },
          "metadata": {},
          "execution_count": 8
        }
      ]
    },
    {
      "cell_type": "code",
      "metadata": {
        "colab": {
          "base_uri": "https://localhost:8080/"
        },
        "id": "ku37AvietJrn",
        "outputId": "684c3850-4c54-40ee-c6e1-8953458cd583"
      },
      "source": [
        "test_generator.class_indices"
      ],
      "execution_count": null,
      "outputs": [
        {
          "output_type": "execute_result",
          "data": {
            "text/plain": [
              "{'COVID': 0, 'Normal': 1, 'Viral Pneumonia': 2}"
            ]
          },
          "metadata": {},
          "execution_count": 9
        }
      ]
    },
    {
      "cell_type": "markdown",
      "metadata": {
        "id": "Yo-tYRjDkVY2"
      },
      "source": [
        "# Xception..."
      ]
    },
    {
      "cell_type": "code",
      "metadata": {
        "colab": {
          "base_uri": "https://localhost:8080/"
        },
        "id": "w30hzOppeleN",
        "outputId": "70461db7-57a3-4a31-a9c2-a23f37ecc3c0"
      },
      "source": [
        "base_model = keras.applications.Xception(\n",
        "    weights='imagenet',  # Load weights pre-trained on ImageNet.\n",
        "    input_shape=(240, 240, 3),\n",
        "    include_top=False)  # Do not include the ImageNet classifier at the top."
      ],
      "execution_count": null,
      "outputs": [
        {
          "name": "stdout",
          "output_type": "stream",
          "text": [
            "Downloading data from https://storage.googleapis.com/tensorflow/keras-applications/xception/xception_weights_tf_dim_ordering_tf_kernels_notop.h5\n",
            "83689472/83683744 [==============================] - 1s 0us/step\n",
            "83697664/83683744 [==============================] - 1s 0us/step\n"
          ]
        }
      ]
    },
    {
      "cell_type": "code",
      "metadata": {
        "id": "fpmNCD3weq2b"
      },
      "source": [
        "base_model.summary()"
      ],
      "execution_count": null,
      "outputs": []
    },
    {
      "cell_type": "code",
      "metadata": {
        "id": "6foLCSSCet2X"
      },
      "source": [
        "base_model.trainable = False"
      ],
      "execution_count": null,
      "outputs": []
    },
    {
      "cell_type": "code",
      "metadata": {
        "id": "KwwfEjwKfdkN"
      },
      "source": [
        "inputs = keras.Input(shape=(240, 240, 3))\n",
        "# We make sure that the base_model is running in inference mode here,\n",
        "# by passing `training=False`. This is important for fine-tuning, as you will\n",
        "# learn in a few paragraphs.\n",
        "x = base_model(inputs, training=False)\n",
        "# Convert features of shape `base_model.output_shape[1:]` to vectors\n",
        "x = keras.layers.GlobalAveragePooling2D()(x)\n",
        "# A Dense classifier with a single unit (binary classification)\n",
        "outputs = keras.layers.Dense(3)(x)\n",
        "model = keras.Model(inputs, outputs)"
      ],
      "execution_count": null,
      "outputs": []
    },
    {
      "cell_type": "markdown",
      "metadata": {
        "id": "Pk8vXryVkXtY"
      },
      "source": [
        "Model Training"
      ]
    },
    {
      "cell_type": "code",
      "metadata": {
        "id": "fvoA1DFtZe0G"
      },
      "source": [
        "# from keras.callbacks import EarlyStopping\n",
        "# from keras.callbacks import ReduceLROnPlateau\n",
        "from keras.callbacks import CSVLogger\n",
        "from keras.callbacks import ModelCheckpoint\n",
        "\n",
        "\n",
        "# # Define callbacks for learning rate scheduling, logging and best checkpoints saving\n",
        "callbackss = [\n",
        "    ModelCheckpoint('/content/drive/MyDrive/Classification/Radiography database/Models/Xception/Xception.h5', monitor='val_categorical_accuracy', save_best_only=True, mode='max'),\n",
        "#     ReduceLROnPlateau(monitor='val_Dice_coef', factor=0.1, verbose=1, patience=5, mode='max'), ## new_lr = lr * factor # 5\n",
        "#     EarlyStopping(monitor='val_Dice_coef', min_delta=0, verbose=1, patience=15, mode='max', restore_best_weights=True), # 8\n",
        "    CSVLogger('/content/drive/MyDrive/Classification/Radiography database/CSV/Xception.csv',  separator=\",\")\n",
        "]"
      ],
      "execution_count": null,
      "outputs": []
    },
    {
      "cell_type": "code",
      "metadata": {
        "colab": {
          "base_uri": "https://localhost:8080/"
        },
        "id": "KkFmTr-Ke8Se",
        "outputId": "7bfaf057-abcf-41d3-e4e2-6a6558fd327b"
      },
      "source": [
        "from keras.callbacks import History\n",
        "history = History()\n",
        "\n",
        "\n",
        "model.compile(optimizer=keras.optimizers.Adam(),\n",
        "              loss=keras.losses.CategoricalCrossentropy(from_logits=True),\n",
        "              metrics=[keras.metrics.CategoricalAccuracy()])\n",
        "model.fit_generator(train_generator,\n",
        "      epochs=10,callbacks=[history],\n",
        "      validation_data=validation_generator,\n",
        "      validation_steps=10)"
      ],
      "execution_count": null,
      "outputs": [
        {
          "name": "stderr",
          "output_type": "stream",
          "text": [
            "/usr/local/lib/python3.7/dist-packages/keras/engine/training.py:1972: UserWarning: `Model.fit_generator` is deprecated and will be removed in a future version. Please use `Model.fit`, which supports generators.\n",
            "  warnings.warn('`Model.fit_generator` is deprecated and '\n"
          ]
        },
        {
          "name": "stdout",
          "output_type": "stream",
          "text": [
            "Epoch 1/10\n",
            "332/332 [==============================] - 202s 593ms/step - loss: 0.4425 - categorical_accuracy: 0.8222 - val_loss: 0.4146 - val_categorical_accuracy: 0.8438\n",
            "Epoch 2/10\n",
            "332/332 [==============================] - 196s 591ms/step - loss: 0.3472 - categorical_accuracy: 0.8630 - val_loss: 0.3297 - val_categorical_accuracy: 0.8656\n",
            "Epoch 3/10\n",
            "332/332 [==============================] - 195s 586ms/step - loss: 0.3164 - categorical_accuracy: 0.8789 - val_loss: 0.3186 - val_categorical_accuracy: 0.8750\n",
            "Epoch 4/10\n",
            "332/332 [==============================] - 195s 588ms/step - loss: 0.3087 - categorical_accuracy: 0.8803 - val_loss: 0.2938 - val_categorical_accuracy: 0.8813\n",
            "Epoch 5/10\n",
            "332/332 [==============================] - 195s 587ms/step - loss: 0.2966 - categorical_accuracy: 0.8886 - val_loss: 0.3423 - val_categorical_accuracy: 0.8594\n",
            "Epoch 6/10\n",
            "332/332 [==============================] - 193s 581ms/step - loss: 0.2909 - categorical_accuracy: 0.8867 - val_loss: 0.2817 - val_categorical_accuracy: 0.8938\n",
            "Epoch 7/10\n",
            "332/332 [==============================] - 197s 593ms/step - loss: 0.2878 - categorical_accuracy: 0.8919 - val_loss: 0.2962 - val_categorical_accuracy: 0.8906\n",
            "Epoch 8/10\n",
            "332/332 [==============================] - 200s 603ms/step - loss: 0.2782 - categorical_accuracy: 0.8907 - val_loss: 0.2963 - val_categorical_accuracy: 0.8781\n",
            "Epoch 9/10\n",
            "332/332 [==============================] - 199s 598ms/step - loss: 0.2731 - categorical_accuracy: 0.8913 - val_loss: 0.2731 - val_categorical_accuracy: 0.8875\n",
            "Epoch 10/10\n",
            "332/332 [==============================] - 202s 609ms/step - loss: 0.2639 - categorical_accuracy: 0.9010 - val_loss: 0.2505 - val_categorical_accuracy: 0.9062\n"
          ]
        },
        {
          "data": {
            "text/plain": [
              "<keras.callbacks.History at 0x7f982ebb7950>"
            ]
          },
          "execution_count": 40,
          "metadata": {},
          "output_type": "execute_result"
        }
      ]
    },
    {
      "cell_type": "code",
      "metadata": {
        "colab": {
          "base_uri": "https://localhost:8080/"
        },
        "id": "l0R_IkZNgze8",
        "outputId": "2f125202-4d9c-4352-9c43-a60c088f61b3"
      },
      "source": [
        "print(history.history.keys())"
      ],
      "execution_count": null,
      "outputs": [
        {
          "name": "stdout",
          "output_type": "stream",
          "text": [
            "dict_keys(['loss', 'categorical_accuracy', 'val_loss', 'val_categorical_accuracy'])\n"
          ]
        }
      ]
    },
    {
      "cell_type": "code",
      "metadata": {
        "colab": {
          "base_uri": "https://localhost:8080/"
        },
        "id": "HPu3hZqqgzX4",
        "outputId": "393181ab-1804-4c4b-8949-3532b379bc28"
      },
      "source": [
        "model.evaluate_generator(train_generator)"
      ],
      "execution_count": null,
      "outputs": [
        {
          "name": "stderr",
          "output_type": "stream",
          "text": [
            "/usr/local/lib/python3.7/dist-packages/keras/engine/training.py:2006: UserWarning: `Model.evaluate_generator` is deprecated and will be removed in a future version. Please use `Model.evaluate`, which supports generators.\n",
            "  warnings.warn('`Model.evaluate_generator` is deprecated and '\n"
          ]
        },
        {
          "data": {
            "text/plain": [
              "[0.2691879868507385, 0.8942108154296875]"
            ]
          },
          "execution_count": 42,
          "metadata": {},
          "output_type": "execute_result"
        }
      ]
    },
    {
      "cell_type": "code",
      "metadata": {
        "colab": {
          "base_uri": "https://localhost:8080/"
        },
        "id": "z3TLWdHMQSia",
        "outputId": "86940f39-85ee-43e0-ad91-55d6089dfe01"
      },
      "source": [
        "model.evaluate_generator(validation_generator)"
      ],
      "execution_count": null,
      "outputs": [
        {
          "name": "stderr",
          "output_type": "stream",
          "text": [
            "/usr/local/lib/python3.7/dist-packages/keras/engine/training.py:2006: UserWarning: `Model.evaluate_generator` is deprecated and will be removed in a future version. Please use `Model.evaluate`, which supports generators.\n",
            "  warnings.warn('`Model.evaluate_generator` is deprecated and '\n"
          ]
        },
        {
          "data": {
            "text/plain": [
              "[0.2697725296020508, 0.8924092650413513]"
            ]
          },
          "execution_count": 43,
          "metadata": {},
          "output_type": "execute_result"
        }
      ]
    },
    {
      "cell_type": "code",
      "metadata": {
        "colab": {
          "base_uri": "https://localhost:8080/"
        },
        "id": "o4gHzk67WoSU",
        "outputId": "cafd6742-1ebe-436e-98ad-05e607d102d9"
      },
      "source": [
        "model.evaluate(test_generator)"
      ],
      "execution_count": null,
      "outputs": [
        {
          "name": "stdout",
          "output_type": "stream",
          "text": [
            "76/76 [==============================] - 31s 399ms/step - loss: 0.2799 - categorical_accuracy: 0.8939\n"
          ]
        },
        {
          "data": {
            "text/plain": [
              "[0.279920369386673, 0.8938694596290588]"
            ]
          },
          "execution_count": 53,
          "metadata": {},
          "output_type": "execute_result"
        }
      ]
    },
    {
      "cell_type": "markdown",
      "metadata": {
        "id": "ilbkxU9xjQoq"
      },
      "source": [
        "Plooting the results\n"
      ]
    },
    {
      "cell_type": "code",
      "metadata": {
        "colab": {
          "base_uri": "https://localhost:8080/",
          "height": 295
        },
        "id": "m-diagg0QTrh",
        "outputId": "ea6cbf04-22ef-491e-8cd9-88d432dfe6f0"
      },
      "source": [
        "#plooting the results\n",
        "\n",
        "import matplotlib.pyplot as plt\n",
        "\n",
        "#summarize history for accuracy\n",
        "plt.plot(history.history['categorical_accuracy'])\n",
        "plt.plot(history.history['val_categorical_accuracy'])\n",
        "plt.title('model accuracy')\n",
        "plt.ylabel('accuracy')\n",
        "plt.xlabel('epoch')\n",
        "plt.legend(['train', 'test'], loc='upper left')\n",
        "plt.show()"
      ],
      "execution_count": null,
      "outputs": [
        {
          "data": {
            "image/png": "[encoded data removed]",
            "text/plain": [
              "<Figure size 432x288 with 1 Axes>"
            ]
          },
          "metadata": {},
          "output_type": "display_data"
        }
      ]
    },
    {
      "cell_type": "code",
      "metadata": {
        "colab": {
          "base_uri": "https://localhost:8080/",
          "height": 295
        },
        "id": "HwHMStpJQWRS",
        "outputId": "c7e19e06-d7d2-44c4-b2f7-16489ceffc79"
      },
      "source": [
        "plt.plot(history.history['loss'])\n",
        "plt.plot(history.history['val_loss'])\n",
        "plt.title('model loss')\n",
        "plt.ylabel('loss')\n",
        "plt.xlabel('epoch')\n",
        "plt.legend(['train', 'test'], loc='upper left')\n",
        "plt.show()"
      ],
      "execution_count": null,
      "outputs": [
        {
          "data": {
            "image/png": "[encoded data removed]",
            "text/plain": [
              "<Figure size 432x288 with 1 Axes>"
            ]
          },
          "metadata": {},
          "output_type": "display_data"
        }
      ]
    },
    {
      "cell_type": "markdown",
      "metadata": {
        "id": "YeAMhhSOBTpL"
      },
      "source": [
        "Validtion & Confusion Matrix"
      ]
    },
    {
      "cell_type": "code",
      "metadata": {
        "colab": {
          "base_uri": "https://localhost:8080/",
          "height": 352
        },
        "id": "nF788_jPBXG_",
        "outputId": "c88ed3ef-a82c-4967-c0d6-532bb3622880"
      },
      "source": [
        "test_generator = datagen.flow_from_directory(\n",
        "    directory = test_data_dir,\n",
        "    class_mode='categorical',\n",
        "   #seed = 42,\n",
        "    batch_size = 20, \n",
        "    shuffle = False,\n",
        "    # subset = 'validation'\n",
        ")\n",
        "\n",
        "# Obtain predictions\n",
        "pred = model.predict_generator(test_generator) # Gives class probabilities\n",
        "pred = np.round(pred) # Gives one-hot encoded classes\n",
        "pred = np.argmax(pred, axis = 1) # Gives class labels\n",
        "\n",
        "# Obtain actual labels\n",
        "actual = test_generator.classes\n",
        "    \n",
        "# Now plot matrix\n",
        "cm = confusion_matrix(actual, pred, labels = [0, 1, 2])\n",
        "sns.heatmap(\n",
        "    cm, \n",
        "    cmap=\"Blues\",\n",
        "    annot = True, \n",
        "    fmt = \"d\"\n",
        ")\n",
        "plt.title('Confusion Matrix')\n",
        "plt.show()"
      ],
      "execution_count": null,
      "outputs": [
        {
          "name": "stdout",
          "output_type": "stream",
          "text": [
            "Found 1517 images belonging to 3 classes.\n"
          ]
        },
        {
          "name": "stderr",
          "output_type": "stream",
          "text": [
            "/usr/local/lib/python3.7/dist-packages/keras/engine/training.py:2035: UserWarning: `Model.predict_generator` is deprecated and will be removed in a future version. Please use `Model.predict`, which supports generators.\n",
            "  warnings.warn('`Model.predict_generator` is deprecated and '\n"
          ]
        },
        {
          "data": {
            "image/png": "[encoded data removed]",
            "text/plain": [
              "<Figure size 432x288 with 2 Axes>"
            ]
          },
          "metadata": {},
          "output_type": "display_data"
        }
      ]
    },
    {
      "cell_type": "code",
      "metadata": {
        "colab": {
          "base_uri": "https://localhost:8080/"
        },
        "id": "UHukSTf8ilnh",
        "outputId": "6e7d8d24-b9d5-461e-9957-96b5363f0920"
      },
      "source": [
        "from sklearn.metrics import classification_report\n",
        "print(classification_report(actual, pred))"
      ],
      "execution_count": null,
      "outputs": [
        {
          "name": "stdout",
          "output_type": "stream",
          "text": [
            "              precision    recall  f1-score   support\n",
            "\n",
            "           0       0.77      0.80      0.79       362\n",
            "           1       0.90      0.92      0.91      1020\n",
            "           2       0.96      0.73      0.83       135\n",
            "\n",
            "    accuracy                           0.87      1517\n",
            "   macro avg       0.88      0.82      0.84      1517\n",
            "weighted avg       0.88      0.87      0.87      1517\n",
            "\n"
          ]
        }
      ]
    },
    {
      "cell_type": "markdown",
      "metadata": {
        "id": "ZRE8hhsojeRc"
      },
      "source": [
        "# Resnet101V2..."
      ]
    },
    {
      "cell_type": "code",
      "metadata": {
        "colab": {
          "base_uri": "https://localhost:8080/"
        },
        "id": "GAH7_GjajeR9",
        "outputId": "12c922aa-8e9e-4bb8-cea8-101fe4eba527"
      },
      "source": [
        "base_model = keras.applications.ResNet101V2(\n",
        "    weights='imagenet',  # Load weights pre-trained on ImageNet.\n",
        "    input_shape=(240, 240, 3),\n",
        "    include_top=False)  # Do not include the ImageNet classifier at the top."
      ],
      "execution_count": null,
      "outputs": [
        {
          "name": "stdout",
          "output_type": "stream",
          "text": [
            "Downloading data from https://storage.googleapis.com/tensorflow/keras-applications/resnet/resnet101v2_weights_tf_dim_ordering_tf_kernels_notop.h5\n",
            "171319296/171317808 [==============================] - 2s 0us/step\n",
            "171327488/171317808 [==============================] - 2s 0us/step\n"
          ]
        }
      ]
    },
    {
      "cell_type": "code",
      "metadata": {
        "id": "rqgPbKXbjeR_"
      },
      "source": [
        "base_model.summary()"
      ],
      "execution_count": null,
      "outputs": []
    },
    {
      "cell_type": "code",
      "metadata": {
        "id": "AN_pKU0VjeSA"
      },
      "source": [
        "base_model.trainable = False"
      ],
      "execution_count": null,
      "outputs": []
    },
    {
      "cell_type": "code",
      "metadata": {
        "id": "ZIOAf-2cjeSB"
      },
      "source": [
        "inputs = keras.Input(shape=(240, 240, 3))\n",
        "# We make sure that the base_model is running in inference mode here,\n",
        "# by passing `training=False`. This is important for fine-tuning, as you will\n",
        "# learn in a few paragraphs.\n",
        "x = base_model(inputs, training=False)\n",
        "# Convert features of shape `base_model.output_shape[1:]` to vectors\n",
        "x = keras.layers.GlobalAveragePooling2D()(x)\n",
        "# A Dense classifier with a single unit (binary classification)\n",
        "outputs = keras.layers.Dense(3)(x)\n",
        "model = keras.Model(inputs, outputs)"
      ],
      "execution_count": null,
      "outputs": []
    },
    {
      "cell_type": "markdown",
      "metadata": {
        "id": "yGc5EE-NjeSC"
      },
      "source": [
        "Model Training"
      ]
    },
    {
      "cell_type": "code",
      "metadata": {
        "id": "CXGcaofkjeSD"
      },
      "source": [
        "# from keras.callbacks import EarlyStopping\n",
        "# from keras.callbacks import ReduceLROnPlateau\n",
        "from keras.callbacks import CSVLogger\n",
        "from keras.callbacks import ModelCheckpoint\n",
        "\n",
        "\n",
        "# # Define callbacks for learning rate scheduling, logging and best checkpoints saving\n",
        "callbackss = [\n",
        "    ModelCheckpoint('/content/drive/MyDrive/Classification/Radiography database/Models/ResNet101V2/ResNet101V2.h5', monitor='val_categorical_accuracy', save_best_only=True, mode='max'),\n",
        "#     ReduceLROnPlateau(monitor='val_Dice_coef', factor=0.1, verbose=1, patience=5, mode='max'), ## new_lr = lr * factor # 5\n",
        "#     EarlyStopping(monitor='val_Dice_coef', min_delta=0, verbose=1, patience=15, mode='max', restore_best_weights=True), # 8\n",
        "    CSVLogger('/content/drive/MyDrive/Classification/Radiography database/CSV/ResNet101V2.csv',  separator=\",\")\n",
        "]"
      ],
      "execution_count": null,
      "outputs": []
    },
    {
      "cell_type": "code",
      "metadata": {
        "colab": {
          "base_uri": "https://localhost:8080/"
        },
        "id": "I6WgWs73jeSE",
        "outputId": "610c443d-0a1b-44e4-c65e-3bb31e0cf4f1"
      },
      "source": [
        "from keras.callbacks import History\n",
        "history = History()\n",
        "\n",
        "\n",
        "model.compile(optimizer=keras.optimizers.Adam(),\n",
        "              loss=keras.losses.CategoricalCrossentropy(from_logits=True),\n",
        "              metrics=[keras.metrics.CategoricalAccuracy()])\n",
        "model.fit_generator(train_generator,\n",
        "      epochs=10,callbacks=[history, callbackss],\n",
        "      validation_data=validation_generator,\n",
        "      validation_steps=10)"
      ],
      "execution_count": null,
      "outputs": [
        {
          "name": "stderr",
          "output_type": "stream",
          "text": [
            "/usr/local/lib/python3.7/dist-packages/keras/engine/training.py:1972: UserWarning: `Model.fit_generator` is deprecated and will be removed in a future version. Please use `Model.fit`, which supports generators.\n",
            "  warnings.warn('`Model.fit_generator` is deprecated and '\n"
          ]
        },
        {
          "name": "stdout",
          "output_type": "stream",
          "text": [
            "Epoch 1/10\n",
            "332/332 [==============================] - 217s 630ms/step - loss: 0.4069 - categorical_accuracy: 0.8396 - val_loss: 0.8023 - val_categorical_accuracy: 0.6450\n",
            "Epoch 2/10\n",
            "332/332 [==============================] - 205s 617ms/step - loss: 0.3035 - categorical_accuracy: 0.8833 - val_loss: 0.8362 - val_categorical_accuracy: 0.6500\n",
            "Epoch 3/10\n",
            "332/332 [==============================] - 206s 620ms/step - loss: 0.2680 - categorical_accuracy: 0.8963 - val_loss: 0.4425 - val_categorical_accuracy: 0.8000\n",
            "Epoch 4/10\n",
            "332/332 [==============================] - 204s 614ms/step - loss: 0.2675 - categorical_accuracy: 0.9012 - val_loss: 0.4727 - val_categorical_accuracy: 0.7900\n",
            "Epoch 5/10\n",
            "332/332 [==============================] - 204s 613ms/step - loss: 0.2463 - categorical_accuracy: 0.9043 - val_loss: 0.6377 - val_categorical_accuracy: 0.7500\n",
            "Epoch 6/10\n",
            "332/332 [==============================] - 203s 611ms/step - loss: 0.2423 - categorical_accuracy: 0.9059 - val_loss: 0.5763 - val_categorical_accuracy: 0.7800\n",
            "Epoch 7/10\n",
            "332/332 [==============================] - 204s 613ms/step - loss: 0.2385 - categorical_accuracy: 0.9083 - val_loss: 0.5912 - val_categorical_accuracy: 0.7400\n",
            "Epoch 8/10\n",
            "332/332 [==============================] - 198s 595ms/step - loss: 0.2370 - categorical_accuracy: 0.9101 - val_loss: 0.4108 - val_categorical_accuracy: 0.8200\n",
            "Epoch 9/10\n",
            "332/332 [==============================] - 206s 619ms/step - loss: 0.2269 - categorical_accuracy: 0.9128 - val_loss: 0.5011 - val_categorical_accuracy: 0.7900\n",
            "Epoch 10/10\n",
            "332/332 [==============================] - 204s 614ms/step - loss: 0.2331 - categorical_accuracy: 0.9092 - val_loss: 0.5873 - val_categorical_accuracy: 0.7850\n"
          ]
        },
        {
          "data": {
            "text/plain": [
              "<keras.callbacks.History at 0x7f97bdea30d0>"
            ]
          },
          "execution_count": 62,
          "metadata": {},
          "output_type": "execute_result"
        }
      ]
    },
    {
      "cell_type": "code",
      "metadata": {
        "colab": {
          "base_uri": "https://localhost:8080/"
        },
        "id": "iz2r1WsljeSF",
        "outputId": "a4c2a004-63d3-43f3-f401-b10dda7ca9ab"
      },
      "source": [
        "print(history.history.keys())"
      ],
      "execution_count": null,
      "outputs": [
        {
          "name": "stdout",
          "output_type": "stream",
          "text": [
            "dict_keys(['loss', 'categorical_accuracy', 'val_loss', 'val_categorical_accuracy'])\n"
          ]
        }
      ]
    },
    {
      "cell_type": "code",
      "metadata": {
        "colab": {
          "base_uri": "https://localhost:8080/"
        },
        "id": "iXxepb0njeSH",
        "outputId": "8ec5918e-12d7-4175-ab21-a85dbd6c4646"
      },
      "source": [
        "model.evaluate_generator(train_generator)"
      ],
      "execution_count": null,
      "outputs": [
        {
          "name": "stderr",
          "output_type": "stream",
          "text": [
            "/usr/local/lib/python3.7/dist-packages/keras/engine/training.py:2006: UserWarning: `Model.evaluate_generator` is deprecated and will be removed in a future version. Please use `Model.evaluate`, which supports generators.\n",
            "  warnings.warn('`Model.evaluate_generator` is deprecated and '\n"
          ]
        },
        {
          "data": {
            "text/plain": [
              "[0.2378748208284378, 0.909390926361084]"
            ]
          },
          "execution_count": 64,
          "metadata": {},
          "output_type": "execute_result"
        }
      ]
    },
    {
      "cell_type": "code",
      "metadata": {
        "colab": {
          "base_uri": "https://localhost:8080/"
        },
        "id": "-EikBuTbjeSI",
        "outputId": "0a0a8ee0-3d1e-47a0-871c-6b02cf1b66ea"
      },
      "source": [
        "model.evaluate_generator(validation_generator)"
      ],
      "execution_count": null,
      "outputs": [
        {
          "name": "stderr",
          "output_type": "stream",
          "text": [
            "/usr/local/lib/python3.7/dist-packages/keras/engine/training.py:2006: UserWarning: `Model.evaluate_generator` is deprecated and will be removed in a future version. Please use `Model.evaluate`, which supports generators.\n",
            "  warnings.warn('`Model.evaluate_generator` is deprecated and '\n"
          ]
        },
        {
          "data": {
            "text/plain": [
              "[0.26989713311195374, 0.8965062499046326]"
            ]
          },
          "execution_count": 65,
          "metadata": {},
          "output_type": "execute_result"
        }
      ]
    },
    {
      "cell_type": "code",
      "metadata": {
        "colab": {
          "base_uri": "https://localhost:8080/"
        },
        "id": "uBp5SCkdjeSJ",
        "outputId": "6534e5cc-55f7-4d6a-f989-d54b25c082b3"
      },
      "source": [
        "model.evaluate(test_generator)"
      ],
      "execution_count": null,
      "outputs": [
        {
          "name": "stdout",
          "output_type": "stream",
          "text": [
            "76/76 [==============================] - 32s 424ms/step - loss: 0.2657 - categorical_accuracy: 0.9011\n"
          ]
        },
        {
          "data": {
            "text/plain": [
              "[0.2656877636909485, 0.9011206030845642]"
            ]
          },
          "execution_count": 66,
          "metadata": {},
          "output_type": "execute_result"
        }
      ]
    },
    {
      "cell_type": "markdown",
      "metadata": {
        "id": "HPVK1--ojeSK"
      },
      "source": [
        "Plooting the results\n"
      ]
    },
    {
      "cell_type": "code",
      "metadata": {
        "colab": {
          "base_uri": "https://localhost:8080/",
          "height": 295
        },
        "id": "EeP7EjbCjeSL",
        "outputId": "42cc8605-3306-42d7-b893-6ac799795359"
      },
      "source": [
        "#plooting the results\n",
        "\n",
        "import matplotlib.pyplot as plt\n",
        "\n",
        "#summarize history for accuracy\n",
        "plt.plot(history.history['categorical_accuracy'])\n",
        "plt.plot(history.history['val_categorical_accuracy'])\n",
        "plt.title('model accuracy')\n",
        "plt.ylabel('accuracy')\n",
        "plt.xlabel('epoch')\n",
        "plt.legend(['train', 'test'], loc='upper left')\n",
        "plt.show()"
      ],
      "execution_count": null,
      "outputs": [
        {
          "data": {
            "image/png": "[encoded data removed]",
            "text/plain": [
              "<Figure size 432x288 with 1 Axes>"
            ]
          },
          "metadata": {},
          "output_type": "display_data"
        }
      ]
    },
    {
      "cell_type": "code",
      "metadata": {
        "colab": {
          "base_uri": "https://localhost:8080/",
          "height": 295
        },
        "id": "mBLJRpuHjeSM",
        "outputId": "8d24c4ca-faaf-48cd-cd3a-67d2d67f79c6"
      },
      "source": [
        "plt.plot(history.history['loss'])\n",
        "plt.plot(history.history['val_loss'])\n",
        "plt.title('model loss')\n",
        "plt.ylabel('loss')\n",
        "plt.xlabel('epoch')\n",
        "plt.legend(['train', 'test'], loc='upper left')\n",
        "plt.show()"
      ],
      "execution_count": null,
      "outputs": [
        {
          "data": {
            "image/png": "[encoded data removed]",
            "text/plain": [
              "<Figure size 432x288 with 1 Axes>"
            ]
          },
          "metadata": {},
          "output_type": "display_data"
        }
      ]
    },
    {
      "cell_type": "markdown",
      "metadata": {
        "id": "kKoui-ZojeSO"
      },
      "source": [
        "Validtion & Confusion Matrix"
      ]
    },
    {
      "cell_type": "code",
      "metadata": {
        "colab": {
          "base_uri": "https://localhost:8080/",
          "height": 352
        },
        "id": "6oGrEzpgjeSO",
        "outputId": "0bb84f61-a6f0-418c-84a7-dcaac3cb4b9f"
      },
      "source": [
        "test_generator = datagen.flow_from_directory(\n",
        "    directory = test_data_dir,\n",
        "    class_mode='categorical',\n",
        "   #seed = 42,\n",
        "    batch_size = 20, \n",
        "    shuffle = False,\n",
        "    # subset = 'validation'\n",
        ")\n",
        "\n",
        "# Obtain predictions\n",
        "pred = model.predict_generator(test_generator) # Gives class probabilities\n",
        "pred = np.round(pred) # Gives one-hot encoded classes\n",
        "pred = np.argmax(pred, axis = 1) # Gives class labels\n",
        "\n",
        "# Obtain actual labels\n",
        "actual = test_generator.classes\n",
        "    \n",
        "# Now plot matrix\n",
        "cm = confusion_matrix(actual, pred, labels = [0, 1, 2])\n",
        "sns.heatmap(\n",
        "    cm, \n",
        "    cmap=\"Blues\",\n",
        "    annot = True, \n",
        "    fmt = \"d\"\n",
        ")\n",
        "plt.title('Confusion Matrix')\n",
        "plt.show()"
      ],
      "execution_count": null,
      "outputs": [
        {
          "name": "stdout",
          "output_type": "stream",
          "text": [
            "Found 1517 images belonging to 3 classes.\n"
          ]
        },
        {
          "name": "stderr",
          "output_type": "stream",
          "text": [
            "/usr/local/lib/python3.7/dist-packages/keras/engine/training.py:2035: UserWarning: `Model.predict_generator` is deprecated and will be removed in a future version. Please use `Model.predict`, which supports generators.\n",
            "  warnings.warn('`Model.predict_generator` is deprecated and '\n"
          ]
        },
        {
          "data": {
            "image/png": "[encoded data removed]",
            "text/plain": [
              "<Figure size 432x288 with 2 Axes>"
            ]
          },
          "metadata": {},
          "output_type": "display_data"
        }
      ]
    },
    {
      "cell_type": "code",
      "metadata": {
        "colab": {
          "base_uri": "https://localhost:8080/"
        },
        "id": "xDMC72VZjeSQ",
        "outputId": "cc8ae7d9-d50f-4a7c-e2ab-20e514d336d4"
      },
      "source": [
        "from sklearn.metrics import classification_report\n",
        "print(classification_report(actual, pred))"
      ],
      "execution_count": null,
      "outputs": [
        {
          "name": "stdout",
          "output_type": "stream",
          "text": [
            "              precision    recall  f1-score   support\n",
            "\n",
            "           0       0.92      0.77      0.84       362\n",
            "           1       0.90      0.98      0.94      1020\n",
            "           2       0.98      0.80      0.88       135\n",
            "\n",
            "    accuracy                           0.91      1517\n",
            "   macro avg       0.94      0.85      0.89      1517\n",
            "weighted avg       0.91      0.91      0.91      1517\n",
            "\n"
          ]
        }
      ]
    },
    {
      "cell_type": "markdown",
      "metadata": {
        "id": "gs071GA5rrfn"
      },
      "source": [
        "# ResNet50V2"
      ]
    },
    {
      "cell_type": "code",
      "metadata": {
        "colab": {
          "base_uri": "https://localhost:8080/"
        },
        "id": "DUZdhQtrrrgL",
        "outputId": "6e84cfee-4f99-4747-b84b-b746f9d71ff7"
      },
      "source": [
        "base_model = keras.applications.ResNet50V2(\n",
        "    weights='imagenet',  # Load weights pre-trained on ImageNet.\n",
        "    input_shape=(240, 240, 3),\n",
        "    include_top=False)  # Do not include the ImageNet classifier at the top."
      ],
      "execution_count": null,
      "outputs": [
        {
          "name": "stdout",
          "output_type": "stream",
          "text": [
            "Downloading data from https://storage.googleapis.com/tensorflow/keras-applications/resnet/resnet50v2_weights_tf_dim_ordering_tf_kernels_notop.h5\n",
            "94674944/94668760 [==============================] - 1s 0us/step\n",
            "94683136/94668760 [==============================] - 1s 0us/step\n"
          ]
        }
      ]
    },
    {
      "cell_type": "code",
      "metadata": {
        "id": "tJQjxwrGrrgN"
      },
      "source": [
        "base_model.summary()"
      ],
      "execution_count": null,
      "outputs": []
    },
    {
      "cell_type": "code",
      "metadata": {
        "id": "s65ETwUrrrgO"
      },
      "source": [
        "base_model.trainable = False"
      ],
      "execution_count": null,
      "outputs": []
    },
    {
      "cell_type": "code",
      "metadata": {
        "id": "AfHR-IWmrrgO"
      },
      "source": [
        "inputs = keras.Input(shape=(240, 240, 3))\n",
        "# We make sure that the base_model is running in inference mode here,\n",
        "# by passing `training=False`. This is important for fine-tuning, as you will\n",
        "# learn in a few paragraphs.\n",
        "x = base_model(inputs, training=False)\n",
        "# Convert features of shape `base_model.output_shape[1:]` to vectors\n",
        "x = keras.layers.GlobalAveragePooling2D()(x)\n",
        "# A Dense classifier with a single unit (binary classification)\n",
        "outputs = keras.layers.Dense(3)(x)\n",
        "model = keras.Model(inputs, outputs)"
      ],
      "execution_count": null,
      "outputs": []
    },
    {
      "cell_type": "markdown",
      "metadata": {
        "id": "XPQ0mqUBrrgP"
      },
      "source": [
        "Model Training"
      ]
    },
    {
      "cell_type": "code",
      "metadata": {
        "id": "Qr3_DDQvrrgQ"
      },
      "source": [
        "# from keras.callbacks import EarlyStopping\n",
        "# from keras.callbacks import ReduceLROnPlateau\n",
        "from keras.callbacks import CSVLogger\n",
        "from keras.callbacks import ModelCheckpoint\n",
        "\n",
        "\n",
        "# # Define callbacks for learning rate scheduling, logging and best checkpoints saving\n",
        "callbackss = [\n",
        "    ModelCheckpoint('/content/drive/MyDrive/Classification/Radiography database/Models/ResNet50V2/ResNet50V2.h5', monitor='val_categorical_accuracy', save_best_only=True, mode='max'),\n",
        "#     ReduceLROnPlateau(monitor='val_Dice_coef', factor=0.1, verbose=1, patience=5, mode='max'), ## new_lr = lr * factor # 5\n",
        "#     EarlyStopping(monitor='val_Dice_coef', min_delta=0, verbose=1, patience=15, mode='max', restore_best_weights=True), # 8\n",
        "    CSVLogger('/content/drive/MyDrive/Classification/Radiography database/CSV/ResNet50V2.csv',  separator=\",\")\n",
        "]"
      ],
      "execution_count": null,
      "outputs": []
    },
    {
      "cell_type": "code",
      "metadata": {
        "colab": {
          "base_uri": "https://localhost:8080/"
        },
        "id": "vHZ_GFwcrrgR",
        "outputId": "e4cc6e32-8b34-4e4c-ef85-6ec54503c144"
      },
      "source": [
        "from keras.callbacks import History\n",
        "history = History()\n",
        "\n",
        "\n",
        "model.compile(optimizer=keras.optimizers.Adam(),\n",
        "              loss=keras.losses.CategoricalCrossentropy(from_logits=True),\n",
        "              metrics=[keras.metrics.CategoricalAccuracy()])\n",
        "model.fit_generator(train_generator,\n",
        "      epochs=10,callbacks=[history, callbackss],\n",
        "      validation_data=validation_generator,\n",
        "      validation_steps=10)"
      ],
      "execution_count": null,
      "outputs": [
        {
          "name": "stderr",
          "output_type": "stream",
          "text": [
            "/usr/local/lib/python3.7/dist-packages/keras/engine/training.py:1972: UserWarning: `Model.fit_generator` is deprecated and will be removed in a future version. Please use `Model.fit`, which supports generators.\n",
            "  warnings.warn('`Model.fit_generator` is deprecated and '\n"
          ]
        },
        {
          "name": "stdout",
          "output_type": "stream",
          "text": [
            "Epoch 1/10\n",
            "332/332 [==============================] - 213s 621ms/step - loss: 0.2291 - categorical_accuracy: 0.9111 - val_loss: 0.2324 - val_categorical_accuracy: 0.9125\n"
          ]
        },
        {
          "name": "stderr",
          "output_type": "stream",
          "text": [
            "/usr/local/lib/python3.7/dist-packages/keras/utils/generic_utils.py:497: CustomMaskWarning: Custom mask layers require a config and must override get_config. When loading, the custom mask layer must be passed to the custom_objects argument.\n",
            "  category=CustomMaskWarning)\n"
          ]
        },
        {
          "name": "stdout",
          "output_type": "stream",
          "text": [
            "Epoch 2/10\n",
            "332/332 [==============================] - 202s 608ms/step - loss: 0.2225 - categorical_accuracy: 0.9165 - val_loss: 0.2436 - val_categorical_accuracy: 0.9062\n",
            "Epoch 3/10\n",
            "332/332 [==============================] - 203s 611ms/step - loss: 0.2210 - categorical_accuracy: 0.9167 - val_loss: 0.2302 - val_categorical_accuracy: 0.9125\n",
            "Epoch 4/10\n",
            "332/332 [==============================] - 204s 614ms/step - loss: 0.2226 - categorical_accuracy: 0.9144 - val_loss: 0.2384 - val_categorical_accuracy: 0.9156\n",
            "Epoch 5/10\n",
            "332/332 [==============================] - 204s 612ms/step - loss: 0.2204 - categorical_accuracy: 0.9172 - val_loss: 0.1537 - val_categorical_accuracy: 0.9563\n",
            "Epoch 6/10\n",
            "332/332 [==============================] - 203s 610ms/step - loss: 0.2124 - categorical_accuracy: 0.9194 - val_loss: 0.2079 - val_categorical_accuracy: 0.9219\n",
            "Epoch 7/10\n",
            "332/332 [==============================] - 206s 620ms/step - loss: 0.2233 - categorical_accuracy: 0.9133 - val_loss: 0.2003 - val_categorical_accuracy: 0.9156\n",
            "Epoch 8/10\n",
            "332/332 [==============================] - 204s 614ms/step - loss: 0.2125 - categorical_accuracy: 0.9181 - val_loss: 0.2294 - val_categorical_accuracy: 0.9094\n",
            "Epoch 9/10\n",
            "332/332 [==============================] - 206s 621ms/step - loss: 0.2196 - categorical_accuracy: 0.9164 - val_loss: 0.1948 - val_categorical_accuracy: 0.9469\n",
            "Epoch 10/10\n",
            "332/332 [==============================] - 208s 627ms/step - loss: 0.2160 - categorical_accuracy: 0.9195 - val_loss: 0.2392 - val_categorical_accuracy: 0.9031\n"
          ]
        },
        {
          "data": {
            "text/plain": [
              "<keras.callbacks.History at 0x7f97aee7e850>"
            ]
          },
          "execution_count": 80,
          "metadata": {},
          "output_type": "execute_result"
        }
      ]
    },
    {
      "cell_type": "code",
      "metadata": {
        "colab": {
          "base_uri": "https://localhost:8080/"
        },
        "id": "HiWSyUrHrrgS",
        "outputId": "3ac2420d-f16a-4a9f-dab6-711ca17962df"
      },
      "source": [
        "print(history.history.keys())"
      ],
      "execution_count": null,
      "outputs": [
        {
          "name": "stdout",
          "output_type": "stream",
          "text": [
            "dict_keys(['loss', 'categorical_accuracy', 'val_loss', 'val_categorical_accuracy'])\n"
          ]
        }
      ]
    },
    {
      "cell_type": "code",
      "metadata": {
        "colab": {
          "base_uri": "https://localhost:8080/"
        },
        "id": "mESZuxhprrgT",
        "outputId": "45935090-6634-46b4-a3c6-517ef613e9fc"
      },
      "source": [
        "model.evaluate_generator(train_generator)"
      ],
      "execution_count": null,
      "outputs": [
        {
          "name": "stderr",
          "output_type": "stream",
          "text": [
            "/usr/local/lib/python3.7/dist-packages/keras/engine/training.py:2006: UserWarning: `Model.evaluate_generator` is deprecated and will be removed in a future version. Please use `Model.evaluate`, which supports generators.\n",
            "  warnings.warn('`Model.evaluate_generator` is deprecated and '\n"
          ]
        },
        {
          "data": {
            "text/plain": [
              "[0.2094460278749466, 0.9208938479423523]"
            ]
          },
          "execution_count": 82,
          "metadata": {},
          "output_type": "execute_result"
        }
      ]
    },
    {
      "cell_type": "code",
      "metadata": {
        "colab": {
          "base_uri": "https://localhost:8080/"
        },
        "id": "Jh24aoJMrrgU",
        "outputId": "a773ab43-cb5d-4466-a7a7-b37cf78a8aa1"
      },
      "source": [
        "model.evaluate_generator(validation_generator)"
      ],
      "execution_count": null,
      "outputs": [
        {
          "name": "stderr",
          "output_type": "stream",
          "text": [
            "/usr/local/lib/python3.7/dist-packages/keras/engine/training.py:2006: UserWarning: `Model.evaluate_generator` is deprecated and will be removed in a future version. Please use `Model.evaluate`, which supports generators.\n",
            "  warnings.warn('`Model.evaluate_generator` is deprecated and '\n"
          ]
        },
        {
          "data": {
            "text/plain": [
              "[0.2287018597126007, 0.9108911156654358]"
            ]
          },
          "execution_count": 83,
          "metadata": {},
          "output_type": "execute_result"
        }
      ]
    },
    {
      "cell_type": "code",
      "metadata": {
        "colab": {
          "base_uri": "https://localhost:8080/"
        },
        "id": "UQdhy83krrgV",
        "outputId": "e7c19576-e6e0-4a5e-e9f5-09f82fdc6517"
      },
      "source": [
        "model.evaluate(test_generator)"
      ],
      "execution_count": null,
      "outputs": [
        {
          "name": "stdout",
          "output_type": "stream",
          "text": [
            "48/48 [==============================] - 30s 614ms/step - loss: 0.2285 - categorical_accuracy: 0.9176\n"
          ]
        },
        {
          "data": {
            "text/plain": [
              "[0.22848941385746002, 0.9176005125045776]"
            ]
          },
          "execution_count": 84,
          "metadata": {},
          "output_type": "execute_result"
        }
      ]
    },
    {
      "cell_type": "markdown",
      "metadata": {
        "id": "CuAsdP08rrgW"
      },
      "source": [
        "Plooting the results\n"
      ]
    },
    {
      "cell_type": "code",
      "metadata": {
        "colab": {
          "base_uri": "https://localhost:8080/",
          "height": 295
        },
        "id": "GkERpgJrrrgX",
        "outputId": "1303329d-3724-40fd-dad7-90a4b50204fa"
      },
      "source": [
        "#plooting the results\n",
        "\n",
        "import matplotlib.pyplot as plt\n",
        "\n",
        "#summarize history for accuracy\n",
        "plt.plot(history.history['categorical_accuracy'])\n",
        "plt.plot(history.history['val_categorical_accuracy'])\n",
        "plt.title('model accuracy')\n",
        "plt.ylabel('accuracy')\n",
        "plt.xlabel('epoch')\n",
        "plt.legend(['train', 'test'], loc='upper left')\n",
        "plt.show()"
      ],
      "execution_count": null,
      "outputs": [
        {
          "data": {
            "image/png": "[encoded data removed]",
            "text/plain": [
              "<Figure size 432x288 with 1 Axes>"
            ]
          },
          "metadata": {},
          "output_type": "display_data"
        }
      ]
    },
    {
      "cell_type": "code",
      "metadata": {
        "colab": {
          "base_uri": "https://localhost:8080/",
          "height": 295
        },
        "id": "fLT8f6TXrrgY",
        "outputId": "94485690-790f-4c32-d244-37140ccd0af0"
      },
      "source": [
        "plt.plot(history.history['loss'])\n",
        "plt.plot(history.history['val_loss'])\n",
        "plt.title('model loss')\n",
        "plt.ylabel('loss')\n",
        "plt.xlabel('epoch')\n",
        "plt.legend(['train', 'test'], loc='upper left')\n",
        "plt.show()"
      ],
      "execution_count": null,
      "outputs": [
        {
          "data": {
            "image/png": "[encoded data removed]",
            "text/plain": [
              "<Figure size 432x288 with 1 Axes>"
            ]
          },
          "metadata": {},
          "output_type": "display_data"
        }
      ]
    },
    {
      "cell_type": "markdown",
      "metadata": {
        "id": "dkd22xT9rrgZ"
      },
      "source": [
        "Validtion & Confusion Matrix"
      ]
    },
    {
      "cell_type": "code",
      "metadata": {
        "colab": {
          "base_uri": "https://localhost:8080/",
          "height": 352
        },
        "id": "Ls3fH-Dmrrga",
        "outputId": "cf9d13ab-cb65-4284-b7fa-d3992a36d439"
      },
      "source": [
        "test_generator = datagen.flow_from_directory(\n",
        "    directory = test_data_dir,\n",
        "    class_mode='categorical',\n",
        "   #seed = 42,\n",
        "    batch_size = 20, \n",
        "    shuffle = False,\n",
        "    # subset = 'validation'\n",
        ")\n",
        "\n",
        "# Obtain predictions\n",
        "pred = model.predict_generator(test_generator) # Gives class probabilities\n",
        "pred = np.round(pred) # Gives one-hot encoded classes\n",
        "pred = np.argmax(pred, axis = 1) # Gives class labels\n",
        "\n",
        "# Obtain actual labels\n",
        "actual = test_generator.classes\n",
        "    \n",
        "# Now plot matrix\n",
        "cm = confusion_matrix(actual, pred, labels = [0, 1, 2])\n",
        "sns.heatmap(\n",
        "    cm, \n",
        "    cmap=\"Blues\",\n",
        "    annot = True, \n",
        "    fmt = \"d\"\n",
        ")\n",
        "plt.title('Confusion Matrix')\n",
        "plt.show()"
      ],
      "execution_count": null,
      "outputs": [
        {
          "name": "stdout",
          "output_type": "stream",
          "text": [
            "Found 1517 images belonging to 3 classes.\n"
          ]
        },
        {
          "name": "stderr",
          "output_type": "stream",
          "text": [
            "/usr/local/lib/python3.7/dist-packages/keras/engine/training.py:2035: UserWarning: `Model.predict_generator` is deprecated and will be removed in a future version. Please use `Model.predict`, which supports generators.\n",
            "  warnings.warn('`Model.predict_generator` is deprecated and '\n"
          ]
        },
        {
          "data": {
            "image/png": "[encoded data removed]",
            "text/plain": [
              "<Figure size 432x288 with 2 Axes>"
            ]
          },
          "metadata": {},
          "output_type": "display_data"
        }
      ]
    },
    {
      "cell_type": "code",
      "metadata": {
        "colab": {
          "base_uri": "https://localhost:8080/"
        },
        "id": "v1dI4Vykrrgb",
        "outputId": "cc56c9fc-0667-497a-938f-d3e4acd06c2a"
      },
      "source": [
        "from sklearn.metrics import classification_report\n",
        "print(classification_report(actual, pred))"
      ],
      "execution_count": null,
      "outputs": [
        {
          "name": "stdout",
          "output_type": "stream",
          "text": [
            "              precision    recall  f1-score   support\n",
            "\n",
            "           0       0.89      0.81      0.85       362\n",
            "           1       0.92      0.96      0.94      1020\n",
            "           2       0.99      0.85      0.92       135\n",
            "\n",
            "    accuracy                           0.92      1517\n",
            "   macro avg       0.93      0.88      0.90      1517\n",
            "weighted avg       0.92      0.92      0.92      1517\n",
            "\n"
          ]
        }
      ]
    },
    {
      "cell_type": "markdown",
      "metadata": {
        "id": "ZpUjZ8Ojuvr-"
      },
      "source": [
        "# EfficientnetB0"
      ]
    },
    {
      "cell_type": "code",
      "metadata": {
        "colab": {
          "base_uri": "https://localhost:8080/"
        },
        "id": "pbkSb0R4uvsf",
        "outputId": "4f54715a-7fac-4783-af63-b532305977be"
      },
      "source": [
        "base_model = keras.applications.EfficientNetB0(\n",
        "    weights='imagenet',  # Load weights pre-trained on ImageNet.\n",
        "    input_shape=(240, 240, 3),\n",
        "    include_top=False)  # Do not include the ImageNet classifier at the top."
      ],
      "execution_count": null,
      "outputs": [
        {
          "name": "stdout",
          "output_type": "stream",
          "text": [
            "Downloading data from https://storage.googleapis.com/keras-applications/efficientnetb0_notop.h5\n",
            "16711680/16705208 [==============================] - 0s 0us/step\n",
            "16719872/16705208 [==============================] - 0s 0us/step\n"
          ]
        }
      ]
    },
    {
      "cell_type": "code",
      "metadata": {
        "id": "epB3lvdduvsi"
      },
      "source": [
        "base_model.summary()"
      ],
      "execution_count": null,
      "outputs": []
    },
    {
      "cell_type": "code",
      "metadata": {
        "id": "15i_syLyuvsi"
      },
      "source": [
        "base_model.trainable = False"
      ],
      "execution_count": null,
      "outputs": []
    },
    {
      "cell_type": "code",
      "metadata": {
        "id": "d3ZzLl1Duvsk"
      },
      "source": [
        "inputs = keras.Input(shape=(240, 240, 3))\n",
        "# We make sure that the base_model is running in inference mode here,\n",
        "# by passing `training=False`. This is important for fine-tuning, as you will\n",
        "# learn in a few paragraphs.\n",
        "x = base_model(inputs, training=False)\n",
        "# Convert features of shape `base_model.output_shape[1:]` to vectors\n",
        "x = keras.layers.GlobalAveragePooling2D()(x)\n",
        "# A Dense classifier with a single unit (binary classification)\n",
        "outputs = keras.layers.Dense(3)(x)\n",
        "model = keras.Model(inputs, outputs)"
      ],
      "execution_count": null,
      "outputs": []
    },
    {
      "cell_type": "markdown",
      "metadata": {
        "id": "KLu6GMpPuvsl"
      },
      "source": [
        "Model Training"
      ]
    },
    {
      "cell_type": "code",
      "metadata": {
        "id": "XJjGy6AYuvsm"
      },
      "source": [
        "# from keras.callbacks import EarlyStopping\n",
        "# from keras.callbacks import ReduceLROnPlateau\n",
        "from keras.callbacks import CSVLogger\n",
        "from keras.callbacks import ModelCheckpoint\n",
        "\n",
        "\n",
        "# # Define callbacks for learning rate scheduling, logging and best checkpoints saving\n",
        "callbackss = [\n",
        "    ModelCheckpoint('/content/drive/MyDrive/Classification/Radiography database/Models/EfficientNetB0/EfficientNetB0.h5', monitor='val_categorical_accuracy', save_best_only=True, mode='max'),\n",
        "#     ReduceLROnPlateau(monitor='val_Dice_coef', factor=0.1, verbose=1, patience=5, mode='max'), ## new_lr = lr * factor # 5\n",
        "#     EarlyStopping(monitor='val_Dice_coef', min_delta=0, verbose=1, patience=15, mode='max', restore_best_weights=True), # 8\n",
        "    CSVLogger('/content/drive/MyDrive/Classification/Radiography database/CSV/EfficientNetB0.csv',  separator=\",\")\n",
        "]"
      ],
      "execution_count": null,
      "outputs": []
    },
    {
      "cell_type": "code",
      "metadata": {
        "colab": {
          "base_uri": "https://localhost:8080/"
        },
        "id": "vlBe1sU6uvsn",
        "outputId": "1d7ac585-14ae-4948-b3bd-372147a1b207"
      },
      "source": [
        "from keras.callbacks import History\n",
        "history = History()\n",
        "\n",
        "\n",
        "model.compile(optimizer=keras.optimizers.Adam(),\n",
        "              loss=keras.losses.CategoricalCrossentropy(from_logits=True),\n",
        "              metrics=[keras.metrics.CategoricalAccuracy()])\n",
        "model.fit_generator(train_generator,\n",
        "      epochs=10,callbacks=[history, callbackss],\n",
        "      validation_data=validation_generator,\n",
        "      validation_steps=10)"
      ],
      "execution_count": null,
      "outputs": [
        {
          "name": "stderr",
          "output_type": "stream",
          "text": [
            "/usr/local/lib/python3.7/dist-packages/keras/engine/training.py:1972: UserWarning: `Model.fit_generator` is deprecated and will be removed in a future version. Please use `Model.fit`, which supports generators.\n",
            "  warnings.warn('`Model.fit_generator` is deprecated and '\n"
          ]
        },
        {
          "name": "stdout",
          "output_type": "stream",
          "text": [
            "Epoch 1/10\n",
            "332/332 [==============================] - 632s 2s/step - loss: 0.8345 - categorical_accuracy: 0.6697 - val_loss: 0.8711 - val_categorical_accuracy: 0.6375\n"
          ]
        },
        {
          "name": "stderr",
          "output_type": "stream",
          "text": [
            "/usr/local/lib/python3.7/dist-packages/keras/utils/generic_utils.py:497: CustomMaskWarning: Custom mask layers require a config and must override get_config. When loading, the custom mask layer must be passed to the custom_objects argument.\n",
            "  category=CustomMaskWarning)\n"
          ]
        },
        {
          "name": "stdout",
          "output_type": "stream",
          "text": [
            "Epoch 2/10\n",
            "332/332 [==============================] - 619s 2s/step - loss: 0.8298 - categorical_accuracy: 0.6726 - val_loss: 0.7584 - val_categorical_accuracy: 0.7188\n",
            "Epoch 3/10\n",
            "332/332 [==============================] - 611s 2s/step - loss: 0.8280 - categorical_accuracy: 0.6726 - val_loss: 0.7870 - val_categorical_accuracy: 0.7063\n",
            "Epoch 4/10\n",
            "332/332 [==============================] - 633s 2s/step - loss: 0.8275 - categorical_accuracy: 0.6726 - val_loss: 0.8506 - val_categorical_accuracy: 0.6594\n",
            "Epoch 5/10\n",
            "332/332 [==============================] - 688s 2s/step - loss: 0.8285 - categorical_accuracy: 0.6726 - val_loss: 0.7919 - val_categorical_accuracy: 0.6719\n",
            "Epoch 6/10\n",
            "332/332 [==============================] - 696s 2s/step - loss: 0.8279 - categorical_accuracy: 0.6726 - val_loss: 0.7895 - val_categorical_accuracy: 0.6969\n",
            "Epoch 7/10\n",
            "332/332 [==============================] - 674s 2s/step - loss: 0.8266 - categorical_accuracy: 0.6726 - val_loss: 0.8233 - val_categorical_accuracy: 0.6719\n",
            "Epoch 8/10\n",
            "332/332 [==============================] - 608s 2s/step - loss: 0.8290 - categorical_accuracy: 0.6726 - val_loss: 0.8430 - val_categorical_accuracy: 0.6719\n",
            "Epoch 9/10\n",
            "332/332 [==============================] - 616s 2s/step - loss: 0.8274 - categorical_accuracy: 0.6726 - val_loss: 0.8379 - val_categorical_accuracy: 0.6719\n",
            "Epoch 10/10\n",
            "332/332 [==============================] - 629s 2s/step - loss: 0.8286 - categorical_accuracy: 0.6726 - val_loss: 0.8324 - val_categorical_accuracy: 0.6781\n",
            "332/332 [==============================] - 629s 2s/step - loss: 0.8286 - categorical_accuracy: 0.6726 - val_loss: 0.8324 - val_categorical_accuracy: 0.6781\n"
          ]
        },
        {
          "data": {
            "text/plain": [
              "<keras.callbacks.History at 0x7fbe97afa7d0>"
            ]
          },
          "execution_count": 18,
          "metadata": {},
          "output_type": "execute_result"
        },
        {
          "data": {
            "text/plain": [
              "<keras.callbacks.History at 0x7fbe97afa7d0>"
            ]
          },
          "execution_count": 18,
          "metadata": {},
          "output_type": "execute_result"
        }
      ]
    },
    {
      "cell_type": "code",
      "metadata": {
        "colab": {
          "base_uri": "https://localhost:8080/"
        },
        "id": "6-Ud-HJyuvso",
        "outputId": "2c4d573b-0257-4862-e0cb-a85d57f98047"
      },
      "source": [
        "print(history.history.keys())"
      ],
      "execution_count": null,
      "outputs": [
        {
          "name": "stdout",
          "output_type": "stream",
          "text": [
            "dict_keys(['loss', 'categorical_accuracy', 'val_loss', 'val_categorical_accuracy'])\n"
          ]
        }
      ]
    },
    {
      "cell_type": "code",
      "metadata": {
        "colab": {
          "base_uri": "https://localhost:8080/"
        },
        "id": "TT-h318Cuvsp",
        "outputId": "c138d0ff-a86c-45a2-c05b-40e77ab28f69"
      },
      "source": [
        "model.evaluate_generator(train_generator)"
      ],
      "execution_count": null,
      "outputs": [
        {
          "name": "stderr",
          "output_type": "stream",
          "text": [
            "/usr/local/lib/python3.7/dist-packages/keras/engine/training.py:2006: UserWarning: `Model.evaluate_generator` is deprecated and will be removed in a future version. Please use `Model.evaluate`, which supports generators.\n",
            "  warnings.warn('`Model.evaluate_generator` is deprecated and '\n"
          ]
        },
        {
          "data": {
            "text/plain": [
              "[0.8419058918952942, 0.6726381182670593]"
            ]
          },
          "execution_count": 20,
          "metadata": {},
          "output_type": "execute_result"
        }
      ]
    },
    {
      "cell_type": "code",
      "metadata": {
        "colab": {
          "base_uri": "https://localhost:8080/"
        },
        "id": "yUw28tp2uvsq",
        "outputId": "2e4a95f8-1fdd-4904-ff62-caa66b8abb01"
      },
      "source": [
        "model.evaluate_generator(validation_generator)"
      ],
      "execution_count": null,
      "outputs": [
        {
          "name": "stderr",
          "output_type": "stream",
          "text": [
            "/usr/local/lib/python3.7/dist-packages/keras/engine/training.py:2006: UserWarning: `Model.evaluate_generator` is deprecated and will be removed in a future version. Please use `Model.evaluate`, which supports generators.\n",
            "  warnings.warn('`Model.evaluate_generator` is deprecated and '\n"
          ]
        },
        {
          "data": {
            "text/plain": [
              "[0.8418471813201904, 0.6726072430610657]"
            ]
          },
          "execution_count": 21,
          "metadata": {},
          "output_type": "execute_result"
        }
      ]
    },
    {
      "cell_type": "code",
      "metadata": {
        "colab": {
          "base_uri": "https://localhost:8080/"
        },
        "id": "vs7AF1jLuvss",
        "outputId": "98df0fda-3b6f-4732-e20d-69ba8b22dd68"
      },
      "source": [
        "model.evaluate(test_generator)"
      ],
      "execution_count": null,
      "outputs": [
        {
          "name": "stdout",
          "output_type": "stream",
          "text": [
            "48/48 [==============================] - 91s 2s/step - loss: 0.8425 - categorical_accuracy: 0.6724\n"
          ]
        },
        {
          "data": {
            "text/plain": [
              "[0.8424680829048157, 0.6723796725273132]"
            ]
          },
          "execution_count": 22,
          "metadata": {},
          "output_type": "execute_result"
        }
      ]
    },
    {
      "cell_type": "markdown",
      "metadata": {
        "id": "qygi91BFuvst"
      },
      "source": [
        "Plooting the results\n"
      ]
    },
    {
      "cell_type": "code",
      "metadata": {
        "colab": {
          "base_uri": "https://localhost:8080/",
          "height": 295
        },
        "id": "8H5SA-pTuvst",
        "outputId": "e3a16ebd-e7b3-4202-c005-a989d04c5dd7"
      },
      "source": [
        "#plooting the results\n",
        "\n",
        "import matplotlib.pyplot as plt\n",
        "\n",
        "#summarize history for accuracy\n",
        "plt.plot(history.history['categorical_accuracy'])\n",
        "plt.plot(history.history['val_categorical_accuracy'])\n",
        "plt.title('model accuracy')\n",
        "plt.ylabel('accuracy')\n",
        "plt.xlabel('epoch')\n",
        "plt.legend(['train', 'test'], loc='upper left')\n",
        "plt.show()"
      ],
      "execution_count": null,
      "outputs": [
        {
          "data": {
            "image/png": "[encoded data removed]",
            "text/plain": [
              "<Figure size 432x288 with 1 Axes>"
            ]
          },
          "metadata": {},
          "output_type": "display_data"
        }
      ]
    },
    {
      "cell_type": "code",
      "metadata": {
        "colab": {
          "base_uri": "https://localhost:8080/",
          "height": 295
        },
        "id": "4La7F75Buvsv",
        "outputId": "2c06da1f-5bc8-420c-da32-927f9c4c100f"
      },
      "source": [
        "plt.plot(history.history['loss'])\n",
        "plt.plot(history.history['val_loss'])\n",
        "plt.title('model loss')\n",
        "plt.ylabel('loss')\n",
        "plt.xlabel('epoch')\n",
        "plt.legend(['train', 'test'], loc='upper left')\n",
        "plt.show()"
      ],
      "execution_count": null,
      "outputs": [
        {
          "data": {
            "image/png": "[encoded data removed]",
            "text/plain": [
              "<Figure size 432x288 with 1 Axes>"
            ]
          },
          "metadata": {},
          "output_type": "display_data"
        }
      ]
    },
    {
      "cell_type": "markdown",
      "metadata": {
        "id": "31xIIKncuvsw"
      },
      "source": [
        "Validtion & Confusion Matrix"
      ]
    },
    {
      "cell_type": "code",
      "metadata": {
        "colab": {
          "base_uri": "https://localhost:8080/",
          "height": 351
        },
        "id": "C2kFu2U7uvsx",
        "outputId": "dfb465d1-028b-40fe-b119-7ae729a8ff56"
      },
      "source": [
        "test_generator = datagen.flow_from_directory(\n",
        "    directory = test_data_dir,\n",
        "    class_mode='categorical',\n",
        "   #seed = 42,\n",
        "    batch_size = 20, \n",
        "    shuffle = False,\n",
        "    # subset = 'validation'\n",
        ")\n",
        "\n",
        "# Obtain predictions\n",
        "pred = model.predict_generator(test_generator) # Gives class probabilities\n",
        "pred = np.round(pred) # Gives one-hot encoded classes\n",
        "pred = np.argmax(pred, axis = 1) # Gives class labels\n",
        "\n",
        "# Obtain actual labels\n",
        "actual = test_generator.classes\n",
        "    \n",
        "# Now plot matrix\n",
        "cm = confusion_matrix(actual, pred, labels = [0, 1, 2])\n",
        "sns.heatmap(\n",
        "    cm, \n",
        "    cmap=\"Blues\",\n",
        "    annot = True, \n",
        "    fmt = \"d\"\n",
        ")\n",
        "plt.title('Confusion Matrix')\n",
        "plt.show()"
      ],
      "execution_count": null,
      "outputs": [
        {
          "name": "stdout",
          "output_type": "stream",
          "text": [
            "Found 1517 images belonging to 3 classes.\n"
          ]
        },
        {
          "name": "stderr",
          "output_type": "stream",
          "text": [
            "/usr/local/lib/python3.7/dist-packages/keras/engine/training.py:2035: UserWarning: `Model.predict_generator` is deprecated and will be removed in a future version. Please use `Model.predict`, which supports generators.\n",
            "  warnings.warn('`Model.predict_generator` is deprecated and '\n"
          ]
        },
        {
          "data": {
            "image/png": "[encoded data removed]",
            "text/plain": [
              "<Figure size 432x288 with 2 Axes>"
            ]
          },
          "metadata": {},
          "output_type": "display_data"
        }
      ]
    },
    {
      "cell_type": "code",
      "metadata": {
        "id": "R_ft2qQXuvs9"
      },
      "source": [
        "from sklearn.metrics import classification_report\n",
        "print(classification_report(actual, pred))"
      ],
      "execution_count": null,
      "outputs": []
    },
    {
      "cell_type": "markdown",
      "metadata": {
        "id": "U-5pR4nNxhbp"
      },
      "source": [
        "# MobileNetV2"
      ]
    },
    {
      "cell_type": "code",
      "metadata": {
        "id": "aos2RRcAxhcI"
      },
      "source": [
        "base_model = keras.applications.MobileNetV2(\n",
        "    weights='imagenet',  # Load weights pre-trained on ImageNet.\n",
        "    input_shape=(240, 240, 3),\n",
        "    include_top=False)  # Do not include the ImageNet classifier at the top."
      ],
      "execution_count": null,
      "outputs": []
    },
    {
      "cell_type": "code",
      "metadata": {
        "id": "54OtXqF5xhcK"
      },
      "source": [
        "base_model.summary()"
      ],
      "execution_count": null,
      "outputs": []
    },
    {
      "cell_type": "code",
      "metadata": {
        "id": "epWmmhCqxhcK"
      },
      "source": [
        "base_model.trainable = False"
      ],
      "execution_count": null,
      "outputs": []
    },
    {
      "cell_type": "code",
      "metadata": {
        "id": "EoV5D_zNxhcL"
      },
      "source": [
        "inputs = keras.Input(shape=(240, 240, 3))\n",
        "# We make sure that the base_model is running in inference mode here,\n",
        "# by passing `training=False`. This is important for fine-tuning, as you will\n",
        "# learn in a few paragraphs.\n",
        "x = base_model(inputs, training=False)\n",
        "# Convert features of shape `base_model.output_shape[1:]` to vectors\n",
        "x = keras.layers.GlobalAveragePooling2D()(x)\n",
        "# A Dense classifier with a single unit (binary classification)\n",
        "outputs = keras.layers.Dense(3)(x)\n",
        "model = keras.Model(inputs, outputs)"
      ],
      "execution_count": null,
      "outputs": []
    },
    {
      "cell_type": "markdown",
      "metadata": {
        "id": "mHhO72AexhcM"
      },
      "source": [
        "Model Training"
      ]
    },
    {
      "cell_type": "code",
      "metadata": {
        "id": "7_7sT90RxhcN"
      },
      "source": [
        "# from keras.callbacks import EarlyStopping\n",
        "# from keras.callbacks import ReduceLROnPlateau\n",
        "from keras.callbacks import CSVLogger\n",
        "from keras.callbacks import ModelCheckpoint\n",
        "\n",
        "\n",
        "# # Define callbacks for learning rate scheduling, logging and best checkpoints saving\n",
        "callbackss = [\n",
        "    ModelCheckpoint('/content/drive/MyDrive/Classification/Radiography database/Models/MobileNetV2/MobileNetV2.h5', monitor='val_categorical_accuracy', save_best_only=True, mode='max'),\n",
        "#     ReduceLROnPlateau(monitor='val_Dice_coef', factor=0.1, verbose=1, patience=5, mode='max'), ## new_lr = lr * factor # 5\n",
        "#     EarlyStopping(monitor='val_Dice_coef', min_delta=0, verbose=1, patience=15, mode='max', restore_best_weights=True), # 8\n",
        "    CSVLogger('/content/drive/MyDrive/Classification/Radiography database/CSV/MobileNetV2.csv',  separator=\",\")\n",
        "]"
      ],
      "execution_count": null,
      "outputs": []
    },
    {
      "cell_type": "code",
      "metadata": {
        "colab": {
          "base_uri": "https://localhost:8080/"
        },
        "id": "amuxCLlzxhcP",
        "outputId": "410464ed-e281-4c22-e646-2a0c387922be"
      },
      "source": [
        "from keras.callbacks import History\n",
        "history = History()\n",
        "\n",
        "\n",
        "model.compile(optimizer=keras.optimizers.Adam(),\n",
        "              loss=keras.losses.CategoricalCrossentropy(from_logits=True),\n",
        "              metrics=[keras.metrics.CategoricalAccuracy()])\n",
        "model.fit_generator(train_generator,\n",
        "      epochs=10,callbacks=[history, callbackss],\n",
        "      validation_data=validation_generator,\n",
        "      validation_steps=10)"
      ],
      "execution_count": null,
      "outputs": [
        {
          "metadata": {
            "tags": null
          },
          "name": "stderr",
          "output_type": "stream",
          "text": [
            "/usr/local/lib/python3.7/dist-packages/keras/engine/training.py:1972: UserWarning: `Model.fit_generator` is deprecated and will be removed in a future version. Please use `Model.fit`, which supports generators.\n",
            "  warnings.warn('`Model.fit_generator` is deprecated and '\n"
          ]
        },
        {
          "metadata": {
            "tags": null
          },
          "name": "stdout",
          "output_type": "stream",
          "text": [
            "Epoch 1/10\n",
            "332/332 [==============================] - 448s 1s/step - loss: 0.3958 - categorical_accuracy: 0.8414 - val_loss: 0.2791 - val_categorical_accuracy: 0.8938\n"
          ]
        },
        {
          "metadata": {
            "tags": null
          },
          "name": "stderr",
          "output_type": "stream",
          "text": [
            "/usr/local/lib/python3.7/dist-packages/keras/utils/generic_utils.py:497: CustomMaskWarning: Custom mask layers require a config and must override get_config. When loading, the custom mask layer must be passed to the custom_objects argument.\n",
            "  category=CustomMaskWarning)\n"
          ]
        },
        {
          "output_type": "stream",
          "name": "stdout",
          "text": [
            "Epoch 2/10\n",
            "332/332 [==============================] - 450s 1s/step - loss: 0.3051 - categorical_accuracy: 0.8787 - val_loss: 0.2605 - val_categorical_accuracy: 0.8938\n",
            "Epoch 3/10\n",
            "332/332 [==============================] - 458s 1s/step - loss: 0.2715 - categorical_accuracy: 0.8936 - val_loss: 0.2739 - val_categorical_accuracy: 0.9062\n",
            "Epoch 4/10\n",
            "332/332 [==============================] - 455s 1s/step - loss: 0.2591 - categorical_accuracy: 0.8984 - val_loss: 0.2632 - val_categorical_accuracy: 0.8969\n",
            "Epoch 5/10\n",
            "332/332 [==============================] - 459s 1s/step - loss: 0.2571 - categorical_accuracy: 0.8981 - val_loss: 0.2124 - val_categorical_accuracy: 0.9250\n",
            "Epoch 6/10\n",
            "332/332 [==============================] - 460s 1s/step - loss: 0.2439 - categorical_accuracy: 0.9075 - val_loss: 0.2221 - val_categorical_accuracy: 0.9125\n",
            "Epoch 7/10\n",
            "332/332 [==============================] - 461s 1s/step - loss: 0.2490 - categorical_accuracy: 0.9033 - val_loss: 0.2261 - val_categorical_accuracy: 0.9062\n",
            "Epoch 8/10\n",
            "332/332 [==============================] - 463s 1s/step - loss: 0.2398 - categorical_accuracy: 0.9087 - val_loss: 0.2037 - val_categorical_accuracy: 0.9219\n",
            "Epoch 9/10\n",
            "332/332 [==============================] - 468s 1s/step - loss: 0.2330 - categorical_accuracy: 0.9104 - val_loss: 0.2656 - val_categorical_accuracy: 0.9000\n",
            "Epoch 10/10\n",
            "255/332 [======================>.......] - ETA: 1:44 - loss: 0.2297 - categorical_accuracy: 0.9122"
          ]
        }
      ]
    },
    {
      "cell_type": "code",
      "metadata": {
        "id": "juIBg69exhcR"
      },
      "source": [
        "print(history.history.keys())"
      ],
      "execution_count": null,
      "outputs": []
    },
    {
      "cell_type": "code",
      "metadata": {
        "colab": {
          "base_uri": "https://localhost:8080/"
        },
        "id": "Sj0wIIymxhcS",
        "outputId": "533d3894-beaa-4ca4-9ac4-6e630698e125"
      },
      "source": [
        "model.evaluate_generator(train_generator)"
      ],
      "execution_count": null,
      "outputs": [
        {
          "metadata": {
            "tags": null
          },
          "name": "stderr",
          "output_type": "stream",
          "text": [
            "/usr/local/lib/python3.7/dist-packages/keras/engine/training.py:2006: UserWarning: `Model.evaluate_generator` is deprecated and will be removed in a future version. Please use `Model.evaluate`, which supports generators.\n",
            "  warnings.warn('`Model.evaluate_generator` is deprecated and '\n"
          ]
        },
        {
          "output_type": "execute_result",
          "data": {
            "text/plain": [
              "[0.2217945009469986, 0.9185366630554199]"
            ]
          },
          "metadata": {},
          "execution_count": 18
        }
      ]
    },
    {
      "cell_type": "code",
      "metadata": {
        "colab": {
          "base_uri": "https://localhost:8080/"
        },
        "id": "5RbPgy4lxhcT",
        "outputId": "a07971b7-2a65-4c0f-d42a-00f919899b25"
      },
      "source": [
        "model.evaluate_generator(validation_generator)"
      ],
      "execution_count": null,
      "outputs": [
        {
          "metadata": {
            "tags": null
          },
          "name": "stderr",
          "output_type": "stream",
          "text": [
            "/usr/local/lib/python3.7/dist-packages/keras/engine/training.py:2006: UserWarning: `Model.evaluate_generator` is deprecated and will be removed in a future version. Please use `Model.evaluate`, which supports generators.\n",
            "  warnings.warn('`Model.evaluate_generator` is deprecated and '\n"
          ]
        },
        {
          "output_type": "execute_result",
          "data": {
            "text/plain": [
              "[0.21694116294384003, 0.9188118577003479]"
            ]
          },
          "metadata": {},
          "execution_count": 19
        }
      ]
    },
    {
      "cell_type": "code",
      "metadata": {
        "colab": {
          "base_uri": "https://localhost:8080/"
        },
        "id": "4x58dqiexhcU",
        "outputId": "37b9f6f6-2bd3-4cc3-ceea-26cceb4978b9"
      },
      "source": [
        "model.evaluate(test_generator)"
      ],
      "execution_count": null,
      "outputs": [
        {
          "output_type": "stream",
          "name": "stdout",
          "text": [
            "48/48 [==============================] - 62s 1s/step - loss: 0.2303 - categorical_accuracy: 0.9117\n"
          ]
        },
        {
          "output_type": "execute_result",
          "data": {
            "text/plain": [
              "[0.2302805781364441, 0.9116677641868591]"
            ]
          },
          "metadata": {},
          "execution_count": 20
        }
      ]
    },
    {
      "cell_type": "markdown",
      "metadata": {
        "id": "jc5XfQPlxhcV"
      },
      "source": [
        "Plooting the results\n"
      ]
    },
    {
      "cell_type": "code",
      "metadata": {
        "colab": {
          "base_uri": "https://localhost:8080/",
          "height": 295
        },
        "id": "WmyKdBZGxhcV",
        "outputId": "e0e93246-b7fb-4a7a-9931-edd6b7b1cdaf"
      },
      "source": [
        "#plooting the results\n",
        "\n",
        "import matplotlib.pyplot as plt\n",
        "\n",
        "#summarize history for accuracy\n",
        "plt.plot(history.history['categorical_accuracy'])\n",
        "plt.plot(history.history['val_categorical_accuracy'])\n",
        "plt.title('model accuracy')\n",
        "plt.ylabel('accuracy')\n",
        "plt.xlabel('epoch')\n",
        "plt.legend(['train', 'test'], loc='upper left')\n",
        "plt.show()"
      ],
      "execution_count": null,
      "outputs": [
        {
          "output_type": "display_data",
          "data": {
            "image/png": "[encoded data removed]",
            "text/plain": [
              "<Figure size 432x288 with 1 Axes>"
            ]
          },
          "metadata": {
            "needs_background": "light"
          }
        }
      ]
    },
    {
      "cell_type": "code",
      "metadata": {
        "colab": {
          "base_uri": "https://localhost:8080/",
          "height": 295
        },
        "id": "8o0iP3KnxhcW",
        "outputId": "c525167b-ed84-4f60-aea7-06d6992cbd36"
      },
      "source": [
        "plt.plot(history.history['loss'])\n",
        "plt.plot(history.history['val_loss'])\n",
        "plt.title('model loss')\n",
        "plt.ylabel('loss')\n",
        "plt.xlabel('epoch')\n",
        "plt.legend(['train', 'test'], loc='upper left')\n",
        "plt.show()"
      ],
      "execution_count": null,
      "outputs": [
        {
          "output_type": "display_data",
          "data": {
            "image/png": "[encoded data removed]",
            "text/plain": [
              "<Figure size 432x288 with 1 Axes>"
            ]
          },
          "metadata": {
            "needs_background": "light"
          }
        }
      ]
    },
    {
      "cell_type": "markdown",
      "metadata": {
        "id": "z0wD7VG1xhcX"
      },
      "source": [
        "Validtion & Confusion Matrix"
      ]
    },
    {
      "cell_type": "code",
      "metadata": {
        "colab": {
          "base_uri": "https://localhost:8080/",
          "height": 351
        },
        "id": "-VCN0hDjxhcY",
        "outputId": "0271a534-cdd2-41e7-ce1d-45dd8768e525"
      },
      "source": [
        "test_generator = datagen.flow_from_directory(\n",
        "    directory = test_data_dir,\n",
        "    class_mode='categorical',\n",
        "   #seed = 42,\n",
        "    batch_size = 20, \n",
        "    shuffle = False,\n",
        "    # subset = 'validation'\n",
        ")\n",
        "\n",
        "# Obtain predictions\n",
        "pred = model.predict_generator(test_generator) # Gives class probabilities\n",
        "pred = np.round(pred) # Gives one-hot encoded classes\n",
        "pred = np.argmax(pred, axis = 1) # Gives class labels\n",
        "\n",
        "# Obtain actual labels\n",
        "actual = test_generator.classes\n",
        "    \n",
        "# Now plot matrix\n",
        "cm = confusion_matrix(actual, pred, labels = [0, 1, 2])\n",
        "sns.heatmap(\n",
        "    cm, \n",
        "    cmap=\"Blues\",\n",
        "    annot = True, \n",
        "    fmt = \"d\"\n",
        ")\n",
        "plt.title('Confusion Matrix')\n",
        "plt.show()"
      ],
      "execution_count": null,
      "outputs": [
        {
          "output_type": "stream",
          "name": "stdout",
          "text": [
            "Found 1517 images belonging to 3 classes.\n"
          ]
        },
        {
          "output_type": "stream",
          "name": "stderr",
          "text": [
            "/usr/local/lib/python3.7/dist-packages/keras/engine/training.py:2035: UserWarning: `Model.predict_generator` is deprecated and will be removed in a future version. Please use `Model.predict`, which supports generators.\n",
            "  warnings.warn('`Model.predict_generator` is deprecated and '\n"
          ]
        },
        {
          "output_type": "display_data",
          "data": {
            "image/png": "[encoded data removed]",
            "text/plain": [
              "<Figure size 432x288 with 2 Axes>"
            ]
          },
          "metadata": {
            "needs_background": "light"
          }
        }
      ]
    },
    {
      "cell_type": "code",
      "metadata": {
        "colab": {
          "base_uri": "https://localhost:8080/"
        },
        "id": "1mQ5-GS-xhcZ",
        "outputId": "317bc5e1-9015-45da-abaa-8e3d8776d4a5"
      },
      "source": [
        "from sklearn.metrics import classification_report\n",
        "print(classification_report(actual, pred))"
      ],
      "execution_count": null,
      "outputs": [
        {
          "output_type": "stream",
          "name": "stdout",
          "text": [
            "              precision    recall  f1-score   support\n",
            "\n",
            "           0       0.80      0.87      0.84       362\n",
            "           1       0.94      0.92      0.93      1020\n",
            "           2       0.94      0.86      0.90       135\n",
            "\n",
            "    accuracy                           0.91      1517\n",
            "   macro avg       0.90      0.89      0.89      1517\n",
            "weighted avg       0.91      0.91      0.91      1517\n",
            "\n"
          ]
        }
      ]
    },
    {
      "cell_type": "markdown",
      "metadata": {
        "id": "ln5G23v9x3ap"
      },
      "source": [
        "# ResNet50"
      ]
    },
    {
      "cell_type": "code",
      "metadata": {
        "id": "QKA6eDXOx3ar",
        "colab": {
          "base_uri": "https://localhost:8080/"
        },
        "outputId": "4f58f591-8cea-4880-c134-49f7a05de908"
      },
      "source": [
        "base_model = keras.applications.MobileNetV2(\n",
        "    weights='imagenet',  # Load weights pre-trained on ImageNet.\n",
        "    input_shape=(224, 224, 3),\n",
        "    include_top=False)  # Do not include the ImageNet classifier at the top."
      ],
      "execution_count": null,
      "outputs": [
        {
          "output_type": "stream",
          "name": "stdout",
          "text": [
            "Downloading data from https://storage.googleapis.com/tensorflow/keras-applications/mobilenet_v2/mobilenet_v2_weights_tf_dim_ordering_tf_kernels_1.0_224_no_top.h5\n",
            "9412608/9406464 [==============================] - 0s 0us/step\n",
            "9420800/9406464 [==============================] - 0s 0us/step\n"
          ]
        }
      ]
    },
    {
      "cell_type": "code",
      "metadata": {
        "id": "QP5ODpyKx3as"
      },
      "source": [
        "base_model.summary()"
      ],
      "execution_count": null,
      "outputs": []
    },
    {
      "cell_type": "code",
      "metadata": {
        "id": "zwWiCGZwx3at"
      },
      "source": [
        "base_model.trainable = False"
      ],
      "execution_count": null,
      "outputs": []
    },
    {
      "cell_type": "code",
      "metadata": {
        "id": "YwTT6x2lx3au",
        "colab": {
          "base_uri": "https://localhost:8080/"
        },
        "outputId": "9feea750-bc9c-45f3-bda3-7261f374a667"
      },
      "source": [
        "# inputs = keras.Input(shape=(240, 240, 3))\n",
        "# # We make sure that the base_model is running in inference mode here,\n",
        "# # by passing `training=False`. This is important for fine-tuning, as you will\n",
        "# # learn in a few paragraphs.\n",
        "# x = base_model(inputs, training=False)\n",
        "# # Convert features of shape `base_model.output_shape[1:]` to vectors\n",
        "# x = keras.layers.GlobalAveragePooling2D()(x)\n",
        "# # A Dense classifier with a single unit (binary classification)\n",
        "# outputs = keras.layers.Dense(3)(x)\n",
        "# model = keras.Model(inputs, outputs)"
      ],
      "execution_count": null,
      "outputs": [
        {
          "output_type": "stream",
          "name": "stdout",
          "text": [
            "WARNING:tensorflow:Model was constructed with shape (None, 224, 224, 3) for input KerasTensor(type_spec=TensorSpec(shape=(None, 224, 224, 3), dtype=tf.float32, name='input_1'), name='input_1', description=\"created by layer 'input_1'\"), but it was called on an input with incompatible shape (None, 240, 240, 3).\n"
          ]
        }
      ]
    },
    {
      "cell_type": "code",
      "metadata": {
        "id": "xvGPczsSdvUp"
      },
      "source": [
        "#resnet and nasnet 224 and 331\n",
        "\n",
        "inputs = keras.Input(shape=(224, 224, 3))\n",
        "# We make sure that the base_model is running in inference mode here,\n",
        "# by passing `training=False`. This is important for fine-tuning, as you will\n",
        "# learn in a few paragraphs.\n",
        "x = base_model(inputs, training=False)\n",
        "# Convert features of shape `base_model.output_shape[1:]` to vectors\n",
        "x = keras.layers.GlobalAveragePooling2D()(x)\n",
        "# A Dense classifier with a single unit (binary classification)\n",
        "outputs = keras.layers.Dense(3)(x)\n",
        "model = keras.Model(inputs, outputs)"
      ],
      "execution_count": null,
      "outputs": []
    },
    {
      "cell_type": "markdown",
      "metadata": {
        "id": "PP4l1H56x3aw"
      },
      "source": [
        "Model Training"
      ]
    },
    {
      "cell_type": "code",
      "metadata": {
        "id": "xj_rJrsnx3ax"
      },
      "source": [
        "# from keras.callbacks import EarlyStopping\n",
        "# from keras.callbacks import ReduceLROnPlateau\n",
        "from keras.callbacks import CSVLogger\n",
        "from keras.callbacks import ModelCheckpoint\n",
        "\n",
        "\n",
        "# # Define callbacks for learning rate scheduling, logging and best checkpoints saving\n",
        "callbackss = [\n",
        "    ModelCheckpoint('/content/drive/MyDrive/Classification/Radiography database/Models/ResNet50/ResNet50.h5', monitor='val_categorical_accuracy', save_best_only=True, mode='max'),\n",
        "#     ReduceLROnPlateau(monitor='val_Dice_coef', factor=0.1, verbose=1, patience=5, mode='max'), ## new_lr = lr * factor # 5\n",
        "#     EarlyStopping(monitor='val_Dice_coef', min_delta=0, verbose=1, patience=15, mode='max', restore_best_weights=True), # 8\n",
        "    CSVLogger('/content/drive/MyDrive/Classification/Radiography database/CSV/ResNet50.csv',  separator=\",\")\n",
        "]"
      ],
      "execution_count": null,
      "outputs": []
    },
    {
      "cell_type": "code",
      "metadata": {
        "colab": {
          "base_uri": "https://localhost:8080/"
        },
        "id": "uAbpudosx3ay",
        "outputId": "e4040e78-bf7a-4765-d18c-dd91c6fdf38b"
      },
      "source": [
        "from keras.callbacks import History\n",
        "history = History()\n",
        "\n",
        "\n",
        "model.compile(optimizer=keras.optimizers.Adam(),\n",
        "              loss=keras.losses.CategoricalCrossentropy(from_logits=True),\n",
        "              metrics=[keras.metrics.CategoricalAccuracy()])\n",
        "model.fit_generator(train_generator,\n",
        "      epochs=10,callbacks=[history, callbackss],\n",
        "      validation_data=validation_generator,\n",
        "      validation_steps=10)"
      ],
      "execution_count": null,
      "outputs": [
        {
          "metadata": {
            "tags": null
          },
          "name": "stderr",
          "output_type": "stream",
          "text": [
            "/usr/local/lib/python3.7/dist-packages/keras/engine/training.py:1972: UserWarning: `Model.fit_generator` is deprecated and will be removed in a future version. Please use `Model.fit`, which supports generators.\n",
            "  warnings.warn('`Model.fit_generator` is deprecated and '\n"
          ]
        },
        {
          "metadata": {
            "tags": null
          },
          "name": "stdout",
          "output_type": "stream",
          "text": [
            "Epoch 1/10\n",
            "332/332 [==============================] - 186s 465ms/step - loss: 0.4129 - categorical_accuracy: 0.8378 - val_loss: 0.3226 - val_categorical_accuracy: 0.8687\n"
          ]
        },
        {
          "metadata": {
            "tags": null
          },
          "name": "stderr",
          "output_type": "stream",
          "text": [
            "/usr/local/lib/python3.7/dist-packages/keras/utils/generic_utils.py:497: CustomMaskWarning: Custom mask layers require a config and must override get_config. When loading, the custom mask layer must be passed to the custom_objects argument.\n",
            "  category=CustomMaskWarning)\n"
          ]
        },
        {
          "output_type": "stream",
          "name": "stdout",
          "text": [
            "Epoch 2/10\n",
            "332/332 [==============================] - 150s 451ms/step - loss: 0.3027 - categorical_accuracy: 0.8814 - val_loss: 0.2214 - val_categorical_accuracy: 0.9125\n",
            "Epoch 3/10\n",
            "332/332 [==============================] - 148s 447ms/step - loss: 0.2809 - categorical_accuracy: 0.8895 - val_loss: 0.2177 - val_categorical_accuracy: 0.9219\n",
            "Epoch 4/10\n",
            "332/332 [==============================] - 152s 458ms/step - loss: 0.2702 - categorical_accuracy: 0.8994 - val_loss: 0.2810 - val_categorical_accuracy: 0.8844\n",
            "Epoch 5/10\n",
            "332/332 [==============================] - 152s 456ms/step - loss: 0.2581 - categorical_accuracy: 0.8985 - val_loss: 0.2078 - val_categorical_accuracy: 0.9219\n",
            "Epoch 6/10\n",
            "332/332 [==============================] - 153s 460ms/step - loss: 0.2540 - categorical_accuracy: 0.9017 - val_loss: 0.2158 - val_categorical_accuracy: 0.9344\n",
            "Epoch 7/10\n",
            "332/332 [==============================] - 151s 455ms/step - loss: 0.2488 - categorical_accuracy: 0.9054 - val_loss: 0.2588 - val_categorical_accuracy: 0.9062\n",
            "Epoch 8/10\n",
            "332/332 [==============================] - 150s 450ms/step - loss: 0.2446 - categorical_accuracy: 0.9034 - val_loss: 0.2553 - val_categorical_accuracy: 0.9219\n",
            "Epoch 9/10\n",
            "332/332 [==============================] - 149s 449ms/step - loss: 0.2441 - categorical_accuracy: 0.9061 - val_loss: 0.2257 - val_categorical_accuracy: 0.9187\n",
            "Epoch 10/10\n",
            "332/332 [==============================] - 148s 446ms/step - loss: 0.2347 - categorical_accuracy: 0.9107 - val_loss: 0.3273 - val_categorical_accuracy: 0.8625\n"
          ]
        },
        {
          "output_type": "execute_result",
          "data": {
            "text/plain": [
              "<keras.callbacks.History at 0x7f10fbfd2ed0>"
            ]
          },
          "metadata": {},
          "execution_count": 18
        }
      ]
    },
    {
      "cell_type": "code",
      "metadata": {
        "colab": {
          "base_uri": "https://localhost:8080/"
        },
        "id": "Daamhpywx3a0",
        "outputId": "c6fa6035-9f40-4fc4-fa82-fc97457bfbae"
      },
      "source": [
        "print(history.history.keys())"
      ],
      "execution_count": null,
      "outputs": [
        {
          "output_type": "stream",
          "name": "stdout",
          "text": [
            "dict_keys(['loss', 'categorical_accuracy', 'val_loss', 'val_categorical_accuracy'])\n"
          ]
        }
      ]
    },
    {
      "cell_type": "code",
      "metadata": {
        "colab": {
          "base_uri": "https://localhost:8080/"
        },
        "id": "ePsiGvq2x3a1",
        "outputId": "db9c2773-4ce0-4cbb-cf9a-831fb092800e"
      },
      "source": [
        "model.evaluate_generator(train_generator)"
      ],
      "execution_count": null,
      "outputs": [
        {
          "metadata": {
            "tags": null
          },
          "name": "stderr",
          "output_type": "stream",
          "text": [
            "/usr/local/lib/python3.7/dist-packages/keras/engine/training.py:2006: UserWarning: `Model.evaluate_generator` is deprecated and will be removed in a future version. Please use `Model.evaluate`, which supports generators.\n",
            "  warnings.warn('`Model.evaluate_generator` is deprecated and '\n"
          ]
        },
        {
          "output_type": "execute_result",
          "data": {
            "text/plain": [
              "[0.3231251835823059, 0.8696963787078857]"
            ]
          },
          "metadata": {},
          "execution_count": 20
        }
      ]
    },
    {
      "cell_type": "code",
      "metadata": {
        "colab": {
          "base_uri": "https://localhost:8080/"
        },
        "id": "C5nrBCbkx3a2",
        "outputId": "f63537e3-5391-43c9-d89f-fb880d98b5ae"
      },
      "source": [
        "model.evaluate_generator(validation_generator)"
      ],
      "execution_count": null,
      "outputs": [
        {
          "output_type": "stream",
          "name": "stderr",
          "text": [
            "/usr/local/lib/python3.7/dist-packages/keras/engine/training.py:2006: UserWarning: `Model.evaluate_generator` is deprecated and will be removed in a future version. Please use `Model.evaluate`, which supports generators.\n",
            "  warnings.warn('`Model.evaluate_generator` is deprecated and '\n"
          ]
        },
        {
          "output_type": "execute_result",
          "data": {
            "text/plain": [
              "[0.32369139790534973, 0.8646864891052246]"
            ]
          },
          "metadata": {},
          "execution_count": 21
        }
      ]
    },
    {
      "cell_type": "code",
      "metadata": {
        "colab": {
          "base_uri": "https://localhost:8080/"
        },
        "id": "6tFUYVV9kxG4",
        "outputId": "45080ac9-d498-48a2-97a8-30585cc8e97b"
      },
      "source": [
        "model.evaluate(test_generator)"
      ],
      "execution_count": null,
      "outputs": [
        {
          "output_type": "stream",
          "name": "stdout",
          "text": [
            "76/76 [==============================] - 27s 360ms/step - loss: 0.3807 - categorical_accuracy: 0.8378\n"
          ]
        },
        {
          "output_type": "execute_result",
          "data": {
            "text/plain": [
              "[0.38072025775909424, 0.837837815284729]"
            ]
          },
          "metadata": {},
          "execution_count": 27
        }
      ]
    },
    {
      "cell_type": "markdown",
      "metadata": {
        "id": "fVSVpJq3x3a3"
      },
      "source": [
        "Plooting the results\n"
      ]
    },
    {
      "cell_type": "code",
      "metadata": {
        "colab": {
          "base_uri": "https://localhost:8080/",
          "height": 295
        },
        "id": "vAoJd40Px3a4",
        "outputId": "6955b054-18a6-4f0e-a375-abdda2f941e9"
      },
      "source": [
        "#plooting the results\n",
        "\n",
        "import matplotlib.pyplot as plt\n",
        "\n",
        "#summarize history for accuracy\n",
        "plt.plot(history.history['categorical_accuracy'])\n",
        "plt.plot(history.history['val_categorical_accuracy'])\n",
        "plt.title('model accuracy')\n",
        "plt.ylabel('accuracy')\n",
        "plt.xlabel('epoch')\n",
        "plt.legend(['train', 'test'], loc='upper left')\n",
        "plt.show()"
      ],
      "execution_count": null,
      "outputs": [
        {
          "output_type": "display_data",
          "data": {
            "image/png": "[encoded data removed]",
            "text/plain": [
              "<Figure size 432x288 with 1 Axes>"
            ]
          },
          "metadata": {
            "needs_background": "light"
          }
        }
      ]
    },
    {
      "cell_type": "code",
      "metadata": {
        "colab": {
          "base_uri": "https://localhost:8080/",
          "height": 295
        },
        "id": "BfrLlxbDk0lo",
        "outputId": "a95efee6-d058-43c8-996e-ae3a408b24c2"
      },
      "source": [
        "plt.plot(history.history['loss'])\n",
        "plt.plot(history.history['val_loss'])\n",
        "plt.title('model loss')\n",
        "plt.ylabel('loss')\n",
        "plt.xlabel('epoch')\n",
        "plt.legend(['train', 'test'], loc='upper left')\n",
        "plt.show()"
      ],
      "execution_count": null,
      "outputs": [
        {
          "output_type": "display_data",
          "data": {
            "image/png": "[encoded data removed]",
            "text/plain": [
              "<Figure size 432x288 with 1 Axes>"
            ]
          },
          "metadata": {
            "needs_background": "light"
          }
        }
      ]
    },
    {
      "cell_type": "markdown",
      "metadata": {
        "id": "nGUH_UzGx3a6"
      },
      "source": [
        "Validtion & Confusion Matrix"
      ]
    },
    {
      "cell_type": "code",
      "metadata": {
        "colab": {
          "base_uri": "https://localhost:8080/",
          "height": 351
        },
        "id": "sZS5gicxx3a6",
        "outputId": "1b64f214-cb6f-47d2-cebf-c506f2eddd7d"
      },
      "source": [
        "test_generator = datagen.flow_from_directory(\n",
        "    directory = test_data_dir,\n",
        "    class_mode='categorical',\n",
        "   #seed = 42,\n",
        "    batch_size = 20, \n",
        "    shuffle = False,\n",
        "    # subset = 'validation'\n",
        ")\n",
        "\n",
        "# Obtain predictions\n",
        "pred = model.predict_generator(test_generator) # Gives class probabilities\n",
        "pred = np.round(pred) # Gives one-hot encoded classes\n",
        "pred = np.argmax(pred, axis = 1) # Gives class labels\n",
        "\n",
        "# Obtain actual labels\n",
        "actual = test_generator.classes\n",
        "    \n",
        "# Now plot matrix\n",
        "cm = confusion_matrix(actual, pred, labels = [0, 1, 2])\n",
        "sns.heatmap(\n",
        "    cm, \n",
        "    cmap=\"Blues\",\n",
        "    annot = True, \n",
        "    fmt = \"d\"\n",
        ")\n",
        "plt.title('Confusion Matrix')\n",
        "plt.show()"
      ],
      "execution_count": null,
      "outputs": [
        {
          "output_type": "stream",
          "name": "stdout",
          "text": [
            "Found 1517 images belonging to 3 classes.\n"
          ]
        },
        {
          "output_type": "stream",
          "name": "stderr",
          "text": [
            "/usr/local/lib/python3.7/dist-packages/keras/engine/training.py:2035: UserWarning: `Model.predict_generator` is deprecated and will be removed in a future version. Please use `Model.predict`, which supports generators.\n",
            "  warnings.warn('`Model.predict_generator` is deprecated and '\n"
          ]
        },
        {
          "output_type": "display_data",
          "data": {
            "image/png": "[encoded data removed]",
            "text/plain": [
              "<Figure size 432x288 with 2 Axes>"
            ]
          },
          "metadata": {
            "needs_background": "light"
          }
        }
      ]
    },
    {
      "cell_type": "code",
      "metadata": {
        "colab": {
          "base_uri": "https://localhost:8080/"
        },
        "id": "639cWnCcx3a7",
        "outputId": "9617e89b-67c6-4bb9-930b-1e41ead5f6a2"
      },
      "source": [
        "from sklearn.metrics import classification_report\n",
        "print(classification_report(actual, pred))"
      ],
      "execution_count": null,
      "outputs": [
        {
          "output_type": "stream",
          "name": "stdout",
          "text": [
            "              precision    recall  f1-score   support\n",
            "\n",
            "           0       0.61      0.94      0.74       362\n",
            "           1       0.97      0.75      0.84      1020\n",
            "           2       0.77      0.98      0.86       135\n",
            "\n",
            "    accuracy                           0.81      1517\n",
            "   macro avg       0.78      0.89      0.81      1517\n",
            "weighted avg       0.87      0.81      0.82      1517\n",
            "\n"
          ]
        }
      ]
    },
    {
      "cell_type": "markdown",
      "metadata": {
        "id": "Tsn5_zfFyFx2"
      },
      "source": [
        "# VGG19"
      ]
    },
    {
      "cell_type": "code",
      "metadata": {
        "id": "s3NZHwaNyFx4"
      },
      "source": [
        "base_model = keras.applications.MobileNetV2(\n",
        "    weights='imagenet',  # Load weights pre-trained on ImageNet.\n",
        "    input_shape=(240, 240, 3),\n",
        "    include_top=False)  # Do not include the ImageNet classifier at the top."
      ],
      "execution_count": null,
      "outputs": []
    },
    {
      "cell_type": "code",
      "metadata": {
        "id": "z1BEozAmyFx5"
      },
      "source": [
        "base_model.summary()"
      ],
      "execution_count": null,
      "outputs": []
    },
    {
      "cell_type": "code",
      "metadata": {
        "id": "jcX6Z5wEyFx6"
      },
      "source": [
        "base_model.trainable = False"
      ],
      "execution_count": null,
      "outputs": []
    },
    {
      "cell_type": "code",
      "metadata": {
        "id": "2ruQbUXhyFx7"
      },
      "source": [
        "inputs = keras.Input(shape=(240, 240, 3))\n",
        "# We make sure that the base_model is running in inference mode here,\n",
        "# by passing `training=False`. This is important for fine-tuning, as you will\n",
        "# learn in a few paragraphs.\n",
        "x = base_model(inputs, training=False)\n",
        "# Convert features of shape `base_model.output_shape[1:]` to vectors\n",
        "x = keras.layers.GlobalAveragePooling2D()(x)\n",
        "# A Dense classifier with a single unit (binary classification)\n",
        "outputs = keras.layers.Dense(3)(x)\n",
        "model = keras.Model(inputs, outputs)"
      ],
      "execution_count": null,
      "outputs": []
    },
    {
      "cell_type": "markdown",
      "metadata": {
        "id": "HToYhZDmyFx8"
      },
      "source": [
        "Model Training"
      ]
    },
    {
      "cell_type": "code",
      "metadata": {
        "id": "SlGGQnKDyFx9"
      },
      "source": [
        "# from keras.callbacks import EarlyStopping\n",
        "# from keras.callbacks import ReduceLROnPlateau\n",
        "from keras.callbacks import CSVLogger\n",
        "from keras.callbacks import ModelCheckpoint\n",
        "\n",
        "\n",
        "# # Define callbacks for learning rate scheduling, logging and best checkpoints saving\n",
        "callbackss = [\n",
        "    ModelCheckpoint('/content/drive/MyDrive/Classification/Radiography database/Models/VGG19/VGG19.h5', monitor='val_categorical_accuracy', save_best_only=True, mode='max'),\n",
        "#     ReduceLROnPlateau(monitor='val_Dice_coef', factor=0.1, verbose=1, patience=5, mode='max'), ## new_lr = lr * factor # 5\n",
        "#     EarlyStopping(monitor='val_Dice_coef', min_delta=0, verbose=1, patience=15, mode='max', restore_best_weights=True), # 8\n",
        "    CSVLogger('/content/drive/MyDrive/Classification/Radiography database/CSV/VGG19.csv',  separator=\",\")\n",
        "]"
      ],
      "execution_count": null,
      "outputs": []
    },
    {
      "cell_type": "code",
      "metadata": {
        "id": "lzsT_FKIyFx9"
      },
      "source": [
        "from keras.callbacks import History\n",
        "history = History()\n",
        "\n",
        "\n",
        "model.compile(optimizer=keras.optimizers.Adam(),\n",
        "              loss=keras.losses.CategoricalCrossentropy(from_logits=True),\n",
        "              metrics=[keras.metrics.CategoricalAccuracy()])\n",
        "model.fit_generator(train_generator,\n",
        "      epochs=10,callbacks=[history, callbackss],\n",
        "      validation_data=validation_generator,\n",
        "      validation_steps=10)"
      ],
      "execution_count": null,
      "outputs": []
    },
    {
      "cell_type": "code",
      "metadata": {
        "id": "CIpwqvsPyFx-"
      },
      "source": [
        "print(history.history.keys())"
      ],
      "execution_count": null,
      "outputs": []
    },
    {
      "cell_type": "code",
      "metadata": {
        "id": "PJkViXJqyFx_"
      },
      "source": [
        "model.evaluate_generator(train_generator)"
      ],
      "execution_count": null,
      "outputs": []
    },
    {
      "cell_type": "code",
      "metadata": {
        "id": "BYbIfqqpyFyA"
      },
      "source": [
        "model.evaluate_generator(validation_generator)"
      ],
      "execution_count": null,
      "outputs": []
    },
    {
      "cell_type": "code",
      "metadata": {
        "id": "Pjlw0awUyFyB"
      },
      "source": [
        "model.evaluate(test_generator)"
      ],
      "execution_count": null,
      "outputs": []
    },
    {
      "cell_type": "markdown",
      "metadata": {
        "id": "3dro8e6JyFyC"
      },
      "source": [
        "Plooting the results\n"
      ]
    },
    {
      "cell_type": "code",
      "metadata": {
        "id": "4vdQGusFyFyC"
      },
      "source": [
        "#plooting the results\n",
        "\n",
        "import matplotlib.pyplot as plt\n",
        "\n",
        "#summarize history for accuracy\n",
        "plt.plot(history.history['categorical_accuracy'])\n",
        "plt.plot(history.history['val_categorical_accuracy'])\n",
        "plt.title('model accuracy')\n",
        "plt.ylabel('accuracy')\n",
        "plt.xlabel('epoch')\n",
        "plt.legend(['train', 'test'], loc='upper left')\n",
        "plt.show()"
      ],
      "execution_count": null,
      "outputs": []
    },
    {
      "cell_type": "code",
      "metadata": {
        "id": "poUD4USByFyD"
      },
      "source": [
        "plt.plot(history.history['loss'])\n",
        "plt.plot(history.history['val_loss'])\n",
        "plt.title('model loss')\n",
        "plt.ylabel('loss')\n",
        "plt.xlabel('epoch')\n",
        "plt.legend(['train', 'test'], loc='upper left')\n",
        "plt.show()"
      ],
      "execution_count": null,
      "outputs": []
    },
    {
      "cell_type": "markdown",
      "metadata": {
        "id": "iEWrKAoQyFyE"
      },
      "source": [
        "Validtion & Confusion Matrix"
      ]
    },
    {
      "cell_type": "code",
      "metadata": {
        "id": "BJNipFNayFyE"
      },
      "source": [
        "test_generator = datagen.flow_from_directory(\n",
        "    directory = test_data_dir,\n",
        "    class_mode='categorical',\n",
        "   #seed = 42,\n",
        "    batch_size = 20, \n",
        "    shuffle = False,\n",
        "    # subset = 'validation'\n",
        ")\n",
        "\n",
        "# Obtain predictions\n",
        "pred = model.predict_generator(test_generator) # Gives class probabilities\n",
        "pred = np.round(pred) # Gives one-hot encoded classes\n",
        "pred = np.argmax(pred, axis = 1) # Gives class labels\n",
        "\n",
        "# Obtain actual labels\n",
        "actual = test_generator.classes\n",
        "    \n",
        "# Now plot matrix\n",
        "cm = confusion_matrix(actual, pred, labels = [0, 1, 2])\n",
        "sns.heatmap(\n",
        "    cm, \n",
        "    cmap=\"Blues\",\n",
        "    annot = True, \n",
        "    fmt = \"d\"\n",
        ")\n",
        "plt.title('Confusion Matrix')\n",
        "plt.show()"
      ],
      "execution_count": null,
      "outputs": []
    },
    {
      "cell_type": "code",
      "metadata": {
        "id": "I-0cVq3XyFyG"
      },
      "source": [
        "from sklearn.metrics import classification_report\n",
        "print(classification_report(actual, pred))"
      ],
      "execution_count": null,
      "outputs": []
    },
    {
      "cell_type": "markdown",
      "metadata": {
        "id": "zy37pYylySy-"
      },
      "source": [
        "# Nasnetlarge"
      ]
    },
    {
      "cell_type": "code",
      "metadata": {
        "id": "jaH445ADySzf",
        "colab": {
          "base_uri": "https://localhost:8080/"
        },
        "outputId": "e0b0850b-d6b8-4943-c9b0-663868ad8312"
      },
      "source": [
        "base_model = keras.applications.NASNetLarge(\n",
        "    weights='imagenet',  # Load weights pre-trained on ImageNet.\n",
        "    input_shape=(331, 331, 3),\n",
        "    include_top=False)  # Do not include the ImageNet classifier at the top."
      ],
      "execution_count": null,
      "outputs": [
        {
          "output_type": "stream",
          "name": "stdout",
          "text": [
            "Downloading data from https://storage.googleapis.com/tensorflow/keras-applications/nasnet/NASNet-large-no-top.h5\n",
            "343613440/343610240 [==============================] - 4s 0us/step\n",
            "343621632/343610240 [==============================] - 4s 0us/step\n"
          ]
        }
      ]
    },
    {
      "cell_type": "code",
      "metadata": {
        "id": "82EjOv7iySzg"
      },
      "source": [
        "base_model.summary()"
      ],
      "execution_count": null,
      "outputs": []
    },
    {
      "cell_type": "code",
      "metadata": {
        "id": "tCRgOjrAySzh"
      },
      "source": [
        "base_model.trainable = False"
      ],
      "execution_count": null,
      "outputs": []
    },
    {
      "cell_type": "code",
      "metadata": {
        "id": "FjdQGOsyySzh"
      },
      "source": [
        "inputs = keras.Input(shape=(331, 331, 3))\n",
        "# We make sure that the base_model is running in inference mode here,\n",
        "# by passing `training=False`. This is important for fine-tuning, as you will\n",
        "# learn in a few paragraphs.\n",
        "x = base_model(inputs, training=False)\n",
        "# Convert features of shape `base_model.output_shape[1:]` to vectors\n",
        "x = keras.layers.GlobalAveragePooling2D()(x)\n",
        "# A Dense classifier with a single unit (binary classification)\n",
        "outputs = keras.layers.Dense(3)(x)\n",
        "model = keras.Model(inputs, outputs)"
      ],
      "execution_count": null,
      "outputs": []
    },
    {
      "cell_type": "markdown",
      "metadata": {
        "id": "bfmuJnXrySzi"
      },
      "source": [
        "Model Training"
      ]
    },
    {
      "cell_type": "code",
      "metadata": {
        "id": "tbodgdulySzj"
      },
      "source": [
        "# from keras.callbacks import EarlyStopping\n",
        "# from keras.callbacks import ReduceLROnPlateau\n",
        "from keras.callbacks import CSVLogger\n",
        "from keras.callbacks import ModelCheckpoint\n",
        "\n",
        "\n",
        "# # Define callbacks for learning rate scheduling, logging and best checkpoints saving\n",
        "callbackss = [\n",
        "    ModelCheckpoint('/content/drive/MyDrive/Classification/Radiography database/Models/NASNetLarge/NASNetLarge.h5', monitor='val_categorical_accuracy', save_best_only=True, mode='max'),\n",
        "#     ReduceLROnPlateau(monitor='val_Dice_coef', factor=0.1, verbose=1, patience=5, mode='max'), ## new_lr = lr * factor # 5\n",
        "#     EarlyStopping(monitor='val_Dice_coef', min_delta=0, verbose=1, patience=15, mode='max', restore_best_weights=True), # 8\n",
        "    CSVLogger('/content/drive/MyDrive/Classification/Radiography database/CSV/NASNetLarge.csv',  separator=\",\")\n",
        "]"
      ],
      "execution_count": null,
      "outputs": []
    },
    {
      "cell_type": "code",
      "metadata": {
        "id": "4Tz5U9lBySzk",
        "colab": {
          "base_uri": "https://localhost:8080/"
        },
        "outputId": "aed6643f-80c7-49e7-b39f-86c99a78ac58"
      },
      "source": [
        "from keras.callbacks import History\n",
        "history = History()\n",
        "\n",
        "\n",
        "model.compile(optimizer=keras.optimizers.Adam(),\n",
        "              loss=keras.losses.CategoricalCrossentropy(from_logits=True),\n",
        "              metrics=[keras.metrics.CategoricalAccuracy()])\n",
        "model.fit_generator(train_generator,\n",
        "      epochs=10,callbacks=[history, callbackss],\n",
        "      validation_data=validation_generator,\n",
        "      validation_steps=10)"
      ],
      "execution_count": null,
      "outputs": [
        {
          "metadata": {
            "tags": null
          },
          "name": "stderr",
          "output_type": "stream",
          "text": [
            "/usr/local/lib/python3.7/dist-packages/keras/engine/training.py:1972: UserWarning: `Model.fit_generator` is deprecated and will be removed in a future version. Please use `Model.fit`, which supports generators.\n",
            "  warnings.warn('`Model.fit_generator` is deprecated and '\n"
          ]
        },
        {
          "metadata": {
            "tags": null
          },
          "name": "stdout",
          "output_type": "stream",
          "text": [
            "Epoch 1/10\n",
            "332/332 [==============================] - 344s 973ms/step - loss: 0.4020 - categorical_accuracy: 0.8348 - val_loss: 0.3000 - val_categorical_accuracy: 0.8719\n"
          ]
        },
        {
          "metadata": {
            "tags": null
          },
          "name": "stderr",
          "output_type": "stream",
          "text": [
            "/usr/local/lib/python3.7/dist-packages/keras/utils/generic_utils.py:497: CustomMaskWarning: Custom mask layers require a config and must override get_config. When loading, the custom mask layer must be passed to the custom_objects argument.\n",
            "  category=CustomMaskWarning)\n"
          ]
        },
        {
          "output_type": "stream",
          "name": "stdout",
          "text": [
            "Epoch 2/10\n",
            "332/332 [==============================] - 316s 950ms/step - loss: 0.3242 - categorical_accuracy: 0.8735 - val_loss: 0.3567 - val_categorical_accuracy: 0.8562\n",
            "Epoch 3/10\n",
            "332/332 [==============================] - 315s 948ms/step - loss: 0.3065 - categorical_accuracy: 0.8787 - val_loss: 0.2949 - val_categorical_accuracy: 0.8844\n",
            "Epoch 4/10\n",
            "332/332 [==============================] - 316s 949ms/step - loss: 0.2914 - categorical_accuracy: 0.8834 - val_loss: 0.2768 - val_categorical_accuracy: 0.9000\n",
            "Epoch 5/10\n",
            "332/332 [==============================] - 316s 950ms/step - loss: 0.2883 - categorical_accuracy: 0.8852 - val_loss: 0.3651 - val_categorical_accuracy: 0.8625\n",
            "Epoch 6/10\n",
            "332/332 [==============================] - 314s 946ms/step - loss: 0.2796 - categorical_accuracy: 0.8922 - val_loss: 0.2379 - val_categorical_accuracy: 0.8969\n",
            "Epoch 7/10\n",
            "332/332 [==============================] - 314s 943ms/step - loss: 0.2711 - categorical_accuracy: 0.8923 - val_loss: 0.2851 - val_categorical_accuracy: 0.8969\n",
            "Epoch 8/10\n",
            "332/332 [==============================] - 314s 943ms/step - loss: 0.2775 - categorical_accuracy: 0.8925 - val_loss: 0.3158 - val_categorical_accuracy: 0.8656\n",
            "Epoch 9/10\n",
            "332/332 [==============================] - 314s 945ms/step - loss: 0.2646 - categorical_accuracy: 0.8966 - val_loss: 0.3480 - val_categorical_accuracy: 0.8562\n",
            "Epoch 10/10\n",
            "332/332 [==============================] - 314s 944ms/step - loss: 0.2535 - categorical_accuracy: 0.9012 - val_loss: 0.2831 - val_categorical_accuracy: 0.8750\n"
          ]
        },
        {
          "output_type": "execute_result",
          "data": {
            "text/plain": [
              "<keras.callbacks.History at 0x7f108185ba50>"
            ]
          },
          "metadata": {},
          "execution_count": 35
        }
      ]
    },
    {
      "cell_type": "code",
      "metadata": {
        "id": "5GwJ7wXjySzl"
      },
      "source": [
        "print(history.history.keys())"
      ],
      "execution_count": null,
      "outputs": []
    },
    {
      "cell_type": "code",
      "metadata": {
        "id": "KZDr3HgzySzm",
        "colab": {
          "base_uri": "https://localhost:8080/"
        },
        "outputId": "48660b0f-4c64-4190-8bc4-5809ad1dea9e"
      },
      "source": [
        "model.evaluate_generator(train_generator)"
      ],
      "execution_count": null,
      "outputs": [
        {
          "output_type": "execute_result",
          "data": {
            "text/plain": [
              "[0.29115384817123413, 0.8863850831985474]"
            ]
          },
          "metadata": {},
          "execution_count": 37
        },
        {
          "output_type": "execute_result",
          "data": {
            "text/plain": [
              "[0.29115384817123413, 0.8863850831985474]"
            ]
          },
          "metadata": {},
          "execution_count": 37
        }
      ]
    },
    {
      "cell_type": "code",
      "metadata": {
        "colab": {
          "base_uri": "https://localhost:8080/"
        },
        "id": "i-jdv9AVzz67",
        "outputId": "c2727a6b-ebb1-462b-cc0a-73658b1d9f38"
      },
      "source": [
        "model.evaluate_generator(validation_generator)"
      ],
      "execution_count": null,
      "outputs": [
        {
          "output_type": "stream",
          "name": "stderr",
          "text": [
            "/usr/local/lib/python3.7/dist-packages/keras/engine/training.py:2006: UserWarning: `Model.evaluate_generator` is deprecated and will be removed in a future version. Please use `Model.evaluate`, which supports generators.\n",
            "  warnings.warn('`Model.evaluate_generator` is deprecated and '\n"
          ]
        },
        {
          "output_type": "execute_result",
          "data": {
            "text/plain": [
              "[0.2891027331352234, 0.8894389271736145]"
            ]
          },
          "metadata": {},
          "execution_count": 42
        }
      ]
    },
    {
      "cell_type": "code",
      "metadata": {
        "colab": {
          "base_uri": "https://localhost:8080/"
        },
        "id": "02q4SGB2z5eh",
        "outputId": "b3bd611b-d982-4ad9-dfcc-5d1f426694cf"
      },
      "source": [
        "model.evaluate(test_generator)"
      ],
      "execution_count": null,
      "outputs": [
        {
          "output_type": "stream",
          "name": "stdout",
          "text": [
            "76/76 [==============================] - 62s 809ms/step - loss: 0.3128 - categorical_accuracy: 0.8708\n"
          ]
        },
        {
          "output_type": "execute_result",
          "data": {
            "text/plain": [
              "[0.31278571486473083, 0.8707976341247559]"
            ]
          },
          "metadata": {},
          "execution_count": 43
        }
      ]
    },
    {
      "cell_type": "markdown",
      "metadata": {
        "id": "Fcl7-tS1ySzo"
      },
      "source": [
        "Plooting the results\n"
      ]
    },
    {
      "cell_type": "code",
      "metadata": {
        "id": "uYsM0b_kySzp",
        "colab": {
          "base_uri": "https://localhost:8080/",
          "height": 295
        },
        "outputId": "fe7ec070-3c65-4da7-9a8f-7344c93b3a0a"
      },
      "source": [
        "#plooting the results\n",
        "\n",
        "import matplotlib.pyplot as plt\n",
        "\n",
        "#summarize history for accuracy\n",
        "plt.plot(history.history['categorical_accuracy'])\n",
        "plt.plot(history.history['val_categorical_accuracy'])\n",
        "plt.title('model accuracy')\n",
        "plt.ylabel('accuracy')\n",
        "plt.xlabel('epoch')\n",
        "plt.legend(['train', 'test'], loc='upper left')\n",
        "plt.show()"
      ],
      "execution_count": null,
      "outputs": [
        {
          "output_type": "display_data",
          "data": {
            "image/png": "[encoded data removed]",
            "text/plain": [
              "<Figure size 432x288 with 1 Axes>"
            ]
          },
          "metadata": {
            "needs_background": "light"
          }
        }
      ]
    },
    {
      "cell_type": "code",
      "metadata": {
        "id": "tGsBTo-jySzq",
        "colab": {
          "base_uri": "https://localhost:8080/",
          "height": 295
        },
        "outputId": "479d57e8-be5c-43bf-a7bb-042274258dba"
      },
      "source": [
        "plt.plot(history.history['loss'])\n",
        "plt.plot(history.history['val_loss'])\n",
        "plt.title('model loss')\n",
        "plt.ylabel('loss')\n",
        "plt.xlabel('epoch')\n",
        "plt.legend(['train', 'test'], loc='upper left')\n",
        "plt.show()"
      ],
      "execution_count": null,
      "outputs": [
        {
          "output_type": "display_data",
          "data": {
            "image/png": "[encoded data removed]",
            "text/plain": [
              "<Figure size 432x288 with 1 Axes>"
            ]
          },
          "metadata": {
            "needs_background": "light"
          }
        }
      ]
    },
    {
      "cell_type": "markdown",
      "metadata": {
        "id": "MEVaz8DLySzr"
      },
      "source": [
        "Validtion & Confusion Matrix"
      ]
    },
    {
      "cell_type": "code",
      "metadata": {
        "id": "rXZTMAzTySzr",
        "colab": {
          "base_uri": "https://localhost:8080/",
          "height": 351
        },
        "outputId": "5c28b5d0-3698-435a-ed2a-0ff73e115173"
      },
      "source": [
        "test_generator = datagen.flow_from_directory(\n",
        "    directory = test_data_dir,\n",
        "    class_mode='categorical',\n",
        "   #seed = 42,\n",
        "    batch_size = 20, \n",
        "    shuffle = False,\n",
        "    # subset = 'validation'\n",
        ")\n",
        "\n",
        "# Obtain predictions\n",
        "pred = model.predict_generator(test_generator) # Gives class probabilities\n",
        "pred = np.round(pred) # Gives one-hot encoded classes\n",
        "pred = np.argmax(pred, axis = 1) # Gives class labels\n",
        "\n",
        "# Obtain actual labels\n",
        "actual = test_generator.classes\n",
        "    \n",
        "# Now plot matrix\n",
        "cm = confusion_matrix(actual, pred, labels = [0, 1, 2])\n",
        "sns.heatmap(\n",
        "    cm, \n",
        "    cmap=\"Blues\",\n",
        "    annot = True, \n",
        "    fmt = \"d\"\n",
        ")\n",
        "plt.title('Confusion Matrix')\n",
        "plt.show()"
      ],
      "execution_count": null,
      "outputs": [
        {
          "output_type": "stream",
          "name": "stdout",
          "text": [
            "Found 1517 images belonging to 3 classes.\n"
          ]
        },
        {
          "output_type": "stream",
          "name": "stderr",
          "text": [
            "/usr/local/lib/python3.7/dist-packages/keras/engine/training.py:2035: UserWarning: `Model.predict_generator` is deprecated and will be removed in a future version. Please use `Model.predict`, which supports generators.\n",
            "  warnings.warn('`Model.predict_generator` is deprecated and '\n"
          ]
        },
        {
          "output_type": "display_data",
          "data": {
            "image/png": "[encoded data removed]",
            "text/plain": [
              "<Figure size 432x288 with 2 Axes>"
            ]
          },
          "metadata": {
            "needs_background": "light"
          }
        }
      ]
    },
    {
      "cell_type": "code",
      "metadata": {
        "id": "lhOyHkagySzt",
        "colab": {
          "base_uri": "https://localhost:8080/"
        },
        "outputId": "1bf10659-c1b5-42f8-e93d-65efd959d2e6"
      },
      "source": [
        "from sklearn.metrics import classification_report\n",
        "print(classification_report(actual, pred))"
      ],
      "execution_count": null,
      "outputs": [
        {
          "output_type": "stream",
          "name": "stdout",
          "text": [
            "              precision    recall  f1-score   support\n",
            "\n",
            "           0       0.87      0.71      0.79       362\n",
            "           1       0.90      0.94      0.92      1020\n",
            "           2       0.83      0.96      0.89       135\n",
            "\n",
            "    accuracy                           0.89      1517\n",
            "   macro avg       0.87      0.87      0.87      1517\n",
            "weighted avg       0.89      0.89      0.89      1517\n",
            "\n"
          ]
        }
      ]
    }
  ]
}