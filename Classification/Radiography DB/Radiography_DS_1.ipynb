{
  "nbformat": 4,
  "nbformat_minor": 0,
  "metadata": {
    "colab": {
      "name": "Radiography_DS_1.ipynb",
      "provenance": [],
      "collapsed_sections": [
        "MsWMQDYzOBb3",
        "cvU5yUZhOuz7",
        "qowfC5L0Ruj3",
        "R6JHv4spR70M",
        "CLvmeHMXZqbU",
        "D_-OvtWZaAJy",
        "YRv4dFZvaLlF",
        "-Vcn-x_iaatl",
        "fehJbZHeabQM"
      ],
      "toc_visible": true
    },
    "kernelspec": {
      "name": "python3",
      "display_name": "Python 3"
    },
    "language_info": {
      "name": "python"
    },
    "accelerator": "GPU"
  },
  "cells": [
    {
      "cell_type": "markdown",
      "metadata": {
        "id": "zx3bn1bPN4W5"
      },
      "source": [
        "# Importing the Dataset"
      ]
    },
    {
      "cell_type": "markdown",
      "metadata": {
        "id": "H5ygCpbfOOIc"
      },
      "source": [
        "Using Split Folder Command"
      ]
    },
    {
      "cell_type": "code",
      "metadata": {
        "colab": {
          "base_uri": "https://localhost:8080/"
        },
        "id": "cK6Nsz0Bihte",
        "outputId": "fb5678ab-fd59-43e2-86d5-2de50e96b5c9"
      },
      "source": [
        "# Install for spliting folder\n",
        "!pip install split-folders\n",
        "!pip install split-folders tqdm"
      ],
      "execution_count": null,
      "outputs": [
        {
          "output_type": "stream",
          "name": "stdout",
          "text": [
            "Collecting split-folders\n",
            "  Downloading split_folders-0.4.3-py3-none-any.whl (7.4 kB)\n",
            "Installing collected packages: split-folders\n",
            "Successfully installed split-folders-0.4.3\n",
            "Requirement already satisfied: split-folders in /usr/local/lib/python3.7/dist-packages (0.4.3)\n",
            "Requirement already satisfied: tqdm in /usr/local/lib/python3.7/dist-packages (4.62.3)\n"
          ]
        }
      ]
    },
    {
      "cell_type": "markdown",
      "metadata": {
        "id": "4W_O0FGqOSPD"
      },
      "source": [
        "Importing Libraries"
      ]
    },
    {
      "cell_type": "code",
      "metadata": {
        "id": "I63ArYNUiyi4"
      },
      "source": [
        "import os\n",
        "import shutil\n",
        "import splitfolders\n",
        "import tensorflow as tf\n",
        "from tensorflow.keras.optimizers import RMSprop\n",
        "from tensorflow.keras.preprocessing.image import ImageDataGenerator\n",
        "import zipfile,os\n",
        "import pandas as pd\n",
        "import numpy as np\n",
        "from sklearn.model_selection import train_test_split\n",
        "from google.colab import files\n",
        "from keras.preprocessing import image\n",
        "import matplotlib.pyplot as plt\n",
        "import matplotlib.image as mpimg\n",
        "%matplotlib inline\n",
        "\n",
        "\n",
        "import keras\n",
        "from keras.models import *\n",
        "from keras.layers import *\n",
        "from keras.optimizers import *\n",
        "from keras.preprocessing.image import ImageDataGenerator\n",
        "import tensorflow as tf\n",
        "from tensorflow import keras\n",
        "\n",
        "\n",
        "import os\n",
        "import numpy as np\n",
        "from keras.preprocessing import image\n",
        "import matplotlib.pyplot as plt\n",
        "from sklearn.metrics import confusion_matrix\n",
        "import seaborn as sns"
      ],
      "execution_count": null,
      "outputs": []
    },
    {
      "cell_type": "markdown",
      "metadata": {
        "id": "Wr0bxx7kOWJx"
      },
      "source": [
        "Kaggle Import"
      ]
    },
    {
      "cell_type": "code",
      "metadata": {
        "colab": {
          "base_uri": "https://localhost:8080/"
        },
        "id": "AHcqOqhti2ge",
        "outputId": "ea8abadf-74fe-4e06-95ed-7cd4bb72c343"
      },
      "source": [
        "import os\n",
        "os.environ['KAGGLE_USERNAME'] = \"rdxesss\"\n",
        "os.environ['KAGGLE_KEY'] = \"bfcf5228e63f0b558e2353c5f5457733\"\n",
        "\n",
        "\n",
        "# !kaggle datasets download -d preetviradiya/covid19-radiography-dataset\n",
        "!kaggle datasets download -d rdxesss/covid19-rd\n",
        "\n",
        "# local_zip = '/content/covid19-radiography-dataset.zip'\n",
        "local_zip = '/content/covid19-rd.zip'\n",
        "zip_ref = zipfile.ZipFile(local_zip, 'r')\n",
        "zip_ref.extractall('/content')\n",
        "zip_ref.close()"
      ],
      "execution_count": null,
      "outputs": [
        {
          "output_type": "stream",
          "name": "stdout",
          "text": [
            "Downloading covid19-rd.zip to /content\n",
            " 96% 521M/541M [00:12<00:00, 25.2MB/s]\n",
            "100% 541M/541M [00:12<00:00, 44.0MB/s]\n"
          ]
        }
      ]
    },
    {
      "cell_type": "code",
      "metadata": {
        "id": "ADSkyYRL3a1o"
      },
      "source": [
        "#4 class\n",
        "# splitfolders.ratio('/content/COVID-19_Radiography_Dataset', output=\"/content/COVID-19_Radiography_Dataset/output_result\", ratio=(.7, .2, .1))"
      ],
      "execution_count": null,
      "outputs": []
    },
    {
      "cell_type": "markdown",
      "metadata": {
        "id": "dPVNtPiKOZUD"
      },
      "source": [
        "Train Val Test Split"
      ]
    },
    {
      "cell_type": "code",
      "metadata": {
        "colab": {
          "base_uri": "https://localhost:8080/"
        },
        "id": "rR2skic3i42b",
        "outputId": "cfbfe60b-e505-40ac-b6c6-1e0bfcd6f7f2"
      },
      "source": [
        "#3 class\n",
        "splitfolders.ratio('/content/COVID-19_Radiography_Dataset/', output=\"/content/COVID-19_Radiography_Dataset/output_result\", ratio=(.7, .2, .1))"
      ],
      "execution_count": null,
      "outputs": [
        {
          "output_type": "stream",
          "name": "stderr",
          "text": [
            "Copying files: 15153 files [00:04, 3709.41 files/s]\n"
          ]
        }
      ]
    },
    {
      "cell_type": "code",
      "metadata": {
        "id": "f8gSDvA-jlew"
      },
      "source": [
        "# base_dir = '/content/COVID-19_Radiography_Dataset/COVID-19_Radiography_Dataset/output_result'\n",
        "base_dir = '/content/COVID-19_Radiography_Dataset/output_result'\n",
        "train_dir = os.path.join(base_dir,'train')\n",
        "validation_dir = os.path.join(base_dir, 'val')\n",
        "test_dir = os.path.join(base_dir, 'test')"
      ],
      "execution_count": null,
      "outputs": []
    },
    {
      "cell_type": "code",
      "metadata": {
        "id": "j0a9CwwKjpnX"
      },
      "source": [
        "ViralPneumonia = os.path.join(base_dir,'Viral Pneumonia')\n",
        "train_ViralPneumonia = os.path.join(train_dir, 'Viral Pneumonia')\n",
        "val_ViralPneumonia = os.path.join(validation_dir, 'Viral Pneumonia')\n",
        "test_ViralPneumonia = os.path.join(test_dir, 'Viral Pneumonia')"
      ],
      "execution_count": null,
      "outputs": []
    },
    {
      "cell_type": "code",
      "metadata": {
        "id": "TIvssoEtjtKc"
      },
      "source": [
        "Normal = os.path.join(base_dir,'Normal')\n",
        "train_Normal = os.path.join(train_dir, 'Normal')\n",
        "val_Normal = os.path.join(validation_dir, 'Normal')\n",
        "test_Normal = os.path.join(test_dir, 'Normal')"
      ],
      "execution_count": null,
      "outputs": []
    },
    {
      "cell_type": "code",
      "metadata": {
        "id": "0xhlcIj5j2Lj"
      },
      "source": [
        "COVID = os.path.join(base_dir,'COVID')\n",
        "train_COVID = os.path.join(train_dir, 'COVID')\n",
        "val_COVID = os.path.join(validation_dir, 'COVID')\n",
        "test_COVID = os.path.join(test_dir, 'COVID')"
      ],
      "execution_count": null,
      "outputs": []
    },
    {
      "cell_type": "code",
      "metadata": {
        "colab": {
          "base_uri": "https://localhost:8080/"
        },
        "id": "vdCA0KXrj8At",
        "outputId": "887a3440-2ad7-40ac-8a8f-9e40ee603ca6"
      },
      "source": [
        "# os.listdir('/content/COVID-19_Radiography_Dataset/COVID-19_Radiography_Dataset/output_result/train')\n",
        "\n",
        "os.listdir('/content/COVID-19_Radiography_Dataset/output_result/train')"
      ],
      "execution_count": null,
      "outputs": [
        {
          "output_type": "execute_result",
          "data": {
            "text/plain": [
              "['Viral Pneumonia', 'Normal', 'COVID']"
            ]
          },
          "metadata": {},
          "execution_count": 9
        }
      ]
    },
    {
      "cell_type": "code",
      "metadata": {
        "colab": {
          "base_uri": "https://localhost:8080/"
        },
        "id": "-DPsJTh_j-Zu",
        "outputId": "ba030336-05ad-4045-e694-8f77ea74a841"
      },
      "source": [
        "# os.listdir('/content/COVID-19_Radiography_Dataset/COVID-19_Radiography_Dataset/output_result/val')\n",
        "\n",
        "os.listdir('/content/COVID-19_Radiography_Dataset/output_result/val')"
      ],
      "execution_count": null,
      "outputs": [
        {
          "output_type": "execute_result",
          "data": {
            "text/plain": [
              "['Viral Pneumonia', 'Normal', 'COVID']"
            ]
          },
          "metadata": {},
          "execution_count": 10
        }
      ]
    },
    {
      "cell_type": "code",
      "metadata": {
        "colab": {
          "base_uri": "https://localhost:8080/"
        },
        "id": "MFUNt58Lj_75",
        "outputId": "17ff6bb3-59a2-4974-dc20-3e735c70bbf2"
      },
      "source": [
        "# os.listdir('/content/COVID-19_Radiography_Dataset/COVID-19_Radiography_Dataset/output_result/test')\n",
        "\n",
        "os.listdir('/content/COVID-19_Radiography_Dataset/output_result/test')"
      ],
      "execution_count": null,
      "outputs": [
        {
          "output_type": "execute_result",
          "data": {
            "text/plain": [
              "['Viral Pneumonia', 'Normal', 'COVID']"
            ]
          },
          "metadata": {},
          "execution_count": 11
        }
      ]
    },
    {
      "cell_type": "code",
      "metadata": {
        "id": "T_Bx-3YOkCL9"
      },
      "source": [
        "train_clean_dir = os.path.join(train_dir, 'Viral Pneumonia')\n",
        "train_clean_dir = os.path.join(train_dir, 'Normal')\n",
        "train_clean_dir = os.path.join(train_dir, 'COVID')"
      ],
      "execution_count": null,
      "outputs": []
    },
    {
      "cell_type": "code",
      "metadata": {
        "id": "j6DS4r2DkHHE"
      },
      "source": [
        "validation_clean_dir = os.path.join(validation_dir, 'Viral Pneumonia')\n",
        "validation_clean_dir = os.path.join(validation_dir, 'Normal')\n",
        "validation_clean_dir = os.path.join(validation_dir, 'COVID')"
      ],
      "execution_count": null,
      "outputs": []
    },
    {
      "cell_type": "code",
      "metadata": {
        "id": "0xhyqSSZkJuj"
      },
      "source": [
        "test_clean_dir = os.path.join(train_dir, 'Viral Pneumonia')\n",
        "test_clean_dir = os.path.join(train_dir, 'Normal')\n",
        "test_clean_dir = os.path.join(train_dir, 'COVID')"
      ],
      "execution_count": null,
      "outputs": []
    },
    {
      "cell_type": "markdown",
      "metadata": {
        "id": "jTQA7-VXOfEh"
      },
      "source": [
        "Data Augmentation"
      ]
    },
    {
      "cell_type": "code",
      "metadata": {
        "colab": {
          "base_uri": "https://localhost:8080/"
        },
        "id": "p8iCD-lQk0jz",
        "outputId": "924a65e0-661b-4aae-dce9-ce50c175cfdd"
      },
      "source": [
        "train_generator = train_datagen.flow_from_directory(\n",
        "        train_dir, \n",
        "        target_size=(240, 240),  # mengubah resolusi seluruh gambar menjadi 150x150 piksel\n",
        "        batch_size=20,\n",
        "        class_mode='categorical',\n",
        "        shuffle=True\n",
        "    ) \n",
        " \n",
        "validation_generator = val_datagen.flow_from_directory(\n",
        "        validation_dir,\n",
        "        target_size=(240, 240), \n",
        "        batch_size=20, \n",
        "        class_mode='categorical',\n",
        "        shuffle=True\n",
        "    )\n",
        "\n",
        "test_generator = test_datagen.flow_from_directory(\n",
        "        test_dir,\n",
        "        target_size=(240, 240), \n",
        "        batch_size=20, \n",
        "        class_mode='categorical',\n",
        "        shuffle=True\n",
        "    )"
      ],
      "execution_count": null,
      "outputs": [
        {
          "output_type": "stream",
          "name": "stdout",
          "text": [
            "Found 10606 images belonging to 3 classes.\n",
            "Found 3030 images belonging to 3 classes.\n",
            "Found 1517 images belonging to 3 classes.\n"
          ]
        }
      ]
    },
    {
      "cell_type": "code",
      "metadata": {
        "colab": {
          "base_uri": "https://localhost:8080/"
        },
        "id": "6OJQD5Z6mQNL",
        "outputId": "cac18ed7-1db3-47ef-d471-0a437ab4da1d"
      },
      "source": [
        "train_generator.class_indices"
      ],
      "execution_count": null,
      "outputs": [
        {
          "output_type": "execute_result",
          "data": {
            "text/plain": [
              "{'COVID': 0, 'Normal': 1, 'Viral Pneumonia': 2}"
            ]
          },
          "metadata": {},
          "execution_count": 26
        }
      ]
    },
    {
      "cell_type": "code",
      "metadata": {
        "colab": {
          "base_uri": "https://localhost:8080/"
        },
        "id": "wGHi7Tp2mhGp",
        "outputId": "91a6d7a8-8fc5-4bb2-c2ba-dccafb350124"
      },
      "source": [
        "validation_generator.class_indices"
      ],
      "execution_count": null,
      "outputs": [
        {
          "output_type": "execute_result",
          "data": {
            "text/plain": [
              "{'COVID': 0, 'Normal': 1, 'Viral Pneumonia': 2}"
            ]
          },
          "metadata": {},
          "execution_count": 27
        }
      ]
    },
    {
      "cell_type": "code",
      "metadata": {
        "colab": {
          "base_uri": "https://localhost:8080/"
        },
        "id": "BZrr9ug5mjIM",
        "outputId": "1d3d880c-626c-494c-9bbd-8cd4105a18d9"
      },
      "source": [
        "test_generator.class_indices"
      ],
      "execution_count": null,
      "outputs": [
        {
          "output_type": "execute_result",
          "data": {
            "text/plain": [
              "{'COVID': 0, 'Normal': 1, 'Viral Pneumonia': 2}"
            ]
          },
          "metadata": {},
          "execution_count": 28
        }
      ]
    },
    {
      "cell_type": "markdown",
      "metadata": {
        "id": "MsWMQDYzOBb3"
      },
      "source": [
        "# Inception Resnet V2"
      ]
    },
    {
      "cell_type": "code",
      "metadata": {
        "colab": {
          "base_uri": "https://localhost:8080/"
        },
        "id": "WznbGfKxml6Y",
        "outputId": "8e16f438-7486-4357-fe31-35ed7bf7bacd"
      },
      "source": [
        "base_model = keras.applications.InceptionResNetV2(\n",
        "    weights='imagenet',  # Load weights pre-trained on ImageNet.\n",
        "    input_shape=(240, 240, 3),\n",
        "    include_top=False)  # Do not include the ImageNet classifier at the top."
      ],
      "execution_count": null,
      "outputs": [
        {
          "output_type": "stream",
          "name": "stdout",
          "text": [
            "Downloading data from https://storage.googleapis.com/tensorflow/keras-applications/inception_resnet_v2/inception_resnet_v2_weights_tf_dim_ordering_tf_kernels_notop.h5\n",
            "219062272/219055592 [==============================] - 3s 0us/step\n",
            "219070464/219055592 [==============================] - 3s 0us/step\n"
          ]
        }
      ]
    },
    {
      "cell_type": "code",
      "metadata": {
        "id": "mqBzdLCam0lI"
      },
      "source": [
        "base_model.trainable = False"
      ],
      "execution_count": null,
      "outputs": []
    },
    {
      "cell_type": "code",
      "metadata": {
        "id": "zzxyeWvYm1Lq"
      },
      "source": [
        "inputs = keras.Input(shape=(240, 240, 3))\n",
        "# We make sure that the base_model is running in inference mode here,\n",
        "# by passing `training=False`. This is important for fine-tuning, as you will\n",
        "# learn in a few paragraphs.\n",
        "x = base_model(inputs, training=False)\n",
        "# Convert features of shape `base_model.output_shape[1:]` to vectors\n",
        "x = keras.layers.GlobalAveragePooling2D()(x)\n",
        "# A Dense classifier with a single unit (binary classification)\n",
        "outputs = keras.layers.Dense(3)(x)\n",
        "model = keras.Model(inputs, outputs)"
      ],
      "execution_count": null,
      "outputs": []
    },
    {
      "cell_type": "code",
      "metadata": {
        "id": "uNRfqueM8ovZ"
      },
      "source": [
        "# from keras.callbacks import EarlyStopping\n",
        "# from keras.callbacks import ReduceLROnPlateau\n",
        "from keras.callbacks import CSVLogger\n",
        "from keras.callbacks import ModelCheckpoint\n",
        "\n",
        "\n",
        "# # Define callbacks for learning rate scheduling, logging and best checkpoints saving\n",
        "callbackss = [\n",
        "    ModelCheckpoint('/content/drive/MyDrive/Classification/Radiography database/Models/InceptionResnetV2/InceptionResnetV2.h5', monitor='val_categorical_accuracy', save_best_only=True, mode='max'),\n",
        "#     ReduceLROnPlateau(monitor='val_Dice_coef', factor=0.1, verbose=1, patience=5, mode='max'), ## new_lr = lr * factor # 5\n",
        "#     EarlyStopping(monitor='val_Dice_coef', min_delta=0, verbose=1, patience=15, mode='max', restore_best_weights=True), # 8\n",
        "    CSVLogger('/content/drive/MyDrive/Classification/Radiography database/CSV/InceptionResnetV2.csv',  separator=\",\")\n",
        "]"
      ],
      "execution_count": null,
      "outputs": []
    },
    {
      "cell_type": "code",
      "metadata": {
        "colab": {
          "base_uri": "https://localhost:8080/"
        },
        "id": "a9IEmtrem31J",
        "outputId": "7e43a410-c54c-4255-b330-f76a690cee73"
      },
      "source": [
        "from keras.callbacks import History\n",
        "history = History()\n",
        "\n",
        "\n",
        "model.compile(optimizer=keras.optimizers.Adam(),\n",
        "              loss=keras.losses.CategoricalCrossentropy(from_logits=True),\n",
        "              metrics=[keras.metrics.CategoricalAccuracy()])\n",
        "model.fit_generator(train_generator,\n",
        "      epochs=10,callbacks=[history, callbackss],\n",
        "      validation_data=validation_generator,\n",
        "      validation_steps=10)"
      ],
      "execution_count": null,
      "outputs": [
        {
          "output_type": "stream",
          "name": "stderr",
          "text": [
            "/usr/local/lib/python3.7/dist-packages/keras/engine/training.py:1972: UserWarning: `Model.fit_generator` is deprecated and will be removed in a future version. Please use `Model.fit`, which supports generators.\n",
            "  warnings.warn('`Model.fit_generator` is deprecated and '\n"
          ]
        },
        {
          "output_type": "stream",
          "name": "stdout",
          "text": [
            "Epoch 1/10\n",
            "531/531 [==============================] - 268s 425ms/step - loss: 0.4085 - categorical_accuracy: 0.8352 - val_loss: 0.3035 - val_categorical_accuracy: 0.8850\n",
            "Epoch 2/10\n",
            "531/531 [==============================] - 217s 409ms/step - loss: 0.3231 - categorical_accuracy: 0.8747 - val_loss: 0.2109 - val_categorical_accuracy: 0.9150\n",
            "Epoch 3/10\n",
            "531/531 [==============================] - 215s 405ms/step - loss: 0.2952 - categorical_accuracy: 0.8875 - val_loss: 0.2974 - val_categorical_accuracy: 0.8900\n",
            "Epoch 4/10\n",
            "531/531 [==============================] - 219s 411ms/step - loss: 0.2898 - categorical_accuracy: 0.8908 - val_loss: 0.3206 - val_categorical_accuracy: 0.8800\n",
            "Epoch 5/10\n",
            "531/531 [==============================] - 219s 412ms/step - loss: 0.2826 - categorical_accuracy: 0.8930 - val_loss: 0.2917 - val_categorical_accuracy: 0.9050\n",
            "Epoch 6/10\n",
            "531/531 [==============================] - 219s 412ms/step - loss: 0.2720 - categorical_accuracy: 0.8941 - val_loss: 0.2626 - val_categorical_accuracy: 0.9000\n",
            "Epoch 7/10\n",
            "531/531 [==============================] - 217s 409ms/step - loss: 0.2715 - categorical_accuracy: 0.8911 - val_loss: 0.3519 - val_categorical_accuracy: 0.8900\n",
            "Epoch 8/10\n",
            "531/531 [==============================] - 219s 412ms/step - loss: 0.2561 - categorical_accuracy: 0.9022 - val_loss: 0.2520 - val_categorical_accuracy: 0.8950\n",
            "Epoch 9/10\n",
            "531/531 [==============================] - 218s 411ms/step - loss: 0.2685 - categorical_accuracy: 0.8973 - val_loss: 0.2675 - val_categorical_accuracy: 0.9000\n",
            "Epoch 10/10\n",
            "531/531 [==============================] - 219s 412ms/step - loss: 0.2542 - categorical_accuracy: 0.9058 - val_loss: 0.3379 - val_categorical_accuracy: 0.8850\n"
          ]
        },
        {
          "output_type": "execute_result",
          "data": {
            "text/plain": [
              "<keras.callbacks.History at 0x7fe76b8bb810>"
            ]
          },
          "metadata": {},
          "execution_count": 26
        }
      ]
    },
    {
      "cell_type": "code",
      "metadata": {
        "colab": {
          "base_uri": "https://localhost:8080/"
        },
        "id": "dELa3UPN_nud",
        "outputId": "84743191-0d06-40ab-b4be-6bc46d49b606"
      },
      "source": [
        "print(history.history.keys())"
      ],
      "execution_count": null,
      "outputs": [
        {
          "output_type": "stream",
          "name": "stdout",
          "text": [
            "dict_keys(['loss', 'categorical_accuracy', 'val_loss', 'val_categorical_accuracy'])\n"
          ]
        }
      ]
    },
    {
      "cell_type": "code",
      "metadata": {
        "colab": {
          "base_uri": "https://localhost:8080/"
        },
        "id": "crPdL0kM_tY0",
        "outputId": "ff695b71-c5b8-43b4-d422-b2430bfd4f8e"
      },
      "source": [
        "model.evaluate_generator(train_generator)"
      ],
      "execution_count": null,
      "outputs": [
        {
          "output_type": "stream",
          "name": "stderr",
          "text": [
            "/usr/local/lib/python3.7/dist-packages/keras/engine/training.py:2006: UserWarning: `Model.evaluate_generator` is deprecated and will be removed in a future version. Please use `Model.evaluate`, which supports generators.\n",
            "  warnings.warn('`Model.evaluate_generator` is deprecated and '\n"
          ]
        },
        {
          "output_type": "execute_result",
          "data": {
            "text/plain": [
              "[0.23606126010417938, 0.9078823328018188]"
            ]
          },
          "metadata": {},
          "execution_count": 28
        }
      ]
    },
    {
      "cell_type": "code",
      "metadata": {
        "colab": {
          "base_uri": "https://localhost:8080/"
        },
        "id": "dYGpwCnr_wxn",
        "outputId": "ebbecbe9-c88a-4bb3-d1cc-d23e867313c9"
      },
      "source": [
        "model.evaluate_generator(validation_generator)"
      ],
      "execution_count": null,
      "outputs": [
        {
          "output_type": "stream",
          "name": "stderr",
          "text": [
            "/usr/local/lib/python3.7/dist-packages/keras/engine/training.py:2006: UserWarning: `Model.evaluate_generator` is deprecated and will be removed in a future version. Please use `Model.evaluate`, which supports generators.\n",
            "  warnings.warn('`Model.evaluate_generator` is deprecated and '\n"
          ]
        },
        {
          "output_type": "execute_result",
          "data": {
            "text/plain": [
              "[0.24019911885261536, 0.905940592288971]"
            ]
          },
          "metadata": {},
          "execution_count": 29
        }
      ]
    },
    {
      "cell_type": "code",
      "metadata": {
        "colab": {
          "base_uri": "https://localhost:8080/"
        },
        "id": "wgORpRBL_ymQ",
        "outputId": "65469f2d-7baa-4af8-de9b-517fe224e5cf"
      },
      "source": [
        "model.evaluate(test_generator)"
      ],
      "execution_count": null,
      "outputs": [
        {
          "output_type": "stream",
          "name": "stdout",
          "text": [
            "76/76 [==============================] - 26s 342ms/step - loss: 0.2744 - categorical_accuracy: 0.8972\n"
          ]
        },
        {
          "output_type": "execute_result",
          "data": {
            "text/plain": [
              "[0.2744252383708954, 0.8971654772758484]"
            ]
          },
          "metadata": {},
          "execution_count": 30
        }
      ]
    },
    {
      "cell_type": "code",
      "metadata": {
        "colab": {
          "base_uri": "https://localhost:8080/",
          "height": 295
        },
        "id": "f7Fg6CO3Be5B",
        "outputId": "adc71ee9-dc92-49f5-cb84-e8eb99037550"
      },
      "source": [
        "#plooting the results\n",
        "\n",
        "import matplotlib.pyplot as plt\n",
        "\n",
        "#summarize history for accuracy\n",
        "plt.plot(history.history['categorical_accuracy'])\n",
        "plt.plot(history.history['val_categorical_accuracy'])\n",
        "plt.title('model accuracy')\n",
        "plt.ylabel('accuracy')\n",
        "plt.xlabel('epoch')\n",
        "plt.legend(['train', 'test'], loc='upper left')\n",
        "plt.show()"
      ],
      "execution_count": null,
      "outputs": [
        {
          "output_type": "display_data",
          "data": {
            "image/png": "[encoded data removed]",
            "text/plain": [
              "<Figure size 432x288 with 1 Axes>"
            ]
          },
          "metadata": {
            "needs_background": "light"
          }
        }
      ]
    },
    {
      "cell_type": "code",
      "metadata": {
        "colab": {
          "base_uri": "https://localhost:8080/",
          "height": 295
        },
        "id": "9PL2E97bBk-k",
        "outputId": "d64bcdec-3643-4fee-b7c6-f2f94eea864f"
      },
      "source": [
        "plt.plot(history.history['loss'])\n",
        "plt.plot(history.history['val_loss'])\n",
        "plt.title('model loss')\n",
        "plt.ylabel('loss')\n",
        "plt.xlabel('epoch')\n",
        "plt.legend(['train', 'test'], loc='upper left')\n",
        "plt.show()"
      ],
      "execution_count": null,
      "outputs": [
        {
          "output_type": "display_data",
          "data": {
            "image/png": "[encoded data removed]",
            "text/plain": [
              "<Figure size 432x288 with 1 Axes>"
            ]
          },
          "metadata": {
            "needs_background": "light"
          }
        }
      ]
    },
    {
      "cell_type": "code",
      "metadata": {
        "colab": {
          "base_uri": "https://localhost:8080/",
          "height": 352
        },
        "id": "HUgtVXBDA2gC",
        "outputId": "56229b1e-83af-43c7-b94f-503846ed4eee"
      },
      "source": [
        "test_generator = test_datagen.flow_from_directory(\n",
        "    directory = test_dir,\n",
        "    class_mode='categorical',\n",
        "   #seed = 42,\n",
        "    batch_size = 20, \n",
        "    shuffle = False,\n",
        "    # subset = 'validation'\n",
        ")\n",
        "\n",
        "# Obtain predictions\n",
        "pred = model.predict_generator(test_generator) # Gives class probabilities\n",
        "pred = np.round(pred) # Gives one-hot encoded classes\n",
        "pred = np.argmax(pred, axis = 1) # Gives class labels\n",
        "\n",
        "# Obtain actual labels\n",
        "actual = test_generator.classes\n",
        "    \n",
        "# Now plot matrix\n",
        "cm = confusion_matrix(actual, pred, labels = [0, 1, 2])\n",
        "sns.heatmap(\n",
        "    cm, \n",
        "    cmap=\"Blues\",\n",
        "    annot = True, \n",
        "    fmt = \"d\"\n",
        ")\n",
        "plt.title('Confusion Matrix')\n",
        "plt.show()"
      ],
      "execution_count": null,
      "outputs": [
        {
          "output_type": "stream",
          "name": "stdout",
          "text": [
            "Found 1517 images belonging to 3 classes.\n"
          ]
        },
        {
          "output_type": "stream",
          "name": "stderr",
          "text": [
            "/usr/local/lib/python3.7/dist-packages/keras/engine/training.py:2035: UserWarning: `Model.predict_generator` is deprecated and will be removed in a future version. Please use `Model.predict`, which supports generators.\n",
            "  warnings.warn('`Model.predict_generator` is deprecated and '\n"
          ]
        },
        {
          "output_type": "display_data",
          "data": {
            "image/png": "[encoded data removed]",
            "text/plain": [
              "<Figure size 432x288 with 2 Axes>"
            ]
          },
          "metadata": {
            "needs_background": "light"
          }
        }
      ]
    },
    {
      "cell_type": "code",
      "metadata": {
        "colab": {
          "base_uri": "https://localhost:8080/"
        },
        "id": "r2mFt7nhW3Yn",
        "outputId": "a6968791-33eb-4c07-c1cc-366456f5797d"
      },
      "source": [
        "from sklearn.metrics import classification_report\n",
        "print(classification_report(actual, pred))"
      ],
      "execution_count": null,
      "outputs": [
        {
          "output_type": "stream",
          "name": "stdout",
          "text": [
            "              precision    recall  f1-score   support\n",
            "\n",
            "           0       0.85      0.82      0.83       362\n",
            "           1       0.90      0.95      0.92      1020\n",
            "           2       1.00      0.64      0.78       135\n",
            "\n",
            "    accuracy                           0.89      1517\n",
            "   macro avg       0.91      0.80      0.84      1517\n",
            "weighted avg       0.89      0.89      0.89      1517\n",
            "\n"
          ]
        }
      ]
    },
    {
      "cell_type": "markdown",
      "metadata": {
        "id": "cvU5yUZhOuz7"
      },
      "source": [
        "# Densenet 121"
      ]
    },
    {
      "cell_type": "code",
      "metadata": {
        "colab": {
          "base_uri": "https://localhost:8080/"
        },
        "id": "QR2EZI4JOuz9",
        "outputId": "d9615b26-4b5f-4d8f-e6d5-9cb6d235ed62"
      },
      "source": [
        "base_model = keras.applications.DenseNet121(\n",
        "    weights='imagenet',  # Load weights pre-trained on ImageNet.\n",
        "    input_shape=(240, 240, 3),\n",
        "    include_top=False)  # Do not include the ImageNet classifier at the top."
      ],
      "execution_count": null,
      "outputs": [
        {
          "output_type": "stream",
          "name": "stdout",
          "text": [
            "Downloading data from https://storage.googleapis.com/tensorflow/keras-applications/densenet/densenet121_weights_tf_dim_ordering_tf_kernels_notop.h5\n",
            "29089792/29084464 [==============================] - 0s 0us/step\n",
            "29097984/29084464 [==============================] - 0s 0us/step\n"
          ]
        }
      ]
    },
    {
      "cell_type": "code",
      "metadata": {
        "id": "aUmOjM4SOu0A"
      },
      "source": [
        "base_model.trainable = False"
      ],
      "execution_count": null,
      "outputs": []
    },
    {
      "cell_type": "code",
      "metadata": {
        "id": "3q6aSBKFOu0B"
      },
      "source": [
        "inputs = keras.Input(shape=(240, 240, 3))\n",
        "# We make sure that the base_model is running in inference mode here,\n",
        "# by passing `training=False`. This is important for fine-tuning, as you will\n",
        "# learn in a few paragraphs.\n",
        "x = base_model(inputs, training=False)\n",
        "# Convert features of shape `base_model.output_shape[1:]` to vectors\n",
        "x = keras.layers.GlobalAveragePooling2D()(x)\n",
        "# A Dense classifier with a single unit (binary classification)\n",
        "outputs = keras.layers.Dense(3)(x)\n",
        "model = keras.Model(inputs, outputs)"
      ],
      "execution_count": null,
      "outputs": []
    },
    {
      "cell_type": "code",
      "metadata": {
        "id": "Qf0DIT1hOu0D"
      },
      "source": [
        "# from keras.callbacks import EarlyStopping\n",
        "# from keras.callbacks import ReduceLROnPlateau\n",
        "from keras.callbacks import CSVLogger\n",
        "from keras.callbacks import ModelCheckpoint\n",
        "\n",
        "\n",
        "# # Define callbacks for learning rate scheduling, logging and best checkpoints saving\n",
        "callbackss = [\n",
        "    ModelCheckpoint('/content/drive/MyDrive/Classification/Radiography database/Models/DenseNet121/DenseNet121.h5', monitor='val_categorical_accuracy', save_best_only=True, mode='max'),\n",
        "#     ReduceLROnPlateau(monitor='val_Dice_coef', factor=0.1, verbose=1, patience=5, mode='max'), ## new_lr = lr * factor # 5\n",
        "#     EarlyStopping(monitor='val_Dice_coef', min_delta=0, verbose=1, patience=15, mode='max', restore_best_weights=True), # 8\n",
        "    CSVLogger('/content/drive/MyDrive/Classification/Radiography database/CSV/DenseNet121.csv',  separator=\",\")\n",
        "]"
      ],
      "execution_count": null,
      "outputs": []
    },
    {
      "cell_type": "code",
      "metadata": {
        "colab": {
          "base_uri": "https://localhost:8080/"
        },
        "id": "-K2cdgVDOu0E",
        "outputId": "9f0e5831-568b-4c5e-8481-693ce155dc73"
      },
      "source": [
        "from keras.callbacks import History\n",
        "history = History()\n",
        "\n",
        "\n",
        "model.compile(optimizer=keras.optimizers.Adam(),\n",
        "              loss=keras.losses.CategoricalCrossentropy(from_logits=True),\n",
        "              metrics=[keras.metrics.CategoricalAccuracy()])\n",
        "model.fit_generator(train_generator,\n",
        "      epochs=10,callbacks=[history, callbackss],\n",
        "      validation_data=validation_generator,\n",
        "      validation_steps=10)"
      ],
      "execution_count": null,
      "outputs": [
        {
          "output_type": "stream",
          "name": "stderr",
          "text": [
            "/usr/local/lib/python3.7/dist-packages/keras/engine/training.py:1972: UserWarning: `Model.fit_generator` is deprecated and will be removed in a future version. Please use `Model.fit`, which supports generators.\n",
            "  warnings.warn('`Model.fit_generator` is deprecated and '\n"
          ]
        },
        {
          "output_type": "stream",
          "name": "stdout",
          "text": [
            "Epoch 1/10\n",
            "531/531 [==============================] - 196s 352ms/step - loss: 0.4123 - categorical_accuracy: 0.8403 - val_loss: 0.2623 - val_categorical_accuracy: 0.8750\n",
            "Epoch 2/10\n",
            "531/531 [==============================] - 183s 344ms/step - loss: 0.3145 - categorical_accuracy: 0.8820 - val_loss: 0.2542 - val_categorical_accuracy: 0.8850\n",
            "Epoch 3/10\n",
            "531/531 [==============================] - 185s 348ms/step - loss: 0.2957 - categorical_accuracy: 0.8893 - val_loss: 0.2622 - val_categorical_accuracy: 0.8900\n",
            "Epoch 4/10\n",
            "531/531 [==============================] - 185s 348ms/step - loss: 0.2764 - categorical_accuracy: 0.8984 - val_loss: 0.2987 - val_categorical_accuracy: 0.8900\n",
            "Epoch 5/10\n",
            "531/531 [==============================] - 195s 366ms/step - loss: 0.2653 - categorical_accuracy: 0.8985 - val_loss: 0.2060 - val_categorical_accuracy: 0.9100\n",
            "Epoch 6/10\n",
            "531/531 [==============================] - 183s 345ms/step - loss: 0.2598 - categorical_accuracy: 0.9024 - val_loss: 0.2770 - val_categorical_accuracy: 0.8950\n",
            "Epoch 7/10\n",
            "531/531 [==============================] - 185s 348ms/step - loss: 0.2520 - categorical_accuracy: 0.9052 - val_loss: 0.2604 - val_categorical_accuracy: 0.8850\n",
            "Epoch 8/10\n",
            "531/531 [==============================] - 183s 345ms/step - loss: 0.2546 - categorical_accuracy: 0.9047 - val_loss: 0.2122 - val_categorical_accuracy: 0.9200\n",
            "Epoch 9/10\n",
            "531/531 [==============================] - 183s 344ms/step - loss: 0.2464 - categorical_accuracy: 0.9068 - val_loss: 0.1981 - val_categorical_accuracy: 0.9400\n",
            "Epoch 10/10\n",
            "531/531 [==============================] - 182s 342ms/step - loss: 0.2468 - categorical_accuracy: 0.9044 - val_loss: 0.1709 - val_categorical_accuracy: 0.9350\n"
          ]
        },
        {
          "output_type": "execute_result",
          "data": {
            "text/plain": [
              "<keras.callbacks.History at 0x7fe76b90a210>"
            ]
          },
          "metadata": {},
          "execution_count": 45
        }
      ]
    },
    {
      "cell_type": "code",
      "metadata": {
        "colab": {
          "base_uri": "https://localhost:8080/"
        },
        "id": "QYrAXLfJOu0F",
        "outputId": "8085f744-077f-4b2b-a6b8-61d310604e9c"
      },
      "source": [
        "print(history.history.keys())"
      ],
      "execution_count": null,
      "outputs": [
        {
          "output_type": "stream",
          "name": "stdout",
          "text": [
            "dict_keys(['loss', 'categorical_accuracy', 'val_loss', 'val_categorical_accuracy'])\n"
          ]
        }
      ]
    },
    {
      "cell_type": "code",
      "metadata": {
        "colab": {
          "base_uri": "https://localhost:8080/"
        },
        "id": "uIbJJzceOu0G",
        "outputId": "8bbaf80e-fa9c-4f85-96a1-a99566cc4283"
      },
      "source": [
        "model.evaluate_generator(train_generator)"
      ],
      "execution_count": null,
      "outputs": [
        {
          "output_type": "stream",
          "name": "stderr",
          "text": [
            "/usr/local/lib/python3.7/dist-packages/keras/engine/training.py:2006: UserWarning: `Model.evaluate_generator` is deprecated and will be removed in a future version. Please use `Model.evaluate`, which supports generators.\n",
            "  warnings.warn('`Model.evaluate_generator` is deprecated and '\n"
          ]
        },
        {
          "output_type": "execute_result",
          "data": {
            "text/plain": [
              "[0.23107516765594482, 0.9127852320671082]"
            ]
          },
          "metadata": {},
          "execution_count": 47
        }
      ]
    },
    {
      "cell_type": "code",
      "metadata": {
        "colab": {
          "base_uri": "https://localhost:8080/"
        },
        "id": "M-3Vtx3FOu0H",
        "outputId": "0f1bc7dc-cc5f-4830-82c6-551635147efd"
      },
      "source": [
        "model.evaluate_generator(validation_generator)"
      ],
      "execution_count": null,
      "outputs": [
        {
          "output_type": "stream",
          "name": "stderr",
          "text": [
            "/usr/local/lib/python3.7/dist-packages/keras/engine/training.py:2006: UserWarning: `Model.evaluate_generator` is deprecated and will be removed in a future version. Please use `Model.evaluate`, which supports generators.\n",
            "  warnings.warn('`Model.evaluate_generator` is deprecated and '\n"
          ]
        },
        {
          "output_type": "execute_result",
          "data": {
            "text/plain": [
              "[0.2364470511674881, 0.909900963306427]"
            ]
          },
          "metadata": {},
          "execution_count": 48
        }
      ]
    },
    {
      "cell_type": "code",
      "metadata": {
        "colab": {
          "base_uri": "https://localhost:8080/"
        },
        "id": "q31BZ2BFOu0I",
        "outputId": "a0856ed5-7f98-4ce8-8bdc-e7a4e042e8cf"
      },
      "source": [
        "model.evaluate(test_generator)"
      ],
      "execution_count": null,
      "outputs": [
        {
          "output_type": "stream",
          "name": "stdout",
          "text": [
            "76/76 [==============================] - 19s 221ms/step - loss: 0.2481 - categorical_accuracy: 0.8965\n"
          ]
        },
        {
          "output_type": "execute_result",
          "data": {
            "text/plain": [
              "[0.24812887609004974, 0.8965062499046326]"
            ]
          },
          "metadata": {},
          "execution_count": 49
        }
      ]
    },
    {
      "cell_type": "code",
      "metadata": {
        "colab": {
          "base_uri": "https://localhost:8080/",
          "height": 295
        },
        "id": "LBO45ADIOu0J",
        "outputId": "d38b8e0a-a426-4b37-9be8-84b527e79285"
      },
      "source": [
        "#plooting the results\n",
        "\n",
        "import matplotlib.pyplot as plt\n",
        "\n",
        "#summarize history for accuracy\n",
        "plt.plot(history.history['categorical_accuracy'])\n",
        "plt.plot(history.history['val_categorical_accuracy'])\n",
        "plt.title('model accuracy')\n",
        "plt.ylabel('accuracy')\n",
        "plt.xlabel('epoch')\n",
        "plt.legend(['train', 'test'], loc='upper left')\n",
        "plt.show()"
      ],
      "execution_count": null,
      "outputs": [
        {
          "output_type": "display_data",
          "data": {
            "image/png": "[encoded data removed]",
            "text/plain": [
              "<Figure size 432x288 with 1 Axes>"
            ]
          },
          "metadata": {
            "needs_background": "light"
          }
        }
      ]
    },
    {
      "cell_type": "code",
      "metadata": {
        "colab": {
          "base_uri": "https://localhost:8080/",
          "height": 295
        },
        "id": "tRBDo_VwOu0L",
        "outputId": "ae3cc410-138f-43d5-fc5d-2cec93fbabfb"
      },
      "source": [
        "plt.plot(history.history['loss'])\n",
        "plt.plot(history.history['val_loss'])\n",
        "plt.title('model loss')\n",
        "plt.ylabel('loss')\n",
        "plt.xlabel('epoch')\n",
        "plt.legend(['train', 'test'], loc='upper left')\n",
        "plt.show()"
      ],
      "execution_count": null,
      "outputs": [
        {
          "output_type": "display_data",
          "data": {
            "image/png": "[encoded data removed]",
            "text/plain": [
              "<Figure size 432x288 with 1 Axes>"
            ]
          },
          "metadata": {
            "needs_background": "light"
          }
        }
      ]
    },
    {
      "cell_type": "code",
      "metadata": {
        "colab": {
          "base_uri": "https://localhost:8080/",
          "height": 352
        },
        "id": "MViPHO4UOu0M",
        "outputId": "9b1eb417-ece1-4ec8-9fd5-387f5c4537e5"
      },
      "source": [
        "test_generator = test_datagen.flow_from_directory(\n",
        "    directory = test_dir,\n",
        "    class_mode='categorical',\n",
        "   #seed = 42,\n",
        "    batch_size = 20, \n",
        "    shuffle = False,\n",
        "    # subset = 'validation'\n",
        ")\n",
        "\n",
        "# Obtain predictions\n",
        "pred = model.predict_generator(test_generator) # Gives class probabilities\n",
        "pred = np.round(pred) # Gives one-hot encoded classes\n",
        "pred = np.argmax(pred, axis = 1) # Gives class labels\n",
        "\n",
        "# Obtain actual labels\n",
        "actual = test_generator.classes\n",
        "    \n",
        "# Now plot matrix\n",
        "cm = confusion_matrix(actual, pred, labels = [0, 1, 2])\n",
        "sns.heatmap(\n",
        "    cm, \n",
        "    cmap=\"Blues\",\n",
        "    annot = True, \n",
        "    fmt = \"d\"\n",
        ")\n",
        "plt.title('Confusion Matrix')\n",
        "plt.show()"
      ],
      "execution_count": null,
      "outputs": [
        {
          "output_type": "stream",
          "name": "stdout",
          "text": [
            "Found 1517 images belonging to 3 classes.\n"
          ]
        },
        {
          "output_type": "stream",
          "name": "stderr",
          "text": [
            "/usr/local/lib/python3.7/dist-packages/keras/engine/training.py:2035: UserWarning: `Model.predict_generator` is deprecated and will be removed in a future version. Please use `Model.predict`, which supports generators.\n",
            "  warnings.warn('`Model.predict_generator` is deprecated and '\n"
          ]
        },
        {
          "output_type": "display_data",
          "data": {
            "image/png": "[encoded data removed]",
            "text/plain": [
              "<Figure size 432x288 with 2 Axes>"
            ]
          },
          "metadata": {
            "needs_background": "light"
          }
        }
      ]
    },
    {
      "cell_type": "code",
      "metadata": {
        "colab": {
          "base_uri": "https://localhost:8080/"
        },
        "id": "OJ5EZybzX3VU",
        "outputId": "90e40357-b226-4e65-92c8-7547aa8d926d"
      },
      "source": [
        "from sklearn.metrics import classification_report\n",
        "print(classification_report(actual, pred))"
      ],
      "execution_count": null,
      "outputs": [
        {
          "output_type": "stream",
          "name": "stdout",
          "text": [
            "              precision    recall  f1-score   support\n",
            "\n",
            "           0       0.88      0.73      0.80       362\n",
            "           1       0.89      0.96      0.93      1020\n",
            "           2       0.95      0.84      0.89       135\n",
            "\n",
            "    accuracy                           0.89      1517\n",
            "   macro avg       0.91      0.84      0.87      1517\n",
            "weighted avg       0.89      0.89      0.89      1517\n",
            "\n"
          ]
        }
      ]
    },
    {
      "cell_type": "markdown",
      "metadata": {
        "id": "qowfC5L0Ruj3"
      },
      "source": [
        "# InceptionV3"
      ]
    },
    {
      "cell_type": "code",
      "metadata": {
        "colab": {
          "base_uri": "https://localhost:8080/"
        },
        "id": "JG4ETKWlRukZ",
        "outputId": "90346e1c-e551-4f2e-c047-4caba5fcb158"
      },
      "source": [
        "base_model = keras.applications.InceptionV3(\n",
        "    weights='imagenet',  # Load weights pre-trained on ImageNet.\n",
        "    input_shape=(240, 240, 3),\n",
        "    include_top=False)  # Do not include the ImageNet classifier at the top."
      ],
      "execution_count": null,
      "outputs": [
        {
          "output_type": "stream",
          "name": "stdout",
          "text": [
            "Downloading data from https://storage.googleapis.com/tensorflow/keras-applications/inception_v3/inception_v3_weights_tf_dim_ordering_tf_kernels_notop.h5\n",
            "87916544/87910968 [==============================] - 1s 0us/step\n",
            "87924736/87910968 [==============================] - 1s 0us/step\n"
          ]
        }
      ]
    },
    {
      "cell_type": "code",
      "metadata": {
        "id": "GH6npuJhRukd"
      },
      "source": [
        "base_model.trainable = False"
      ],
      "execution_count": null,
      "outputs": []
    },
    {
      "cell_type": "code",
      "metadata": {
        "id": "3tyZ6UX4Ruke"
      },
      "source": [
        "inputs = keras.Input(shape=(240, 240, 3))\n",
        "# We make sure that the base_model is running in inference mode here,\n",
        "# by passing `training=False`. This is important for fine-tuning, as you will\n",
        "# learn in a few paragraphs.\n",
        "x = base_model(inputs, training=False)\n",
        "# Convert features of shape `base_model.output_shape[1:]` to vectors\n",
        "x = keras.layers.GlobalAveragePooling2D()(x)\n",
        "# A Dense classifier with a single unit (binary classification)\n",
        "outputs = keras.layers.Dense(3)(x)\n",
        "model = keras.Model(inputs, outputs)"
      ],
      "execution_count": null,
      "outputs": []
    },
    {
      "cell_type": "code",
      "metadata": {
        "id": "fx83e3-zRukg"
      },
      "source": [
        "# from keras.callbacks import EarlyStopping\n",
        "# from keras.callbacks import ReduceLROnPlateau\n",
        "from keras.callbacks import CSVLogger\n",
        "from keras.callbacks import ModelCheckpoint\n",
        "\n",
        "\n",
        "# # Define callbacks for learning rate scheduling, logging and best checkpoints saving\n",
        "callbackss = [\n",
        "    ModelCheckpoint('/content/drive/MyDrive/Classification/Radiography database/Models/InceptionV3/InceptionV3.h5', monitor='val_categorical_accuracy', save_best_only=True, mode='max'),\n",
        "#     ReduceLROnPlateau(monitor='val_Dice_coef', factor=0.1, verbose=1, patience=5, mode='max'), ## new_lr = lr * factor # 5\n",
        "#     EarlyStopping(monitor='val_Dice_coef', min_delta=0, verbose=1, patience=15, mode='max', restore_best_weights=True), # 8\n",
        "    CSVLogger('/content/drive/MyDrive/Classification/Radiography database/CSV/InceptionV3.csv',  separator=\",\")\n",
        "]"
      ],
      "execution_count": null,
      "outputs": []
    },
    {
      "cell_type": "code",
      "metadata": {
        "colab": {
          "base_uri": "https://localhost:8080/"
        },
        "id": "wnn1kozJRukh",
        "outputId": "e226fa6f-8612-4584-e5e1-5ae83cee6f7d"
      },
      "source": [
        "from keras.callbacks import History\n",
        "history = History()\n",
        "\n",
        "\n",
        "model.compile(optimizer=keras.optimizers.Adam(),\n",
        "              loss=keras.losses.CategoricalCrossentropy(from_logits=True),\n",
        "              metrics=[keras.metrics.CategoricalAccuracy()])\n",
        "model.fit_generator(train_generator,\n",
        "      epochs=10,callbacks=[history, callbackss],\n",
        "      validation_data=validation_generator,\n",
        "      validation_steps=10)"
      ],
      "execution_count": null,
      "outputs": [
        {
          "output_type": "stream",
          "name": "stderr",
          "text": [
            "/usr/local/lib/python3.7/dist-packages/keras/engine/training.py:1972: UserWarning: `Model.fit_generator` is deprecated and will be removed in a future version. Please use `Model.fit`, which supports generators.\n",
            "  warnings.warn('`Model.fit_generator` is deprecated and '\n"
          ]
        },
        {
          "output_type": "stream",
          "name": "stdout",
          "text": [
            "Epoch 1/10\n",
            "531/531 [==============================] - 189s 344ms/step - loss: 0.4118 - categorical_accuracy: 0.8354 - val_loss: 0.3601 - val_categorical_accuracy: 0.8550\n",
            "Epoch 2/10\n",
            "531/531 [==============================] - 181s 341ms/step - loss: 0.3128 - categorical_accuracy: 0.8754 - val_loss: 0.2411 - val_categorical_accuracy: 0.9100\n",
            "Epoch 3/10\n",
            "531/531 [==============================] - 181s 341ms/step - loss: 0.2937 - categorical_accuracy: 0.8886 - val_loss: 0.4250 - val_categorical_accuracy: 0.8550\n",
            "Epoch 4/10\n",
            "531/531 [==============================] - 181s 342ms/step - loss: 0.2863 - categorical_accuracy: 0.8888 - val_loss: 0.2209 - val_categorical_accuracy: 0.9200\n",
            "Epoch 5/10\n",
            "531/531 [==============================] - 180s 339ms/step - loss: 0.2648 - categorical_accuracy: 0.8991 - val_loss: 0.2454 - val_categorical_accuracy: 0.9150\n",
            "Epoch 6/10\n",
            "531/531 [==============================] - 182s 342ms/step - loss: 0.2558 - categorical_accuracy: 0.9003 - val_loss: 0.2040 - val_categorical_accuracy: 0.9200\n",
            "Epoch 7/10\n",
            "531/531 [==============================] - 180s 339ms/step - loss: 0.2593 - categorical_accuracy: 0.9003 - val_loss: 0.2309 - val_categorical_accuracy: 0.9050\n",
            "Epoch 8/10\n",
            "531/531 [==============================] - 182s 342ms/step - loss: 0.2621 - categorical_accuracy: 0.8985 - val_loss: 0.2186 - val_categorical_accuracy: 0.9050\n",
            "Epoch 9/10\n",
            "531/531 [==============================] - 179s 337ms/step - loss: 0.2613 - categorical_accuracy: 0.9009 - val_loss: 0.1974 - val_categorical_accuracy: 0.9400\n",
            "Epoch 10/10\n",
            "531/531 [==============================] - 181s 341ms/step - loss: 0.2388 - categorical_accuracy: 0.9088 - val_loss: 0.2080 - val_categorical_accuracy: 0.9250\n"
          ]
        },
        {
          "output_type": "execute_result",
          "data": {
            "text/plain": [
              "<keras.callbacks.History at 0x7fe6ec2f73d0>"
            ]
          },
          "metadata": {},
          "execution_count": 58
        }
      ]
    },
    {
      "cell_type": "code",
      "metadata": {
        "colab": {
          "base_uri": "https://localhost:8080/"
        },
        "id": "zAInvdvERukj",
        "outputId": "69b53eaf-dc4a-4658-db30-affdfbe40bd3"
      },
      "source": [
        "print(history.history.keys())"
      ],
      "execution_count": null,
      "outputs": [
        {
          "output_type": "stream",
          "name": "stdout",
          "text": [
            "dict_keys(['loss', 'categorical_accuracy', 'val_loss', 'val_categorical_accuracy'])\n"
          ]
        }
      ]
    },
    {
      "cell_type": "code",
      "metadata": {
        "colab": {
          "base_uri": "https://localhost:8080/"
        },
        "id": "3i0w8DyyRukk",
        "outputId": "f90271d4-711e-4f7c-b0bb-8e1d9c098a36"
      },
      "source": [
        "model.evaluate_generator(train_generator)"
      ],
      "execution_count": null,
      "outputs": [
        {
          "output_type": "stream",
          "name": "stderr",
          "text": [
            "/usr/local/lib/python3.7/dist-packages/keras/engine/training.py:2006: UserWarning: `Model.evaluate_generator` is deprecated and will be removed in a future version. Please use `Model.evaluate`, which supports generators.\n",
            "  warnings.warn('`Model.evaluate_generator` is deprecated and '\n"
          ]
        },
        {
          "output_type": "execute_result",
          "data": {
            "text/plain": [
              "[0.22567445039749146, 0.914105236530304]"
            ]
          },
          "metadata": {},
          "execution_count": 60
        }
      ]
    },
    {
      "cell_type": "code",
      "metadata": {
        "colab": {
          "base_uri": "https://localhost:8080/"
        },
        "id": "ECWYgjCjRukl",
        "outputId": "ac6b4d73-5f82-470a-d87c-040639fabf5e"
      },
      "source": [
        "model.evaluate_generator(validation_generator)"
      ],
      "execution_count": null,
      "outputs": [
        {
          "output_type": "stream",
          "name": "stderr",
          "text": [
            "/usr/local/lib/python3.7/dist-packages/keras/engine/training.py:2006: UserWarning: `Model.evaluate_generator` is deprecated and will be removed in a future version. Please use `Model.evaluate`, which supports generators.\n",
            "  warnings.warn('`Model.evaluate_generator` is deprecated and '\n"
          ]
        },
        {
          "output_type": "execute_result",
          "data": {
            "text/plain": [
              "[0.23409654200077057, 0.909900963306427]"
            ]
          },
          "metadata": {},
          "execution_count": 61
        }
      ]
    },
    {
      "cell_type": "code",
      "metadata": {
        "colab": {
          "base_uri": "https://localhost:8080/"
        },
        "id": "yNg9YAypRukm",
        "outputId": "62d01b1e-7af7-4108-a3bc-e831d7fdb249"
      },
      "source": [
        "model.evaluate(test_generator)"
      ],
      "execution_count": null,
      "outputs": [
        {
          "output_type": "stream",
          "name": "stdout",
          "text": [
            "76/76 [==============================] - 13s 164ms/step - loss: 0.3553 - categorical_accuracy: 0.8642\n"
          ]
        },
        {
          "output_type": "execute_result",
          "data": {
            "text/plain": [
              "[0.35532474517822266, 0.8642056584358215]"
            ]
          },
          "metadata": {},
          "execution_count": 62
        }
      ]
    },
    {
      "cell_type": "code",
      "metadata": {
        "colab": {
          "base_uri": "https://localhost:8080/",
          "height": 295
        },
        "id": "pS5P-fmSRukn",
        "outputId": "631e1d1d-dfca-4de6-ce7f-14d9b23a1478"
      },
      "source": [
        "#plooting the results\n",
        "\n",
        "import matplotlib.pyplot as plt\n",
        "\n",
        "#summarize history for accuracy\n",
        "plt.plot(history.history['categorical_accuracy'])\n",
        "plt.plot(history.history['val_categorical_accuracy'])\n",
        "plt.title('model accuracy')\n",
        "plt.ylabel('accuracy')\n",
        "plt.xlabel('epoch')\n",
        "plt.legend(['train', 'test'], loc='upper left')\n",
        "plt.show()"
      ],
      "execution_count": null,
      "outputs": [
        {
          "output_type": "display_data",
          "data": {
            "image/png": "[encoded data removed]",
            "text/plain": [
              "<Figure size 432x288 with 1 Axes>"
            ]
          },
          "metadata": {
            "needs_background": "light"
          }
        }
      ]
    },
    {
      "cell_type": "code",
      "metadata": {
        "colab": {
          "base_uri": "https://localhost:8080/",
          "height": 295
        },
        "id": "rhC4BnruRukp",
        "outputId": "0f680d1a-20ee-4ab7-91fa-a5b4e2f15678"
      },
      "source": [
        "plt.plot(history.history['loss'])\n",
        "plt.plot(history.history['val_loss'])\n",
        "plt.title('model loss')\n",
        "plt.ylabel('loss')\n",
        "plt.xlabel('epoch')\n",
        "plt.legend(['train', 'test'], loc='upper left')\n",
        "plt.show()"
      ],
      "execution_count": null,
      "outputs": [
        {
          "output_type": "display_data",
          "data": {
            "image/png": "[encoded data removed]",
            "text/plain": [
              "<Figure size 432x288 with 1 Axes>"
            ]
          },
          "metadata": {
            "needs_background": "light"
          }
        }
      ]
    },
    {
      "cell_type": "code",
      "metadata": {
        "colab": {
          "base_uri": "https://localhost:8080/",
          "height": 352
        },
        "id": "OWyXXKVVRukq",
        "outputId": "d9ffcc31-b160-40fa-ccf3-68d4ea35849f"
      },
      "source": [
        "test_generator = test_datagen.flow_from_directory(\n",
        "    directory = test_dir,\n",
        "    class_mode='categorical',\n",
        "   #seed = 42,\n",
        "    batch_size = 20, \n",
        "    shuffle = False,\n",
        "    # subset = 'validation'\n",
        ")\n",
        "\n",
        "# Obtain predictions\n",
        "pred = model.predict_generator(test_generator) # Gives class probabilities\n",
        "pred = np.round(pred) # Gives one-hot encoded classes\n",
        "pred = np.argmax(pred, axis = 1) # Gives class labels\n",
        "\n",
        "# Obtain actual labels\n",
        "actual = test_generator.classes\n",
        "    \n",
        "# Now plot matrix\n",
        "cm = confusion_matrix(actual, pred, labels = [0, 1, 2])\n",
        "sns.heatmap(\n",
        "    cm, \n",
        "    cmap=\"Blues\",\n",
        "    annot = True, \n",
        "    fmt = \"d\"\n",
        ")\n",
        "plt.title('Confusion Matrix')\n",
        "plt.show()"
      ],
      "execution_count": null,
      "outputs": [
        {
          "output_type": "stream",
          "name": "stdout",
          "text": [
            "Found 1517 images belonging to 3 classes.\n"
          ]
        },
        {
          "output_type": "stream",
          "name": "stderr",
          "text": [
            "/usr/local/lib/python3.7/dist-packages/keras/engine/training.py:2035: UserWarning: `Model.predict_generator` is deprecated and will be removed in a future version. Please use `Model.predict`, which supports generators.\n",
            "  warnings.warn('`Model.predict_generator` is deprecated and '\n"
          ]
        },
        {
          "output_type": "display_data",
          "data": {
            "image/png": "[encoded data removed]",
            "text/plain": [
              "<Figure size 432x288 with 2 Axes>"
            ]
          },
          "metadata": {
            "needs_background": "light"
          }
        }
      ]
    },
    {
      "cell_type": "code",
      "metadata": {
        "colab": {
          "base_uri": "https://localhost:8080/"
        },
        "id": "Nep5s72kX8R6",
        "outputId": "0d5f1b90-e3ec-4071-dd05-9686d2161eb7"
      },
      "source": [
        "from sklearn.metrics import classification_report\n",
        "print(classification_report(actual, pred))"
      ],
      "execution_count": null,
      "outputs": [
        {
          "output_type": "stream",
          "name": "stdout",
          "text": [
            "              precision    recall  f1-score   support\n",
            "\n",
            "           0       0.83      0.74      0.78       362\n",
            "           1       0.85      0.95      0.90      1020\n",
            "           2       1.00      0.40      0.57       135\n",
            "\n",
            "    accuracy                           0.85      1517\n",
            "   macro avg       0.89      0.70      0.75      1517\n",
            "weighted avg       0.86      0.85      0.84      1517\n",
            "\n"
          ]
        }
      ]
    },
    {
      "cell_type": "markdown",
      "metadata": {
        "id": "CLvmeHMXZqbU"
      },
      "source": [
        "# VGG16"
      ]
    },
    {
      "cell_type": "code",
      "metadata": {
        "colab": {
          "base_uri": "https://localhost:8080/"
        },
        "id": "R01Grv9tZqb2",
        "outputId": "80d0d600-5291-48fc-aebf-124981511a5c"
      },
      "source": [
        "base_model = keras.applications.VGG16(\n",
        "    weights='imagenet',  # Load weights pre-trained on ImageNet.\n",
        "    input_shape=(240, 240, 3),\n",
        "    include_top=False)  # Do not include the ImageNet classifier at the top."
      ],
      "execution_count": null,
      "outputs": [
        {
          "output_type": "stream",
          "name": "stdout",
          "text": [
            "Downloading data from https://storage.googleapis.com/tensorflow/keras-applications/vgg16/vgg16_weights_tf_dim_ordering_tf_kernels_notop.h5\n",
            "58892288/58889256 [==============================] - 1s 0us/step\n",
            "58900480/58889256 [==============================] - 1s 0us/step\n"
          ]
        }
      ]
    },
    {
      "cell_type": "code",
      "metadata": {
        "id": "-YHFPYuGZqb4"
      },
      "source": [
        "base_model.trainable = False"
      ],
      "execution_count": null,
      "outputs": []
    },
    {
      "cell_type": "code",
      "metadata": {
        "id": "1h4qNrsLZqb5"
      },
      "source": [
        "inputs = keras.Input(shape=(240, 240, 3))\n",
        "# We make sure that the base_model is running in inference mode here,\n",
        "# by passing `training=False`. This is important for fine-tuning, as you will\n",
        "# learn in a few paragraphs.\n",
        "x = base_model(inputs, training=False)\n",
        "# Convert features of shape `base_model.output_shape[1:]` to vectors\n",
        "x = keras.layers.GlobalAveragePooling2D()(x)\n",
        "# A Dense classifier with a single unit (binary classification)\n",
        "outputs = keras.layers.Dense(3)(x)\n",
        "model = keras.Model(inputs, outputs)"
      ],
      "execution_count": null,
      "outputs": []
    },
    {
      "cell_type": "code",
      "metadata": {
        "id": "TgGtrRyLZqb6"
      },
      "source": [
        "# from keras.callbacks import EarlyStopping\n",
        "# from keras.callbacks import ReduceLROnPlateau\n",
        "from keras.callbacks import CSVLogger\n",
        "from keras.callbacks import ModelCheckpoint\n",
        "\n",
        "\n",
        "# # Define callbacks for learning rate scheduling, logging and best checkpoints saving\n",
        "callbackss = [\n",
        "    ModelCheckpoint('/content/drive/MyDrive/Classification/Radiography database/Models/VGG16/VGG16.h5', monitor='val_categorical_accuracy', save_best_only=True, mode='max'),\n",
        "#     ReduceLROnPlateau(monitor='val_Dice_coef', factor=0.1, verbose=1, patience=5, mode='max'), ## new_lr = lr * factor # 5\n",
        "#     EarlyStopping(monitor='val_Dice_coef', min_delta=0, verbose=1, patience=15, mode='max', restore_best_weights=True), # 8\n",
        "    CSVLogger('/content/drive/MyDrive/Classification/Radiography database/CSV/VGG16.csv',  separator=\",\")\n",
        "]"
      ],
      "execution_count": null,
      "outputs": []
    },
    {
      "cell_type": "code",
      "metadata": {
        "colab": {
          "base_uri": "https://localhost:8080/"
        },
        "id": "SSkGwsj5Zqb7",
        "outputId": "b4b93fab-f6bc-44d4-9245-f4b10a25aa70"
      },
      "source": [
        "from keras.callbacks import History\n",
        "history = History()\n",
        "\n",
        "\n",
        "model.compile(optimizer=keras.optimizers.Adam(),\n",
        "              loss=keras.losses.CategoricalCrossentropy(from_logits=True),\n",
        "              metrics=[keras.metrics.CategoricalAccuracy()])\n",
        "model.fit_generator(train_generator,\n",
        "      epochs=10,callbacks=[history, callbackss],\n",
        "      validation_data=validation_generator,\n",
        "      validation_steps=10)"
      ],
      "execution_count": null,
      "outputs": [
        {
          "output_type": "stream",
          "name": "stderr",
          "text": [
            "/usr/local/lib/python3.7/dist-packages/keras/engine/training.py:1972: UserWarning: `Model.fit_generator` is deprecated and will be removed in a future version. Please use `Model.fit`, which supports generators.\n",
            "  warnings.warn('`Model.fit_generator` is deprecated and '\n"
          ]
        },
        {
          "output_type": "stream",
          "name": "stdout",
          "text": [
            "Epoch 1/10\n",
            "531/531 [==============================] - 209s 377ms/step - loss: 0.6583 - categorical_accuracy: 0.7121 - val_loss: 0.5842 - val_categorical_accuracy: 0.7500\n",
            "Epoch 2/10\n",
            "531/531 [==============================] - 198s 372ms/step - loss: 0.5436 - categorical_accuracy: 0.7632 - val_loss: 0.4772 - val_categorical_accuracy: 0.8300\n",
            "Epoch 3/10\n",
            "531/531 [==============================] - 199s 374ms/step - loss: 0.4922 - categorical_accuracy: 0.7955 - val_loss: 0.4594 - val_categorical_accuracy: 0.8400\n",
            "Epoch 4/10\n",
            "531/531 [==============================] - 202s 381ms/step - loss: 0.4621 - categorical_accuracy: 0.8099 - val_loss: 0.4747 - val_categorical_accuracy: 0.8050\n",
            "Epoch 5/10\n",
            "531/531 [==============================] - 198s 373ms/step - loss: 0.4392 - categorical_accuracy: 0.8269 - val_loss: 0.4480 - val_categorical_accuracy: 0.8050\n",
            "Epoch 6/10\n",
            "531/531 [==============================] - 203s 383ms/step - loss: 0.4205 - categorical_accuracy: 0.8347 - val_loss: 0.3434 - val_categorical_accuracy: 0.8800\n",
            "Epoch 7/10\n",
            "531/531 [==============================] - 214s 403ms/step - loss: 0.4095 - categorical_accuracy: 0.8381 - val_loss: 0.4331 - val_categorical_accuracy: 0.8300\n",
            "Epoch 8/10\n",
            "531/531 [==============================] - 206s 388ms/step - loss: 0.3968 - categorical_accuracy: 0.8453 - val_loss: 0.3484 - val_categorical_accuracy: 0.8600\n",
            "Epoch 9/10\n",
            "531/531 [==============================] - 196s 369ms/step - loss: 0.3841 - categorical_accuracy: 0.8532 - val_loss: 0.4113 - val_categorical_accuracy: 0.8350\n",
            "Epoch 10/10\n",
            "531/531 [==============================] - 198s 373ms/step - loss: 0.3760 - categorical_accuracy: 0.8562 - val_loss: 0.3881 - val_categorical_accuracy: 0.8450\n"
          ]
        },
        {
          "output_type": "execute_result",
          "data": {
            "text/plain": [
              "<keras.callbacks.History at 0x7fe6ed9f9b90>"
            ]
          },
          "metadata": {},
          "execution_count": 71
        }
      ]
    },
    {
      "cell_type": "code",
      "metadata": {
        "colab": {
          "base_uri": "https://localhost:8080/"
        },
        "id": "XcPsjhFsZqb8",
        "outputId": "e1d9ab55-5e05-4b07-c98b-dfb513fe39f7"
      },
      "source": [
        "print(history.history.keys())"
      ],
      "execution_count": null,
      "outputs": [
        {
          "output_type": "stream",
          "name": "stdout",
          "text": [
            "dict_keys(['loss', 'categorical_accuracy', 'val_loss', 'val_categorical_accuracy'])\n"
          ]
        }
      ]
    },
    {
      "cell_type": "code",
      "metadata": {
        "colab": {
          "base_uri": "https://localhost:8080/"
        },
        "id": "K49LOBwWZqb9",
        "outputId": "84695399-81c8-46e5-b448-7312e8d0c2b5"
      },
      "source": [
        "model.evaluate_generator(train_generator)"
      ],
      "execution_count": null,
      "outputs": [
        {
          "output_type": "stream",
          "name": "stderr",
          "text": [
            "/usr/local/lib/python3.7/dist-packages/keras/engine/training.py:2006: UserWarning: `Model.evaluate_generator` is deprecated and will be removed in a future version. Please use `Model.evaluate`, which supports generators.\n",
            "  warnings.warn('`Model.evaluate_generator` is deprecated and '\n"
          ]
        },
        {
          "output_type": "execute_result",
          "data": {
            "text/plain": [
              "[0.37125247716903687, 0.8590420484542847]"
            ]
          },
          "metadata": {},
          "execution_count": 73
        }
      ]
    },
    {
      "cell_type": "code",
      "metadata": {
        "colab": {
          "base_uri": "https://localhost:8080/"
        },
        "id": "QoILsdUxZqb-",
        "outputId": "e22e6348-cdcd-43e4-a94c-19e4175fdcf7"
      },
      "source": [
        "model.evaluate_generator(validation_generator)"
      ],
      "execution_count": null,
      "outputs": [
        {
          "output_type": "stream",
          "name": "stderr",
          "text": [
            "/usr/local/lib/python3.7/dist-packages/keras/engine/training.py:2006: UserWarning: `Model.evaluate_generator` is deprecated and will be removed in a future version. Please use `Model.evaluate`, which supports generators.\n",
            "  warnings.warn('`Model.evaluate_generator` is deprecated and '\n"
          ]
        },
        {
          "output_type": "execute_result",
          "data": {
            "text/plain": [
              "[0.36701592803001404, 0.8554455637931824]"
            ]
          },
          "metadata": {},
          "execution_count": 74
        }
      ]
    },
    {
      "cell_type": "code",
      "metadata": {
        "colab": {
          "base_uri": "https://localhost:8080/"
        },
        "id": "Ew8WduZpZqb-",
        "outputId": "61fa065f-d07c-459e-a41f-78520ca5d011"
      },
      "source": [
        "model.evaluate(test_generator)"
      ],
      "execution_count": null,
      "outputs": [
        {
          "output_type": "stream",
          "name": "stdout",
          "text": [
            "76/76 [==============================] - 34s 350ms/step - loss: 0.4153 - categorical_accuracy: 0.8240\n"
          ]
        },
        {
          "output_type": "execute_result",
          "data": {
            "text/plain": [
              "[0.4153132140636444, 0.8239947557449341]"
            ]
          },
          "metadata": {},
          "execution_count": 75
        }
      ]
    },
    {
      "cell_type": "code",
      "metadata": {
        "colab": {
          "base_uri": "https://localhost:8080/"
        },
        "id": "Hy82U9R1Zqb_",
        "outputId": "b76c99fb-9013-4596-c9e2-63a630216941"
      },
      "source": [
        "#plooting the results\n",
        "\n",
        "import matplotlib.pyplot as plt\n",
        "\n",
        "#summarize history for accuracy\n",
        "plt.plot(history.history['categorical_accuracy'])\n",
        "plt.plot(history.history['val_categorical_accuracy'])\n",
        "plt.title('model accuracy')\n",
        "plt.ylabel('accuracy')\n",
        "plt.xlabel('epoch')\n",
        "plt.legend(['train', 'test'], loc='upper left')\n",
        "plt.show()"
      ],
      "execution_count": null,
      "outputs": [
        {
          "output_type": "display_data",
          "data": {
            "image/png": "[encoded data removed]",
            "text/plain": [
              "<Figure size 432x288 with 1 Axes>"
            ]
          },
          "metadata": {
            "needs_background": "light"
          }
        }
      ]
    },
    {
      "cell_type": "code",
      "metadata": {
        "colab": {
          "base_uri": "https://localhost:8080/"
        },
        "id": "SE7kKPU6ZqcB",
        "outputId": "d146e400-8ee1-4ca7-bc26-04d35bdcae28"
      },
      "source": [
        "plt.plot(history.history['loss'])\n",
        "plt.plot(history.history['val_loss'])\n",
        "plt.title('model loss')\n",
        "plt.ylabel('loss')\n",
        "plt.xlabel('epoch')\n",
        "plt.legend(['train', 'test'], loc='upper left')\n",
        "plt.show()"
      ],
      "execution_count": null,
      "outputs": [
        {
          "output_type": "display_data",
          "data": {
            "image/png": "[encoded data removed]",
            "text/plain": [
              "<Figure size 432x288 with 1 Axes>"
            ]
          },
          "metadata": {
            "needs_background": "light"
          }
        }
      ]
    },
    {
      "cell_type": "code",
      "metadata": {
        "colab": {
          "base_uri": "https://localhost:8080/"
        },
        "id": "_wTsyVs6ZqcC",
        "outputId": "dd66eb01-03ac-4f16-8ffb-d4aa9e24789e"
      },
      "source": [
        "test_generator = test_datagen.flow_from_directory(\n",
        "    directory = test_dir,\n",
        "    class_mode='categorical',\n",
        "   #seed = 42,\n",
        "    batch_size = 20, \n",
        "    shuffle = False,\n",
        "    # subset = 'validation'\n",
        ")\n",
        "\n",
        "# Obtain predictions\n",
        "pred = model.predict_generator(test_generator) # Gives class probabilities\n",
        "pred = np.round(pred) # Gives one-hot encoded classes\n",
        "pred = np.argmax(pred, axis = 1) # Gives class labels\n",
        "\n",
        "# Obtain actual labels\n",
        "actual = test_generator.classes\n",
        "    \n",
        "# Now plot matrix\n",
        "cm = confusion_matrix(actual, pred, labels = [0, 1, 2])\n",
        "sns.heatmap(\n",
        "    cm, \n",
        "    cmap=\"Blues\",\n",
        "    annot = True, \n",
        "    fmt = \"d\"\n",
        ")\n",
        "plt.title('Confusion Matrix')\n",
        "plt.show()"
      ],
      "execution_count": null,
      "outputs": [
        {
          "output_type": "stream",
          "name": "stdout",
          "text": [
            "Found 1517 images belonging to 3 classes.\n"
          ]
        },
        {
          "output_type": "stream",
          "name": "stderr",
          "text": [
            "/usr/local/lib/python3.7/dist-packages/keras/engine/training.py:2035: UserWarning: `Model.predict_generator` is deprecated and will be removed in a future version. Please use `Model.predict`, which supports generators.\n",
            "  warnings.warn('`Model.predict_generator` is deprecated and '\n"
          ]
        },
        {
          "output_type": "display_data",
          "data": {
            "image/png": "[encoded data removed]",
            "text/plain": [
              "<Figure size 432x288 with 2 Axes>"
            ]
          },
          "metadata": {
            "needs_background": "light"
          }
        }
      ]
    },
    {
      "cell_type": "code",
      "metadata": {
        "colab": {
          "base_uri": "https://localhost:8080/"
        },
        "id": "LLB8LmH8ZqcD",
        "outputId": "6f8236b7-a530-4603-c6a7-68ba6431a4d2"
      },
      "source": [
        "from sklearn.metrics import classification_report\n",
        "print(classification_report(actual, pred))"
      ],
      "execution_count": null,
      "outputs": [
        {
          "output_type": "stream",
          "name": "stdout",
          "text": [
            "              precision    recall  f1-score   support\n",
            "\n",
            "           0       0.63      0.81      0.71       362\n",
            "           1       0.87      0.85      0.86      1020\n",
            "           2       1.00      0.35      0.52       135\n",
            "\n",
            "    accuracy                           0.80      1517\n",
            "   macro avg       0.83      0.67      0.69      1517\n",
            "weighted avg       0.82      0.80      0.79      1517\n",
            "\n"
          ]
        }
      ]
    },
    {
      "cell_type": "markdown",
      "metadata": {
        "id": "Md6btxtsZ3DT"
      },
      "source": [
        "# VGG19"
      ]
    },
    {
      "cell_type": "code",
      "metadata": {
        "id": "f_OCusqPZ3DV"
      },
      "source": [
        "base_model = keras.applications.VGG19(\n",
        "    weights='imagenet',  # Load weights pre-trained on ImageNet.\n",
        "    input_shape=(240, 240, 3),\n",
        "    include_top=False)  # Do not include the ImageNet classifier at the top."
      ],
      "execution_count": null,
      "outputs": []
    },
    {
      "cell_type": "code",
      "metadata": {
        "id": "ktemHyFKZ3DX"
      },
      "source": [
        "base_model.trainable = False"
      ],
      "execution_count": null,
      "outputs": []
    },
    {
      "cell_type": "code",
      "metadata": {
        "id": "tVTy2nScZ3DY"
      },
      "source": [
        "inputs = keras.Input(shape=(240, 240, 3))\n",
        "# We make sure that the base_model is running in inference mode here,\n",
        "# by passing `training=False`. This is important for fine-tuning, as you will\n",
        "# learn in a few paragraphs.\n",
        "x = base_model(inputs, training=False)\n",
        "# Convert features of shape `base_model.output_shape[1:]` to vectors\n",
        "x = keras.layers.GlobalAveragePooling2D()(x)\n",
        "# A Dense classifier with a single unit (binary classification)\n",
        "outputs = keras.layers.Dense(3)(x)\n",
        "model = keras.Model(inputs, outputs)"
      ],
      "execution_count": null,
      "outputs": []
    },
    {
      "cell_type": "code",
      "metadata": {
        "id": "HiBV7ZvwZ3DZ"
      },
      "source": [
        "# from keras.callbacks import EarlyStopping\n",
        "# from keras.callbacks import ReduceLROnPlateau\n",
        "from keras.callbacks import CSVLogger\n",
        "from keras.callbacks import ModelCheckpoint\n",
        "\n",
        "\n",
        "# # Define callbacks for learning rate scheduling, logging and best checkpoints saving\n",
        "callbackss = [\n",
        "    ModelCheckpoint('/content/drive/MyDrive/Classification/Radiography database/Models/VGG19/VGG19.h5', monitor='val_categorical_accuracy', save_best_only=True, mode='max'),\n",
        "#     ReduceLROnPlateau(monitor='val_Dice_coef', factor=0.1, verbose=1, patience=5, mode='max'), ## new_lr = lr * factor # 5\n",
        "#     EarlyStopping(monitor='val_Dice_coef', min_delta=0, verbose=1, patience=15, mode='max', restore_best_weights=True), # 8\n",
        "    CSVLogger('/content/drive/MyDrive/Classification/Radiography database/CSV/VGG19.csv',  separator=\",\")\n",
        "]"
      ],
      "execution_count": null,
      "outputs": []
    },
    {
      "cell_type": "code",
      "metadata": {
        "id": "wH-MZ8wwZ3Da",
        "colab": {
          "base_uri": "https://localhost:8080/"
        },
        "outputId": "cfb40bbb-3a84-4d97-a845-5f0be2b22c23"
      },
      "source": [
        "from keras.callbacks import History\n",
        "history = History()\n",
        "\n",
        "\n",
        "model.compile(optimizer=keras.optimizers.Adam(),\n",
        "              loss=keras.losses.CategoricalCrossentropy(from_logits=True),\n",
        "              metrics=[keras.metrics.CategoricalAccuracy()])\n",
        "model.fit_generator(train_generator,\n",
        "      epochs=10,callbacks=[history, callbackss],\n",
        "      validation_data=validation_generator,\n",
        "      validation_steps=10)"
      ],
      "execution_count": null,
      "outputs": [
        {
          "metadata": {
            "tags": null
          },
          "name": "stderr",
          "output_type": "stream",
          "text": [
            "/usr/local/lib/python3.7/dist-packages/keras/engine/training.py:1972: UserWarning: `Model.fit_generator` is deprecated and will be removed in a future version. Please use `Model.fit`, which supports generators.\n",
            "  warnings.warn('`Model.fit_generator` is deprecated and '\n"
          ]
        },
        {
          "output_type": "stream",
          "name": "stdout",
          "text": [
            "Epoch 1/10\n",
            "332/332 [==============================] - 215s 612ms/step - loss: 0.7203 - categorical_accuracy: 0.6896 - val_loss: 0.6410 - val_categorical_accuracy: 0.7031\n",
            "Epoch 2/10\n",
            "332/332 [==============================] - 193s 580ms/step - loss: 0.6244 - categorical_accuracy: 0.7129 - val_loss: 0.6126 - val_categorical_accuracy: 0.7375\n",
            "Epoch 3/10\n",
            "332/332 [==============================] - 193s 581ms/step - loss: 0.5871 - categorical_accuracy: 0.7281 - val_loss: 0.5888 - val_categorical_accuracy: 0.7406\n",
            "Epoch 4/10\n",
            "332/332 [==============================] - 194s 584ms/step - loss: 0.5539 - categorical_accuracy: 0.7467 - val_loss: 0.5527 - val_categorical_accuracy: 0.7281\n",
            "Epoch 5/10\n",
            "332/332 [==============================] - 195s 585ms/step - loss: 0.5314 - categorical_accuracy: 0.7632 - val_loss: 0.5319 - val_categorical_accuracy: 0.7625\n",
            "Epoch 6/10\n",
            "332/332 [==============================] - 195s 586ms/step - loss: 0.5197 - categorical_accuracy: 0.7739 - val_loss: 0.5106 - val_categorical_accuracy: 0.7719\n",
            "Epoch 7/10\n",
            "332/332 [==============================] - 195s 586ms/step - loss: 0.5018 - categorical_accuracy: 0.7797 - val_loss: 0.5359 - val_categorical_accuracy: 0.7344\n",
            "Epoch 8/10\n",
            "332/332 [==============================] - 197s 592ms/step - loss: 0.4945 - categorical_accuracy: 0.7868 - val_loss: 0.5021 - val_categorical_accuracy: 0.7906\n",
            "Epoch 9/10\n",
            "332/332 [==============================] - 201s 605ms/step - loss: 0.4773 - categorical_accuracy: 0.8009 - val_loss: 0.4797 - val_categorical_accuracy: 0.8000\n",
            "Epoch 10/10\n",
            "332/332 [==============================] - 200s 601ms/step - loss: 0.4721 - categorical_accuracy: 0.8019 - val_loss: 0.4620 - val_categorical_accuracy: 0.7906\n"
          ]
        },
        {
          "output_type": "execute_result",
          "data": {
            "text/plain": [
              "<keras.callbacks.History at 0x7f54c02ce150>"
            ]
          },
          "metadata": {},
          "execution_count": 37
        }
      ]
    },
    {
      "cell_type": "code",
      "metadata": {
        "id": "llRwUiAXZ3Db",
        "colab": {
          "base_uri": "https://localhost:8080/"
        },
        "outputId": "0bf3919a-ca83-49cc-d26a-f62ef86d1181"
      },
      "source": [
        "print(history.history.keys())"
      ],
      "execution_count": null,
      "outputs": [
        {
          "output_type": "stream",
          "name": "stdout",
          "text": [
            "dict_keys(['loss', 'categorical_accuracy', 'val_loss', 'val_categorical_accuracy'])\n"
          ]
        }
      ]
    },
    {
      "cell_type": "code",
      "metadata": {
        "id": "lnD7bGROZ3Dc",
        "colab": {
          "base_uri": "https://localhost:8080/"
        },
        "outputId": "7f4151e4-9f98-4dc4-f062-bd9bfe6e8fff"
      },
      "source": [
        "model.evaluate_generator(train_generator)"
      ],
      "execution_count": null,
      "outputs": [
        {
          "output_type": "stream",
          "name": "stderr",
          "text": [
            "/usr/local/lib/python3.7/dist-packages/keras/engine/training.py:2006: UserWarning: `Model.evaluate_generator` is deprecated and will be removed in a future version. Please use `Model.evaluate`, which supports generators.\n",
            "  warnings.warn('`Model.evaluate_generator` is deprecated and '\n"
          ]
        },
        {
          "output_type": "execute_result",
          "data": {
            "text/plain": [
              "[0.46735328435897827, 0.8067131638526917]"
            ]
          },
          "metadata": {},
          "execution_count": 39
        }
      ]
    },
    {
      "cell_type": "code",
      "metadata": {
        "id": "DfLN7XOLZ3Dd",
        "colab": {
          "base_uri": "https://localhost:8080/"
        },
        "outputId": "04599ced-8634-474e-f611-f96d01d7fdb5"
      },
      "source": [
        "model.evaluate_generator(validation_generator)"
      ],
      "execution_count": null,
      "outputs": [
        {
          "output_type": "stream",
          "name": "stderr",
          "text": [
            "/usr/local/lib/python3.7/dist-packages/keras/engine/training.py:2006: UserWarning: `Model.evaluate_generator` is deprecated and will be removed in a future version. Please use `Model.evaluate`, which supports generators.\n",
            "  warnings.warn('`Model.evaluate_generator` is deprecated and '\n"
          ]
        },
        {
          "output_type": "execute_result",
          "data": {
            "text/plain": [
              "[0.471310019493103, 0.800990104675293]"
            ]
          },
          "metadata": {},
          "execution_count": 40
        }
      ]
    },
    {
      "cell_type": "code",
      "metadata": {
        "id": "zwxLREUIZ3De",
        "colab": {
          "base_uri": "https://localhost:8080/"
        },
        "outputId": "e84aacb4-0ab0-45d6-ab6c-c44ba34e611e"
      },
      "source": [
        "model.evaluate(test_generator)"
      ],
      "execution_count": null,
      "outputs": [
        {
          "output_type": "stream",
          "name": "stdout",
          "text": [
            "48/48 [==============================] - 20s 426ms/step - loss: 0.4729 - categorical_accuracy: 0.7943\n"
          ]
        },
        {
          "output_type": "execute_result",
          "data": {
            "text/plain": [
              "[0.4729199707508087, 0.794330894947052]"
            ]
          },
          "metadata": {},
          "execution_count": 41
        }
      ]
    },
    {
      "cell_type": "code",
      "metadata": {
        "id": "JBiSFBktZ3Df",
        "colab": {
          "base_uri": "https://localhost:8080/",
          "height": 295
        },
        "outputId": "d0d4c4e2-f549-4f77-f0bd-4a00073d33c4"
      },
      "source": [
        "#plooting the results\n",
        "\n",
        "import matplotlib.pyplot as plt\n",
        "\n",
        "#summarize history for accuracy\n",
        "plt.plot(history.history['categorical_accuracy'])\n",
        "plt.plot(history.history['val_categorical_accuracy'])\n",
        "plt.title('model accuracy')\n",
        "plt.ylabel('accuracy')\n",
        "plt.xlabel('epoch')\n",
        "plt.legend(['train', 'test'], loc='upper left')\n",
        "plt.show()"
      ],
      "execution_count": null,
      "outputs": [
        {
          "output_type": "display_data",
          "data": {
            "image/png": "[encoded data removed]",
            "text/plain": [
              "<Figure size 432x288 with 1 Axes>"
            ]
          },
          "metadata": {
            "needs_background": "light"
          }
        }
      ]
    },
    {
      "cell_type": "code",
      "metadata": {
        "id": "kBtukaDqZ3Dg",
        "colab": {
          "base_uri": "https://localhost:8080/",
          "height": 295
        },
        "outputId": "3c9da720-87b6-40ba-bc6c-bfd18765e01b"
      },
      "source": [
        "plt.plot(history.history['loss'])\n",
        "plt.plot(history.history['val_loss'])\n",
        "plt.title('model loss')\n",
        "plt.ylabel('loss')\n",
        "plt.xlabel('epoch')\n",
        "plt.legend(['train', 'test'], loc='upper left')\n",
        "plt.show()"
      ],
      "execution_count": null,
      "outputs": [
        {
          "output_type": "display_data",
          "data": {
            "image/png": "[encoded data removed]",
            "text/plain": [
              "<Figure size 432x288 with 1 Axes>"
            ]
          },
          "metadata": {
            "needs_background": "light"
          }
        }
      ]
    },
    {
      "cell_type": "code",
      "metadata": {
        "id": "0gOoZJJvZ3Dh",
        "colab": {
          "base_uri": "https://localhost:8080/",
          "height": 352
        },
        "outputId": "ada160b4-5c88-4997-e387-f773a45157ce"
      },
      "source": [
        "test_generator = test_datagen.flow_from_directory(\n",
        "    directory = test_dir,\n",
        "    class_mode='categorical',\n",
        "   #seed = 42,\n",
        "    batch_size = 20, \n",
        "    shuffle = False,\n",
        "    # subset = 'validation'\n",
        ")\n",
        "\n",
        "# Obtain predictions\n",
        "pred = model.predict_generator(test_generator) # Gives class probabilities\n",
        "pred = np.round(pred) # Gives one-hot encoded classes\n",
        "pred = np.argmax(pred, axis = 1) # Gives class labels\n",
        "\n",
        "# Obtain actual labels\n",
        "actual = test_generator.classes\n",
        "    \n",
        "# Now plot matrix\n",
        "cm = confusion_matrix(actual, pred, labels = [0, 1, 2])\n",
        "sns.heatmap(\n",
        "    cm, \n",
        "    cmap=\"Blues\",\n",
        "    annot = True, \n",
        "    fmt = \"d\"\n",
        ")\n",
        "plt.title('Confusion Matrix')\n",
        "plt.show()"
      ],
      "execution_count": null,
      "outputs": [
        {
          "output_type": "stream",
          "name": "stdout",
          "text": [
            "Found 1517 images belonging to 3 classes.\n"
          ]
        },
        {
          "output_type": "stream",
          "name": "stderr",
          "text": [
            "/usr/local/lib/python3.7/dist-packages/keras/engine/training.py:2035: UserWarning: `Model.predict_generator` is deprecated and will be removed in a future version. Please use `Model.predict`, which supports generators.\n",
            "  warnings.warn('`Model.predict_generator` is deprecated and '\n"
          ]
        },
        {
          "output_type": "display_data",
          "data": {
            "image/png": "[encoded data removed]",
            "text/plain": [
              "<Figure size 432x288 with 2 Axes>"
            ]
          },
          "metadata": {
            "needs_background": "light"
          }
        }
      ]
    },
    {
      "cell_type": "code",
      "metadata": {
        "id": "1a2K6nChZ3Di",
        "colab": {
          "base_uri": "https://localhost:8080/"
        },
        "outputId": "a9f68308-7d39-4b0c-e4cc-a30ac0d8837e"
      },
      "source": [
        "from sklearn.metrics import classification_report\n",
        "print(classification_report(actual, pred))"
      ],
      "execution_count": null,
      "outputs": [
        {
          "output_type": "stream",
          "name": "stdout",
          "text": [
            "              precision    recall  f1-score   support\n",
            "\n",
            "           0       0.60      0.73      0.66       362\n",
            "           1       0.86      0.84      0.85      1020\n",
            "           2       0.96      0.50      0.66       135\n",
            "\n",
            "    accuracy                           0.79      1517\n",
            "   macro avg       0.80      0.69      0.72      1517\n",
            "weighted avg       0.80      0.79      0.79      1517\n",
            "\n"
          ]
        }
      ]
    }
  ]
}